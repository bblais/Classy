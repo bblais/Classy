{
 "cells": [
  {
   "cell_type": "code",
   "execution_count": 1,
   "metadata": {
    "collapsed": false
   },
   "outputs": [
    {
     "name": "stdout",
     "output_type": "stream",
     "text": [
      "Populating the interactive namespace from numpy and matplotlib\n",
      "Version:  0.0.15\n"
     ]
    }
   ],
   "source": [
    "%pylab inline\n",
    "from classy import *"
   ]
  },
  {
   "cell_type": "code",
   "execution_count": 2,
   "metadata": {
    "collapsed": false
   },
   "outputs": [
    {
     "name": "stdout",
     "output_type": "stream",
     "text": [
      "iris.data 151 5\n",
      "150 vectors of length 4\n",
      "Feature names: 'petal length in cm', 'petal width in cm', 'sepal length in cm', 'sepal width in cm'\n",
      "Target values given.\n",
      "Target names: 'Iris-setosa', 'Iris-versicolor', 'Iris-virginica'\n",
      "Mean:  [ 3.75866667  1.19866667  5.84333333  3.054     ]\n",
      "Median:  [ 4.35  1.3   5.8   3.  ]\n",
      "Stddev:  [ 1.75852918  0.76061262  0.82530129  0.43214658]\n"
     ]
    }
   ],
   "source": [
    "data=load_excel('data/iris.xls',verbose=True)"
   ]
  },
  {
   "cell_type": "code",
   "execution_count": 3,
   "metadata": {
    "collapsed": true
   },
   "outputs": [],
   "source": [
    "data_train=extract_features(data,[2,3])\n"
   ]
  },
  {
   "cell_type": "code",
   "execution_count": 4,
   "metadata": {
    "collapsed": true
   },
   "outputs": [],
   "source": [
    "C=CSC()"
   ]
  },
  {
   "cell_type": "code",
   "execution_count": 5,
   "metadata": {
    "collapsed": false
   },
   "outputs": [
    {
     "name": "stdout",
     "output_type": "stream",
     "text": [
      "Time Reset\n",
      "Training time:  0.06154680252075195 seconds \n"
     ]
    }
   ],
   "source": [
    "timeit(reset=True)\n",
    "C.fit(data_train.vectors,data_train.targets)\n",
    "print(\"Training time: \",timeit())"
   ]
  },
  {
   "cell_type": "code",
   "execution_count": 6,
   "metadata": {
    "collapsed": false
   },
   "outputs": [
    {
     "data": {
      "text/plain": [
       "92.0"
      ]
     },
     "execution_count": 6,
     "metadata": {},
     "output_type": "execute_result"
    }
   ],
   "source": [
    "C.percent_correct(data_train.vectors,data_train.targets)"
   ]
  },
  {
   "cell_type": "code",
   "execution_count": null,
   "metadata": {
    "collapsed": true
   },
   "outputs": [],
   "source": []
  }
 ],
 "metadata": {
  "kernelspec": {
   "display_name": "Python [Root]",
   "language": "python",
   "name": "Python [Root]"
  },
  "language_info": {
   "codemirror_mode": {
    "name": "ipython",
    "version": 3
   },
   "file_extension": ".py",
   "mimetype": "text/x-python",
   "name": "python",
   "nbconvert_exporter": "python",
   "pygments_lexer": "ipython3",
   "version": "3.5.2"
  }
 },
 "nbformat": 4,
 "nbformat_minor": 0
}
