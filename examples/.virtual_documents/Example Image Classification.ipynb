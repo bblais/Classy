%pylab inline
from classy import *


images=image.load_images('data/films')





images=image.load_images('data/digits')


data=image.images_to_vectors(images)


data.vectors.shape


data_train,data_test=split(data)





image.vector_to_image(data_train.vectors[800,:],(8,8))





image.vector_to_image(data_train.vectors[800,:],(8,8),'test.png')





C=NaiveBayes()


timeit(reset=True)
C.fit(data_train.vectors,data_train.targets)
print(("Training time: ",timeit()))


print(("On Training Set:",C.percent_correct(data_train.vectors,data_train.targets)))
print(("On Test Set:",C.percent_correct(data_test.vectors,data_test.targets)))


C=CSC()


timeit(reset=True)
C.fit(data_train.vectors,data_train.targets)
print(("Training time: ",timeit()))


print(("On Training Set:",C.percent_correct(data_train.vectors,data_train.targets)))
print(("On Test Set:",C.percent_correct(data_test.vectors,data_test.targets)))








from classy import *





data=image.load_images_from_filepatterns(this='data/digits/*/133*.png',
                                         that='data/digits/*/123*.png',
                                         )


summary(data)



