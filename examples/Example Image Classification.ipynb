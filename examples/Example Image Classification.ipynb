{
 "cells": [
  {
   "cell_type": "code",
   "execution_count": 1,
   "metadata": {
    "collapsed": false,
    "jupyter": {
     "outputs_hidden": false
    }
   },
   "outputs": [
    {
     "name": "stdout",
     "output_type": "stream",
     "text": [
      "%pylab is deprecated, use %matplotlib inline and import the required libraries.\n",
      "Populating the interactive namespace from numpy and matplotlib\n",
      "Version  1.0.6\n",
      "Version:  0.0.34\n"
     ]
    }
   ],
   "source": [
    "%pylab inline\n",
    "from classy import *"
   ]
  },
  {
   "cell_type": "code",
   "execution_count": 2,
   "metadata": {},
   "outputs": [
    {
     "name": "stdout",
     "output_type": "stream",
     "text": [
      "[test]: 0 files found\n",
      "[train]: 0 files found\n"
     ]
    },
    {
     "name": "stderr",
     "output_type": "stream",
     "text": [
      "/Users/bblais/python/work/classy/examples/classy/image.py:349: UserWarning: Look's like your folders are not organized as expected. We're expecting something like\n",
      "data/films/\n",
      "    target_name1/\n",
      "        image1.jpg                    \n",
      "        image2.jpg                    \n",
      "        image3.jpg                    \n",
      "    target_name2/\n",
      "        image4.jpg                    \n",
      "        image5.jpg                    \n",
      "        image6.jpg                    \n",
      "etc...                    \n",
      "                    \n",
      "  warnings.warn(\"\"\"Look's like your folders are not organized as expected. We're expecting something like\n"
     ]
    }
   ],
   "source": [
    "images=image.load_images('data/films')"
   ]
  },
  {
   "cell_type": "markdown",
   "metadata": {},
   "source": [
    "## Load the Images and Reshape into vectors-targets"
   ]
  },
  {
   "cell_type": "code",
   "execution_count": 3,
   "metadata": {
    "collapsed": false,
    "jupyter": {
     "outputs_hidden": false
    }
   },
   "outputs": [
    {
     "name": "stdout",
     "output_type": "stream",
     "text": [
      "[9]: 180 files found\n",
      "[0]: 178 files found\n",
      "[7]: 179 files found\n",
      "[6]: 181 files found\n",
      "[1]: 182 files found\n",
      "[8]: 174 files found\n",
      "[4]: 181 files found\n",
      "[3]: 183 files found\n",
      "[2]: 177 files found\n",
      "[5]: 182 files found\n"
     ]
    }
   ],
   "source": [
    "images=image.load_images('data/digits')"
   ]
  },
  {
   "cell_type": "code",
   "execution_count": 4,
   "metadata": {
    "collapsed": false,
    "jupyter": {
     "outputs_hidden": false
    }
   },
   "outputs": [
    {
     "name": "stdout",
     "output_type": "stream",
     "text": [
      "1797 vectors of length 64\n",
      "Feature names: 'p0', 'p1', 'p2', 'p3', 'p4'  , ... ,  'p59', 'p60', 'p61', 'p62', 'p63'  (64 features)\n",
      "Target values given.\n",
      "Target names: '9', '0', '7', '6', '1', '8', '4', '3', '2', '5'\n",
      "Mean:  [0.00000000e+00 4.71341124e+00 8.25158598e+01 1.88401224e+02\n",
      " 1.88589872e+02 9.17840846e+01 2.15581525e+01 2.04785754e+00\n",
      " 8.51419032e-02 3.14913745e+01 1.65203116e+02 1.90677240e+02\n",
      " 1.63504174e+02 1.30023372e+02 2.92036728e+01 1.70005565e+00\n",
      " 4.22927101e-02 4.11185309e+01 1.57575960e+02 1.11080690e+02\n",
      " 1.12814691e+02 1.24173066e+02 2.82609905e+01 7.82971619e-01\n",
      " 1.66944908e-02 3.90011130e+01 1.44642181e+02 1.40286589e+02\n",
      " 1.58007791e+02 1.20022816e+02 3.66889260e+01 3.33889816e-02\n",
      " 0.00000000e+00 3.70083472e+01 1.21928770e+02 1.44347245e+02\n",
      " 1.63978854e+02 1.39081803e+02 4.60222593e+01 0.00000000e+00\n",
      " 1.37451308e-01 2.49860879e+01 1.09460768e+02 1.14961046e+02\n",
      " 1.21993879e+02 1.30974958e+02 5.47762938e+01 4.24040067e-01\n",
      " 1.13522538e-01 1.10378408e+01 1.19312187e+02 1.51698943e+02\n",
      " 1.49728993e+02 1.39340011e+02 5.90962716e+01 3.23873122e+00\n",
      " 8.34724541e-03 4.34780189e+00 8.81591541e+01 1.92462994e+02\n",
      " 1.88009460e+02 1.07495826e+02 3.27490262e+01 5.77072899e+00]\n",
      "Median:  [  0.   0.  63. 207. 207.  63.   0.   0.   0.   0. 191. 207. 175. 143.\n",
      "   0.   0.   0.  15. 191.  95.  95. 127.   0.   0.   0.  15. 175. 159.\n",
      " 191. 111.   0.   0.   0.   0. 127. 159. 207. 159.  15.   0.   0.   0.\n",
      "  95. 111. 127. 143.  15.   0.   0.   0. 127. 159. 159. 159.  15.   0.\n",
      "   0.   0.  63. 207. 223.  95.   0.   0.]\n",
      "Stddev:  [  0.          14.22717752  75.79479369  67.88517638  68.52232671\n",
      "  90.3581085   52.88625131  16.47216306   1.44842195  50.7576493\n",
      "  86.55422116  63.60290344  76.42760101  96.53740043  57.02565325\n",
      "  13.11647513   0.95321433  56.84679424  90.80932368  92.58050776\n",
      "  98.50000012  98.78779801  51.79075122   6.90387772   0.50013864\n",
      "  49.94970201  98.7781811   93.88418435  98.12528728  93.67899482\n",
      "  58.58726878   0.70690869   0.          55.28329868 100.86027538\n",
      "  99.97913895  94.64396922  93.64015167  56.19204049   0.\n",
      "   2.26156209  47.3537032  104.20244968 102.68526906  99.83278433\n",
      "  90.82739038  68.89733343   4.82912707   3.23145722  27.62316404\n",
      "  90.02004928  83.47815394  84.68687626  96.17533855  78.31457884\n",
      "  15.55049191   0.35374992  14.68333191  81.36743295  69.86967274\n",
      "  78.76953994  94.07347801  65.09626368  29.57005528]\n"
     ]
    }
   ],
   "source": [
    "data=image.images_to_vectors(images)"
   ]
  },
  {
   "cell_type": "code",
   "execution_count": 5,
   "metadata": {
    "collapsed": false,
    "jupyter": {
     "outputs_hidden": false
    }
   },
   "outputs": [
    {
     "data": {
      "text/plain": [
       "(1797, 64)"
      ]
     },
     "execution_count": 5,
     "metadata": {},
     "output_type": "execute_result"
    }
   ],
   "source": [
    "data.vectors.shape"
   ]
  },
  {
   "cell_type": "code",
   "execution_count": 6,
   "metadata": {
    "collapsed": false,
    "jupyter": {
     "outputs_hidden": false
    }
   },
   "outputs": [
    {
     "name": "stdout",
     "output_type": "stream",
     "text": [
      "Original vector shape:  (1797, 64)\n",
      "Train vector shape:  (1347, 64)\n",
      "Test vector shape:  (450, 64)\n"
     ]
    }
   ],
   "source": [
    "data_train,data_test=split(data)"
   ]
  },
  {
   "cell_type": "markdown",
   "metadata": {},
   "source": [
    "## View one of the vectors, and possibly save it to a file"
   ]
  },
  {
   "cell_type": "code",
   "execution_count": 7,
   "metadata": {
    "collapsed": false,
    "jupyter": {
     "outputs_hidden": false
    }
   },
   "outputs": [
    {
     "data": {
      "image/png": "[encoded data removed]",
      "text/plain": [
       "<Figure size 720x576 with 1 Axes>"
      ]
     },
     "metadata": {
      "needs_background": "light"
     },
     "output_type": "display_data"
    }
   ],
   "source": [
    "image.vector_to_image(data_train.vectors[800,:],(8,8))"
   ]
  },
  {
   "cell_type": "markdown",
   "metadata": {},
   "source": [
    "only do this if you want to save the actual image"
   ]
  },
  {
   "cell_type": "code",
   "execution_count": 8,
   "metadata": {
    "collapsed": false,
    "jupyter": {
     "outputs_hidden": false
    }
   },
   "outputs": [],
   "source": [
    "image.vector_to_image(data_train.vectors[800,:],(8,8),'test.png')"
   ]
  },
  {
   "cell_type": "markdown",
   "metadata": {},
   "source": [
    "## Classification"
   ]
  },
  {
   "cell_type": "code",
   "execution_count": 9,
   "metadata": {
    "collapsed": false,
    "jupyter": {
     "outputs_hidden": false
    }
   },
   "outputs": [],
   "source": [
    "C=NaiveBayes()"
   ]
  },
  {
   "cell_type": "code",
   "execution_count": 10,
   "metadata": {
    "collapsed": false,
    "jupyter": {
     "outputs_hidden": false
    }
   },
   "outputs": [
    {
     "name": "stdout",
     "output_type": "stream",
     "text": [
      "Time Reset\n",
      "('Training time: ', '0.0041239261627197266 seconds ')\n"
     ]
    }
   ],
   "source": [
    "timeit(reset=True)\n",
    "C.fit(data_train.vectors,data_train.targets)\n",
    "print((\"Training time: \",timeit()))"
   ]
  },
  {
   "cell_type": "code",
   "execution_count": 11,
   "metadata": {
    "collapsed": false,
    "jupyter": {
     "outputs_hidden": false
    }
   },
   "outputs": [
    {
     "name": "stdout",
     "output_type": "stream",
     "text": [
      "('On Training Set:', 92.87305122494432)\n",
      "('On Test Set:', 91.11111111111111)\n"
     ]
    }
   ],
   "source": [
    "print((\"On Training Set:\",C.percent_correct(data_train.vectors,data_train.targets)))\n",
    "print((\"On Test Set:\",C.percent_correct(data_test.vectors,data_test.targets)))"
   ]
  },
  {
   "cell_type": "code",
   "execution_count": 12,
   "metadata": {
    "collapsed": false,
    "jupyter": {
     "outputs_hidden": false
    }
   },
   "outputs": [],
   "source": [
    "C=CSC()"
   ]
  },
  {
   "cell_type": "code",
   "execution_count": 13,
   "metadata": {
    "collapsed": false,
    "jupyter": {
     "outputs_hidden": false
    }
   },
   "outputs": [
    {
     "name": "stdout",
     "output_type": "stream",
     "text": [
      "Time Reset\n",
      "('Training time: ', '0.8062427043914795 seconds ')\n"
     ]
    }
   ],
   "source": [
    "timeit(reset=True)\n",
    "C.fit(data_train.vectors,data_train.targets)\n",
    "print((\"Training time: \",timeit()))"
   ]
  },
  {
   "cell_type": "code",
   "execution_count": 14,
   "metadata": {
    "collapsed": false,
    "jupyter": {
     "outputs_hidden": false
    }
   },
   "outputs": [
    {
     "name": "stdout",
     "output_type": "stream",
     "text": [
      "('On Training Set:', 100.0)\n",
      "('On Test Set:', 96.22222222222221)\n"
     ]
    }
   ],
   "source": [
    "print((\"On Training Set:\",C.percent_correct(data_train.vectors,data_train.targets)))\n",
    "print((\"On Test Set:\",C.percent_correct(data_test.vectors,data_test.targets)))"
   ]
  },
  {
   "cell_type": "markdown",
   "metadata": {},
   "source": [
    "## Footnote"
   ]
  },
  {
   "cell_type": "markdown",
   "metadata": {},
   "source": [
    "### Loading Files with Patterns\n",
    "\n",
    "Here is a little note about how to load data from folders, using the filenames and not the folder structure.  "
   ]
  },
  {
   "cell_type": "code",
   "execution_count": 15,
   "metadata": {
    "collapsed": false,
    "jupyter": {
     "outputs_hidden": false
    }
   },
   "outputs": [],
   "source": [
    "from classy import *"
   ]
  },
  {
   "cell_type": "markdown",
   "metadata": {},
   "source": [
    "here the pattern translates to (note the asterisks \"*\" in the pattern)\n",
    "\n",
    "* \"data/digits/(all folders)/(any .png file starting with 133)\"\n",
    "* \"data/digits/(all folders)/(any .png file starting with 123)\""
   ]
  },
  {
   "cell_type": "code",
   "execution_count": 16,
   "metadata": {
    "collapsed": false,
    "jupyter": {
     "outputs_hidden": false
    }
   },
   "outputs": [
    {
     "name": "stdout",
     "output_type": "stream",
     "text": [
      "[that]: 11 files found\n",
      "\tdata/digits/9/1230.png\n",
      "\tdata/digits/0/1235.png\n",
      "\tdata/digits/0/1236.png\n",
      "\tdata/digits/7/1238.png\n",
      "\tdata/digits/6/1239.png\n",
      "\tdata/digits/1/1237.png\n",
      "\tdata/digits/8/1233.png\n",
      "\tdata/digits/8/123.png\n",
      "\tdata/digits/2/1232.png\n",
      "\tdata/digits/2/1234.png\n",
      "\tdata/digits/5/1231.png\n",
      "[this]: 11 files found\n",
      "\tdata/digits/0/1336.png\n",
      "\tdata/digits/0/1335.png\n",
      "\tdata/digits/7/1330.png\n",
      "\tdata/digits/7/1331.png\n",
      "\tdata/digits/7/1339.png\n",
      "\tdata/digits/1/1334.png\n",
      "\tdata/digits/3/1332.png\n",
      "\tdata/digits/3/133.png\n",
      "\tdata/digits/2/1337.png\n",
      "\tdata/digits/2/1338.png\n",
      "\tdata/digits/5/1333.png\n"
     ]
    }
   ],
   "source": [
    "data=image.load_images_from_filepatterns(this='data/digits/*/133*.png',\n",
    "                                         that='data/digits/*/123*.png',\n",
    "                                         )"
   ]
  },
  {
   "cell_type": "code",
   "execution_count": 17,
   "metadata": {
    "collapsed": false,
    "jupyter": {
     "outputs_hidden": false
    }
   },
   "outputs": [
    {
     "name": "stdout",
     "output_type": "stream",
     "text": [
      "Images\n",
      "22 images of shape (8, 8)\n",
      "Target values given.\n",
      "Target names: 'that', 'this'\n",
      "[that]: 11 files\n",
      "[this]: 11 files\n"
     ]
    }
   ],
   "source": [
    "summary(data)"
   ]
  },
  {
   "cell_type": "code",
   "execution_count": null,
   "metadata": {
    "collapsed": false,
    "jupyter": {
     "outputs_hidden": false
    }
   },
   "outputs": [],
   "source": []
  }
 ],
 "metadata": {
  "kernelspec": {
   "display_name": "Python 3 (ipykernel)",
   "language": "python",
   "name": "python3"
  },
  "language_info": {
   "codemirror_mode": {
    "name": "ipython",
    "version": 3
   },
   "file_extension": ".py",
   "mimetype": "text/x-python",
   "name": "python",
   "nbconvert_exporter": "python",
   "pygments_lexer": "ipython3",
   "version": "3.11.5"
  }
 },
 "nbformat": 4,
 "nbformat_minor": 4
}
