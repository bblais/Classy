{
 "cells": [
  {
   "cell_type": "code",
   "execution_count": 1,
   "metadata": {
    "collapsed": false
   },
   "outputs": [
    {
     "name": "stdout",
     "output_type": "stream",
     "text": [
      "Populating the interactive namespace from numpy and matplotlib\n"
     ]
    }
   ],
   "source": [
    "%pylab inline"
   ]
  },
  {
   "cell_type": "code",
   "execution_count": 2,
   "metadata": {
    "collapsed": false
   },
   "outputs": [
    {
     "name": "stdout",
     "output_type": "stream",
     "text": [
      "Version:  0.0.15\n"
     ]
    }
   ],
   "source": [
    "from classy import text"
   ]
  },
  {
   "cell_type": "markdown",
   "metadata": {},
   "source": [
    "## Language Classifier"
   ]
  },
  {
   "cell_type": "code",
   "execution_count": 3,
   "metadata": {
    "collapsed": false
   },
   "outputs": [
    {
     "name": "stdout",
     "output_type": "stream",
     "text": [
      "[[1951  344  548 1083 2901  534  515 1590 1510   43  204  898  533 1574\n",
      "  1825  394   23 1359 1564 2192  602  194  552   28  425    8]] ['a', 'b', 'c', 'd', 'e', 'f', 'g', 'h', 'i', 'j', 'k', 'l', 'm', 'n', 'o', 'p', 'q', 'r', 's', 't', 'u', 'v', 'w', 'x', 'y', 'z']\n"
     ]
    }
   ],
   "source": [
    "count,feature_names=text.count_letters('data/languages/E3.txt')\n",
    "print((count,feature_names))\n"
   ]
  },
  {
   "cell_type": "code",
   "execution_count": 4,
   "metadata": {
    "collapsed": false
   },
   "outputs": [
    {
     "name": "stdout",
     "output_type": "stream",
     "text": [
      "[[1951  344  548 1083 2901  534  515 1590 1510   43  204  898  533 1574\n",
      "  1825  394   23 1359 1564 2192  602  194  552   28  425    8]] ['a', 'b', 'c', 'd', 'e', 'f', 'g', 'h', 'i', 'j', 'k', 'l', 'm', 'n', 'o', 'p', 'q', 'r', 's', 't', 'u', 'v', 'w', 'x', 'y', 'z']\n",
      "[0.08167081670816709, 0.014920149201492016, 0.027820278202782035, 0.04253042530425305, 0.12702127021270215, 0.022280222802228026, 0.020150201502015026, 0.060940609406094075, 0.06966069660696608, 0.0015300153001530016, 0.00772007720077201, 0.04025040250402505, 0.02406024060240603, 0.06749067490674908, 0.07507075070750709, 0.019290192901929026, 0.0009500095000950011, 0.05987059870598707, 0.06327063270632707, 0.0905609056090561, 0.02758027580275803, 0.009780097800978013, 0.023600236002360026, 0.0015000150001500017, 0.019740197401974025, 0.0007400074000740008]\n"
     ]
    }
   ],
   "source": [
    "count,feature_names=text.count_letters('data/languages/E3.txt')\n",
    "print((count,feature_names))\n",
    "p=text.letter_freq('English',feature_names)\n",
    "print(p)"
   ]
  },
  {
   "cell_type": "code",
   "execution_count": 5,
   "metadata": {
    "collapsed": false
   },
   "outputs": [
    {
     "name": "stdout",
     "output_type": "stream",
     "text": [
      "-29308.8749209\n"
     ]
    }
   ],
   "source": [
    "print((sum(count*log10(p))))"
   ]
  },
  {
   "cell_type": "code",
   "execution_count": 6,
   "metadata": {
    "collapsed": false
   },
   "outputs": [],
   "source": [
    "C=text.LanguageFileClassifier()"
   ]
  },
  {
   "cell_type": "code",
   "execution_count": 7,
   "metadata": {
    "collapsed": false
   },
   "outputs": [
    {
     "name": "stdout",
     "output_type": "stream",
     "text": [
      "data/languages/E.txt\n",
      "\tEnglish: -66940.698183\n",
      "\tFrench: -66658.830412\n",
      "\tGerman: -67981.153163\n",
      "\tSpanish: -inf\n",
      "\tEsperanto: -inf\n",
      "\tItalian: -inf\n",
      "\tTurkish: -inf\n",
      "\tSwedish: -64389.950395\n",
      "data/languages/E2.txt\n",
      "\tEnglish: -675742.300297\n",
      "\tFrench: -726128.274875\n",
      "\tGerman: -709981.414175\n",
      "\tSpanish: -inf\n",
      "\tEsperanto: -inf\n",
      "\tItalian: -inf\n",
      "\tTurkish: -inf\n",
      "\tSwedish: -718253.874748\n",
      "data/languages/E3.txt\n",
      "\tEnglish: -29308.874921\n",
      "\tFrench: -31714.205599\n",
      "\tGerman: -30719.093076\n",
      "\tSpanish: -inf\n",
      "\tEsperanto: -inf\n",
      "\tItalian: -inf\n",
      "\tTurkish: -inf\n",
      "\tSwedish: -31106.553858\n"
     ]
    }
   ],
   "source": [
    "result=C.loglikelihood('data/languages/E*.txt',verbose=True)"
   ]
  },
  {
   "cell_type": "code",
   "execution_count": 8,
   "metadata": {
    "collapsed": false
   },
   "outputs": [
    {
     "name": "stdout",
     "output_type": "stream",
     "text": [
      "data/languages/E.txt\n",
      "\tEnglish: -66940.698183\n",
      "\tFrench: -66658.830412\n",
      "\tGerman: -67981.153163\n",
      "\tSpanish: -inf\n",
      "\tEsperanto: -inf\n",
      "\tItalian: -inf\n",
      "\tTurkish: -inf\n",
      "\tSwedish: -64389.950395\n",
      "data/languages/E2.txt\n",
      "\tEnglish: -675742.300297\n",
      "\tFrench: -726128.274875\n",
      "\tGerman: -709981.414175\n",
      "\tSpanish: -inf\n",
      "\tEsperanto: -inf\n",
      "\tItalian: -inf\n",
      "\tTurkish: -inf\n",
      "\tSwedish: -718253.874748\n",
      "data/languages/E3.txt\n",
      "\tEnglish: -29308.874921\n",
      "\tFrench: -31714.205599\n",
      "\tGerman: -30719.093076\n",
      "\tSpanish: -inf\n",
      "\tEsperanto: -inf\n",
      "\tItalian: -inf\n",
      "\tTurkish: -inf\n",
      "\tSwedish: -31106.553858\n"
     ]
    },
    {
     "data": {
      "text/plain": [
       "array([7, 0, 0])"
      ]
     },
     "execution_count": 8,
     "metadata": {},
     "output_type": "execute_result"
    }
   ],
   "source": [
    "C.predict('data/languages/E*',verbose=True)"
   ]
  },
  {
   "cell_type": "code",
   "execution_count": 9,
   "metadata": {
    "collapsed": false
   },
   "outputs": [
    {
     "data": {
      "text/plain": [
       "['Swedish', 'English', 'English']"
      ]
     },
     "execution_count": 9,
     "metadata": {},
     "output_type": "execute_result"
    }
   ],
   "source": [
    "[C.target_names[i] for i in C.predict('data/languages/E*')]"
   ]
  },
  {
   "cell_type": "markdown",
   "metadata": {},
   "source": [
    "## Text Classification from Folders"
   ]
  },
  {
   "cell_type": "code",
   "execution_count": 10,
   "metadata": {
    "collapsed": false
   },
   "outputs": [],
   "source": [
    "from classy import text"
   ]
  },
  {
   "cell_type": "code",
   "execution_count": 11,
   "metadata": {
    "collapsed": false
   },
   "outputs": [
    {
     "name": "stdout",
     "output_type": "stream",
     "text": [
      "11  filenames\n",
      "['Comedy', 'Family', 'Thriller']  target names\n",
      "5  filenames\n",
      "['Comedy', 'Family', 'Thriller']  target names\n"
     ]
    }
   ],
   "source": [
    "train=text.load_files('data/films/train',verbose=True)\n",
    "test=text.load_files('data/films/test',verbose=True)"
   ]
  },
  {
   "cell_type": "code",
   "execution_count": 12,
   "metadata": {
    "collapsed": false
   },
   "outputs": [
    {
     "name": "stdout",
     "output_type": "stream",
     "text": [
      "11  filenames\n",
      "['Comedy', 'Family', 'Thriller']  target names\n",
      "5  filenames\n",
      "['Comedy', 'Family', 'Thriller']  target names\n"
     ]
    }
   ],
   "source": [
    "train,test=text.text_to_vectors('data/films/train','data/films/test',verbose=True)"
   ]
  },
  {
   "cell_type": "code",
   "execution_count": 13,
   "metadata": {
    "collapsed": false
   },
   "outputs": [
    {
     "data": {
      "text/plain": [
       "<11x581 sparse matrix of type '<class 'numpy.float64'>'\n",
       "\twith 813 stored elements in Compressed Sparse Row format>"
      ]
     },
     "execution_count": 13,
     "metadata": {},
     "output_type": "execute_result"
    }
   ],
   "source": [
    "train.vectors"
   ]
  },
  {
   "cell_type": "code",
   "execution_count": 14,
   "metadata": {
    "collapsed": false
   },
   "outputs": [],
   "source": [
    "v=array(train.vectors[0,:].todense()).ravel()"
   ]
  },
  {
   "cell_type": "code",
   "execution_count": 8,
   "metadata": {
    "collapsed": false
   },
   "outputs": [
    {
     "data": {
      "text/plain": [
       "0.48642658794195082"
      ]
     },
     "execution_count": 8,
     "metadata": {},
     "output_type": "execute_result"
    }
   ],
   "source": [
    "v.max()"
   ]
  },
  {
   "cell_type": "code",
   "execution_count": 9,
   "metadata": {
    "collapsed": false
   },
   "outputs": [
    {
     "data": {
      "text/plain": [
       "(581,)"
      ]
     },
     "execution_count": 9,
     "metadata": {},
     "output_type": "execute_result"
    }
   ],
   "source": [
    "v.shape"
   ]
  },
  {
   "cell_type": "code",
   "execution_count": 13,
   "metadata": {
    "collapsed": false
   },
   "outputs": [
    {
     "data": {
      "text/plain": [
       "<matplotlib.text.Text at 0x111fab240>"
      ]
     },
     "execution_count": 13,
     "metadata": {},
     "output_type": "execute_result"
    },
    {
     "data": {
      "image/png": "[encoded data removed]",
      "text/plain": [
       "<matplotlib.figure.Figure at 0x11173ed30>"
      ]
     },
     "metadata": {},
     "output_type": "display_data"
    }
   ],
   "source": [
    "v=array(train.vectors[0,:].todense()).ravel()\n",
    "plot(v,'.')\n",
    "v=array(train.vectors[10,:].todense()).ravel()\n",
    "plot(v,'.')\n",
    "xlabel('feature number')\n",
    "ylabel('frequency of feature')"
   ]
  },
  {
   "cell_type": "code",
   "execution_count": 14,
   "metadata": {
    "collapsed": false
   },
   "outputs": [
    {
     "data": {
      "text/plain": [
       "(11, 581)"
      ]
     },
     "execution_count": 14,
     "metadata": {},
     "output_type": "execute_result"
    }
   ],
   "source": [
    "train.vectors.shape"
   ]
  },
  {
   "cell_type": "code",
   "execution_count": 15,
   "metadata": {
    "collapsed": false
   },
   "outputs": [],
   "source": [
    "C=text.Multinomial()"
   ]
  },
  {
   "cell_type": "code",
   "execution_count": 16,
   "metadata": {
    "collapsed": false
   },
   "outputs": [
    {
     "data": {
      "text/plain": [
       "Multinomial()"
      ]
     },
     "execution_count": 16,
     "metadata": {},
     "output_type": "execute_result"
    }
   ],
   "source": [
    "C.fit(train.vectors,train.targets)"
   ]
  },
  {
   "cell_type": "code",
   "execution_count": 17,
   "metadata": {
    "collapsed": false
   },
   "outputs": [
    {
     "data": {
      "text/plain": [
       "array([1, 0, 2, 0, 0])"
      ]
     },
     "execution_count": 17,
     "metadata": {},
     "output_type": "execute_result"
    }
   ],
   "source": [
    "C.predict(test.vectors)"
   ]
  },
  {
   "cell_type": "code",
   "execution_count": 18,
   "metadata": {
    "collapsed": false
   },
   "outputs": [
    {
     "data": {
      "text/plain": [
       "20.0"
      ]
     },
     "execution_count": 18,
     "metadata": {},
     "output_type": "execute_result"
    }
   ],
   "source": [
    "C.percent_correct(test.vectors,test.targets)"
   ]
  },
  {
   "cell_type": "markdown",
   "metadata": {},
   "source": [
    "## Footnote"
   ]
  },
  {
   "cell_type": "code",
   "execution_count": 19,
   "metadata": {
    "collapsed": false
   },
   "outputs": [],
   "source": [
    "from classy import *"
   ]
  },
  {
   "cell_type": "code",
   "execution_count": 20,
   "metadata": {
    "collapsed": false
   },
   "outputs": [
    {
     "name": "stdout",
     "output_type": "stream",
     "text": [
      "11  filenames\n",
      "['Comedy', 'Family', 'Thriller']  target names\n",
      "5  filenames\n",
      "['Comedy', 'Family', 'Thriller']  target names\n"
     ]
    }
   ],
   "source": [
    "train_files=text.load_files('data/films/train',verbose=True)\n",
    "test_files=text.load_files('data/films/test',verbose=True)"
   ]
  },
  {
   "cell_type": "code",
   "execution_count": 21,
   "metadata": {
    "collapsed": false
   },
   "outputs": [],
   "source": [
    "train_data,test_data=text.text_to_vectors(train_files,test_files,verbose=True)"
   ]
  },
  {
   "cell_type": "code",
   "execution_count": 22,
   "metadata": {
    "collapsed": false
   },
   "outputs": [
    {
     "data": {
      "text/plain": [
       "<11x581 sparse matrix of type '<class 'numpy.float64'>'\n",
       "\twith 813 stored elements in Compressed Sparse Row format>"
      ]
     },
     "execution_count": 22,
     "metadata": {},
     "output_type": "execute_result"
    }
   ],
   "source": [
    "train_data.vectors"
   ]
  },
  {
   "cell_type": "code",
   "execution_count": 23,
   "metadata": {
    "collapsed": false
   },
   "outputs": [
    {
     "data": {
      "image/png": "[encoded data removed]",
      "text/plain": [
       "<matplotlib.figure.Figure at 0x111ff3f60>"
      ]
     },
     "metadata": {},
     "output_type": "display_data"
    }
   ],
   "source": [
    "vectors_to_image(train_data.vectors,binary=True)"
   ]
  },
  {
   "cell_type": "code",
   "execution_count": 24,
   "metadata": {
    "collapsed": false
   },
   "outputs": [
    {
     "data": {
      "image/png": "[encoded data removed]",
      "text/plain": [
       "<matplotlib.figure.Figure at 0x1120774e0>"
      ]
     },
     "metadata": {},
     "output_type": "display_data"
    }
   ],
   "source": [
    "vectors_to_image(train_data.vectors,binary=False)"
   ]
  },
  {
   "cell_type": "markdown",
   "metadata": {},
   "source": [
    "## Bigrams/Trigrams"
   ]
  },
  {
   "cell_type": "code",
   "execution_count": 25,
   "metadata": {
    "collapsed": false
   },
   "outputs": [],
   "source": [
    "from classy import text"
   ]
  },
  {
   "cell_type": "code",
   "execution_count": 26,
   "metadata": {
    "collapsed": false
   },
   "outputs": [
    {
     "name": "stdout",
     "output_type": "stream",
     "text": [
      "11  filenames\n",
      "['Comedy', 'Family', 'Thriller']  target names\n",
      "5  filenames\n",
      "['Comedy', 'Family', 'Thriller']  target names\n"
     ]
    }
   ],
   "source": [
    "train_files=text.load_files('data/films/train',verbose=True)\n",
    "test_files=text.load_files('data/films/test',verbose=True)"
   ]
  },
  {
   "cell_type": "code",
   "execution_count": 27,
   "metadata": {
    "collapsed": false
   },
   "outputs": [],
   "source": [
    "train_data,test_data=text.text_to_vectors(train_files,test_files,verbose=True)"
   ]
  },
  {
   "cell_type": "code",
   "execution_count": 28,
   "metadata": {
    "collapsed": false
   },
   "outputs": [
    {
     "data": {
      "text/plain": [
       "<11x581 sparse matrix of type '<class 'numpy.float64'>'\n",
       "\twith 813 stored elements in Compressed Sparse Row format>"
      ]
     },
     "execution_count": 28,
     "metadata": {},
     "output_type": "execute_result"
    }
   ],
   "source": [
    "train_data.vectors"
   ]
  },
  {
   "cell_type": "markdown",
   "metadata": {},
   "source": [
    "specify the ngram_range - the smallest ngram to use, and the largest.  the default is (1,1), so only 1-grams are used.  this example calculates the 1-gram and the 2-gram (bi-gram)"
   ]
  },
  {
   "cell_type": "code",
   "execution_count": 29,
   "metadata": {
    "collapsed": false
   },
   "outputs": [
    {
     "data": {
      "text/plain": [
       "<11x1655 sparse matrix of type '<class 'numpy.float64'>'\n",
       "\twith 1935 stored elements in Compressed Sparse Row format>"
      ]
     },
     "execution_count": 29,
     "metadata": {},
     "output_type": "execute_result"
    }
   ],
   "source": [
    "train_data,test_data=text.text_to_vectors(train_files,test_files,ngram_range=(1,2),verbose=True)\n",
    "train_data.vectors"
   ]
  },
  {
   "cell_type": "code",
   "execution_count": 30,
   "metadata": {
    "collapsed": false
   },
   "outputs": [
    {
     "name": "stdout",
     "output_type": "stream",
     "text": [
      "['about', 'about going', 'accepts', 'accepts the', 'accountant', 'accountant donates', 'ace', 'ace is', 'ace ventura', 'achieved', 'achieved his', 'acknowledges', 'acknowledges the', 'advises', 'advises that', 'after', 'after attending', 'after his', 'after series', 'after seven', 'after vacating', 'against', 'against the', 'agent', 'agent clarice', 'agent jack', 'ages', 'ages eight', 'aid', 'aid of', 'alcoholic', 'alcoholic jack', 'alison', 'alison meets', 'alison scott', 'all', 'all for', 'all night', 'allison', 'allison discovers', 'allison stays', 'allocation', 'allocation load', 'along', 'along all', 'along with', 'also', 'also introduces', 'also very', 'always', 'always gets', 'an', 'an angel', 'an auto', 'an effort', 'an up', 'and', 'and animal', 'and benevolent', 'and brutally', 'and clarence', 'and clever', 'and climactic', 'and coming', 'and dancing', 'and devoid', 'and eight', 'and family', 'and finally', 'and gain', 'and harshly', 'and have', 'and her', 'and his', 'and impoverished', 'and kills', 'and look', 'and love', 'and needs', 'and obtained', 'and of', 'and quarterback', 'and recovering', 'and some', 'and take', 'and technicolor', 'and ten', 'and the', 'and they', 'and thoughtless', 'and to', 'and unfulfilling', 'and while', 'and white', 'and woos', 'and wows', 'andrews', 'andrews who', 'angel', 'angel and']\n"
     ]
    }
   ],
   "source": [
    "print((train_data.feature_names[:100]))"
   ]
  },
  {
   "cell_type": "code",
   "execution_count": null,
   "metadata": {
    "collapsed": false
   },
   "outputs": [],
   "source": []
  },
  {
   "cell_type": "code",
   "execution_count": null,
   "metadata": {
    "collapsed": true
   },
   "outputs": [],
   "source": []
  }
 ],
 "metadata": {
  "anaconda-cloud": {},
  "kernelspec": {
   "display_name": "Python [Root]",
   "language": "python",
   "name": "Python [Root]"
  },
  "language_info": {
   "codemirror_mode": {
    "name": "ipython",
    "version": 3
   },
   "file_extension": ".py",
   "mimetype": "text/x-python",
   "name": "python",
   "nbconvert_exporter": "python",
   "pygments_lexer": "ipython3",
   "version": "3.5.2"
  }
 },
 "nbformat": 4,
 "nbformat_minor": 0
}
