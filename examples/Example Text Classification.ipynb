{
 "metadata": {
  "name": ""
 },
 "nbformat": 3,
 "nbformat_minor": 0,
 "worksheets": [
  {
   "cells": [
    {
     "cell_type": "code",
     "collapsed": false,
     "input": [
      "from classy import text"
     ],
     "language": "python",
     "metadata": {},
     "outputs": [],
     "prompt_number": 2
    },
    {
     "cell_type": "markdown",
     "metadata": {},
     "source": [
      "## Language Classifier"
     ]
    },
    {
     "cell_type": "code",
     "collapsed": false,
     "input": [
      "count,feature_names=text.count_letters('data/languages/E3.txt')\n",
      "print count,feature_names\n"
     ],
     "language": "python",
     "metadata": {},
     "outputs": [
      {
       "output_type": "stream",
       "stream": "stdout",
       "text": [
        "[[1951  344  548 1083 2901  534  515 1590 1510   43  204  898  533 1574\n",
        "  1825  394   23 1359 1564 2192  602  194  552   28  425    8]] ['a', 'b', 'c', 'd', 'e', 'f', 'g', 'h', 'i', 'j', 'k', 'l', 'm', 'n', 'o', 'p', 'q', 'r', 's', 't', 'u', 'v', 'w', 'x', 'y', 'z']\n"
       ]
      }
     ],
     "prompt_number": 3
    },
    {
     "cell_type": "code",
     "collapsed": false,
     "input": [
      "count,feature_names=text.count_letters('data/languages/E3.txt')\n",
      "print count,feature_names\n",
      "p=text.letter_freq('English',feature_names)\n",
      "print p"
     ],
     "language": "python",
     "metadata": {},
     "outputs": [
      {
       "output_type": "stream",
       "stream": "stdout",
       "text": [
        "[[1951  344  548 1083 2901  534  515 1590 1510   43  204  898  533 1574\n",
        "  1825  394   23 1359 1564 2192  602  194  552   28  425    8]] ['a', 'b', 'c', 'd', 'e', 'f', 'g', 'h', 'i', 'j', 'k', 'l', 'm', 'n', 'o', 'p', 'q', 'r', 's', 't', 'u', 'v', 'w', 'x', 'y', 'z']\n",
        "[0.08167081670816709, 0.014920149201492016, 0.027820278202782035, 0.04253042530425305, 0.12702127021270215, 0.022280222802228026, 0.020150201502015026, 0.060940609406094075, 0.06966069660696608, 0.0015300153001530016, 0.00772007720077201, 0.04025040250402505, 0.02406024060240603, 0.06749067490674908, 0.07507075070750709, 0.019290192901929026, 0.0009500095000950011, 0.05987059870598707, 0.06327063270632707, 0.0905609056090561, 0.02758027580275803, 0.009780097800978013, 0.023600236002360026, 0.0015000150001500017, 0.019740197401974025, 0.0007400074000740008]\n"
       ]
      }
     ],
     "prompt_number": 4
    },
    {
     "cell_type": "code",
     "collapsed": false,
     "input": [
      "print sum(count*log10(p))"
     ],
     "language": "python",
     "metadata": {},
     "outputs": [
      {
       "output_type": "stream",
       "stream": "stdout",
       "text": [
        "-29308.8749209\n"
       ]
      }
     ],
     "prompt_number": 12
    },
    {
     "cell_type": "code",
     "collapsed": false,
     "input": [
      "C=text.LanguageFileClassifier()"
     ],
     "language": "python",
     "metadata": {},
     "outputs": [],
     "prompt_number": 13
    },
    {
     "cell_type": "code",
     "collapsed": false,
     "input": [
      "result=C.loglikelihood('data/languages/E*.txt',verbose=True)"
     ],
     "language": "python",
     "metadata": {},
     "outputs": [
      {
       "output_type": "stream",
       "stream": "stdout",
       "text": [
        "data/languages/E.txt\n",
        "\tEnglish: -66940.698183\n",
        "\tFrench: -66658.830412\n",
        "\tGerman: -67981.153163\n",
        "\tSpanish: -inf\n",
        "\tEsperanto: -inf\n",
        "\tItalian: -inf\n",
        "\tTurkish: -inf\n",
        "\tSwedish: -64389.950395\n",
        "data/languages/E2.txt\n",
        "\tEnglish: -675742.300297"
       ]
      },
      {
       "output_type": "stream",
       "stream": "stdout",
       "text": [
        "\n",
        "\tFrench: -726128.274875\n",
        "\tGerman: -709981.414175\n",
        "\tSpanish: -inf\n",
        "\tEsperanto: -inf\n",
        "\tItalian: -inf\n",
        "\tTurkish: -inf\n",
        "\tSwedish: -718253.874748\n",
        "data/languages/E3.txt\n",
        "\tEnglish: -29308.874921\n",
        "\tFrench: -31714.205599\n",
        "\tGerman: -30719.093076\n",
        "\tSpanish: -inf\n",
        "\tEsperanto: -inf\n",
        "\tItalian: -inf\n",
        "\tTurkish: -inf\n",
        "\tSwedish: -31106.553858\n"
       ]
      }
     ],
     "prompt_number": 14
    },
    {
     "cell_type": "code",
     "collapsed": false,
     "input": [
      "C.predict('data/languages/E*',verbose=True)"
     ],
     "language": "python",
     "metadata": {},
     "outputs": [
      {
       "output_type": "stream",
       "stream": "stdout",
       "text": [
        "data/languages/E.txt\n",
        "\tEnglish: -66940.698183\n",
        "\tFrench: -66658.830412\n",
        "\tGerman: -67981.153163\n",
        "\tSpanish: -inf\n",
        "\tEsperanto: -inf\n",
        "\tItalian: -inf\n",
        "\tTurkish: -inf\n",
        "\tSwedish: -64389.950395\n",
        "data/languages/E2.txt\n",
        "\tEnglish: -675742.300297"
       ]
      },
      {
       "output_type": "stream",
       "stream": "stdout",
       "text": [
        "\n",
        "\tFrench: -726128.274875\n",
        "\tGerman: -709981.414175\n",
        "\tSpanish: -inf\n",
        "\tEsperanto: -inf\n",
        "\tItalian: -inf\n",
        "\tTurkish: -inf\n",
        "\tSwedish: -718253.874748\n",
        "data/languages/E3.txt\n",
        "\tEnglish: -29308.874921\n",
        "\tFrench: -31714.205599\n",
        "\tGerman: -30719.093076\n",
        "\tSpanish: -inf\n",
        "\tEsperanto: -inf\n",
        "\tItalian: -inf\n",
        "\tTurkish: -inf\n",
        "\tSwedish: -31106.553858\n"
       ]
      },
      {
       "metadata": {},
       "output_type": "pyout",
       "prompt_number": 15,
       "text": [
        "array([7, 0, 0])"
       ]
      }
     ],
     "prompt_number": 15
    },
    {
     "cell_type": "code",
     "collapsed": false,
     "input": [
      "[C.target_names[i] for i in C.predict('data/languages/E*')]"
     ],
     "language": "python",
     "metadata": {},
     "outputs": [
      {
       "metadata": {},
       "output_type": "pyout",
       "prompt_number": 16,
       "text": [
        "['Swedish', 'English', 'English']"
       ]
      }
     ],
     "prompt_number": 16
    },
    {
     "cell_type": "markdown",
     "metadata": {},
     "source": [
      "## Text Classification from Folders"
     ]
    },
    {
     "cell_type": "code",
     "collapsed": false,
     "input": [
      "from classy import text"
     ],
     "language": "python",
     "metadata": {},
     "outputs": [],
     "prompt_number": 1
    },
    {
     "cell_type": "code",
     "collapsed": false,
     "input": [
      "train=text.load_files('data/newsgroups/train',verbose=True)\n",
      "test=text.load_files('data/newsgroups/test',verbose=True)"
     ],
     "language": "python",
     "metadata": {},
     "outputs": [
      {
       "output_type": "stream",
       "stream": "stdout",
       "text": [
        "2034  filenames\n",
        "['alt.atheism', 'comp.graphics', 'sci.space', 'talk.religion.misc']  target names\n",
        "1353"
       ]
      },
      {
       "output_type": "stream",
       "stream": "stdout",
       "text": [
        "  filenames\n",
        "['alt.atheism', 'comp.graphics', 'sci.space', 'talk.religion.misc']  target names\n"
       ]
      }
     ],
     "prompt_number": 2
    },
    {
     "cell_type": "code",
     "collapsed": false,
     "input": [
      "train,test=text.text_to_vectors('data/newsgroups/train','data/newsgroups/test',verbose=True)"
     ],
     "language": "python",
     "metadata": {},
     "outputs": [
      {
       "output_type": "stream",
       "stream": "stdout",
       "text": [
        "2034  filenames\n",
        "['alt.atheism', 'comp.graphics', 'sci.space', 'talk.religion.misc']  target names\n",
        "1353"
       ]
      },
      {
       "output_type": "stream",
       "stream": "stdout",
       "text": [
        "  filenames\n",
        "['alt.atheism', 'comp.graphics', 'sci.space', 'talk.religion.misc']  target names\n"
       ]
      }
     ],
     "prompt_number": 3
    },
    {
     "cell_type": "code",
     "collapsed": false,
     "input": [
      "train.vectors"
     ],
     "language": "python",
     "metadata": {},
     "outputs": [
      {
       "metadata": {},
       "output_type": "pyout",
       "prompt_number": 4,
       "text": [
        "<2034x34113 sparse matrix of type '<type 'numpy.float64'>'\n",
        "\twith 323431 stored elements in Compressed Sparse Row format>"
       ]
      }
     ],
     "prompt_number": 4
    },
    {
     "cell_type": "code",
     "collapsed": false,
     "input": [
      "v=array(train.vectors[0,:].todense()).ravel()"
     ],
     "language": "python",
     "metadata": {},
     "outputs": [],
     "prompt_number": 12
    },
    {
     "cell_type": "code",
     "collapsed": false,
     "input": [
      "v.max()"
     ],
     "language": "python",
     "metadata": {},
     "outputs": [
      {
       "metadata": {},
       "output_type": "pyout",
       "prompt_number": 13,
       "text": [
        "0.29252932905916068"
       ]
      }
     ],
     "prompt_number": 13
    },
    {
     "cell_type": "code",
     "collapsed": false,
     "input": [
      "v.shape"
     ],
     "language": "python",
     "metadata": {},
     "outputs": [
      {
       "metadata": {},
       "output_type": "pyout",
       "prompt_number": 14,
       "text": [
        "(34113,)"
       ]
      }
     ],
     "prompt_number": 14
    },
    {
     "cell_type": "code",
     "collapsed": false,
     "input": [
      "v=array(train.vectors[0,:].todense()).ravel()\n",
      "plot(v,'.')\n",
      "v=array(train.vectors[2000,:].todense()).ravel()\n",
      "plot(v,'.')\n",
      "xlabel('feature number')\n",
      "ylabel('frequency of feature')"
     ],
     "language": "python",
     "metadata": {},
     "outputs": [
      {
       "metadata": {},
       "output_type": "pyout",
       "prompt_number": 15,
       "text": [
        "<matplotlib.text.Text at 0x10858e310>"
       ]
      },
      {
       "metadata": {},
       "output_type": "display_data",
       "png": "[encoded data removed]",
       "text": [
        "<matplotlib.figure.Figure at 0x108137ed0>"
       ]
      }
     ],
     "prompt_number": 15
    },
    {
     "cell_type": "code",
     "collapsed": false,
     "input": [
      "C=text.Multinomial()"
     ],
     "language": "python",
     "metadata": {},
     "outputs": [],
     "prompt_number": 2
    },
    {
     "cell_type": "code",
     "collapsed": false,
     "input": [
      "C.fit(train.vectors,train.targets)"
     ],
     "language": "python",
     "metadata": {},
     "outputs": [
      {
       "metadata": {},
       "output_type": "pyout",
       "prompt_number": 17,
       "text": [
        "Multinomial()"
       ]
      }
     ],
     "prompt_number": 17
    },
    {
     "cell_type": "code",
     "collapsed": false,
     "input": [
      "C.predict(test.vectors)"
     ],
     "language": "python",
     "metadata": {},
     "outputs": [
      {
       "metadata": {},
       "output_type": "pyout",
       "prompt_number": 18,
       "text": [
        "array([0, 0, 0, ..., 3, 3, 0])"
       ]
      }
     ],
     "prompt_number": 18
    },
    {
     "cell_type": "code",
     "collapsed": false,
     "input": [
      "C.percent_correct(test.vectors,test.targets)"
     ],
     "language": "python",
     "metadata": {},
     "outputs": [
      {
       "metadata": {},
       "output_type": "pyout",
       "prompt_number": 19,
       "text": [
        "85.070214338507029"
       ]
      }
     ],
     "prompt_number": 19
    },
    {
     "cell_type": "markdown",
     "metadata": {},
     "source": [
      "## Footnote"
     ]
    },
    {
     "cell_type": "code",
     "collapsed": false,
     "input": [
      "from classy import *"
     ],
     "language": "python",
     "metadata": {},
     "outputs": [],
     "prompt_number": 2
    },
    {
     "cell_type": "code",
     "collapsed": false,
     "input": [
      "train_files=text.load_files('data/films/train',verbose=True)\n",
      "test_files=text.load_files('data/films/test',verbose=True)"
     ],
     "language": "python",
     "metadata": {},
     "outputs": [
      {
       "output_type": "stream",
       "stream": "stdout",
       "text": [
        "11  filenames\n",
        "['Comedy', 'Family', 'Thriller']  target names\n",
        "5  filenames\n",
        "['Comedy', 'Family', 'Thriller']  target names\n"
       ]
      }
     ],
     "prompt_number": 3
    },
    {
     "cell_type": "code",
     "collapsed": false,
     "input": [
      "train_data,test_data=text.text_to_vectors(train_files,test_files,verbose=True)"
     ],
     "language": "python",
     "metadata": {},
     "outputs": [],
     "prompt_number": 4
    },
    {
     "cell_type": "code",
     "collapsed": false,
     "input": [
      "train_data.vectors"
     ],
     "language": "python",
     "metadata": {},
     "outputs": [
      {
       "metadata": {},
       "output_type": "pyout",
       "prompt_number": 5,
       "text": [
        "<11x581 sparse matrix of type '<type 'numpy.float64'>'\n",
        "\twith 813 stored elements in Compressed Sparse Row format>"
       ]
      }
     ],
     "prompt_number": 5
    },
    {
     "cell_type": "code",
     "collapsed": false,
     "input": [
      "vectors_to_image(train_data.vectors,binary=True)"
     ],
     "language": "python",
     "metadata": {},
     "outputs": [
      {
       "metadata": {},
       "output_type": "display_data",
       "png": "[encoded data removed]",
       "text": [
        "<matplotlib.figure.Figure at 0x107d33dd0>"
       ]
      }
     ],
     "prompt_number": 10
    },
    {
     "cell_type": "code",
     "collapsed": false,
     "input": [
      "vectors_to_image(train_data.vectors,binary=False)"
     ],
     "language": "python",
     "metadata": {},
     "outputs": [
      {
       "metadata": {},
       "output_type": "display_data",
       "png": "[encoded data removed]",
       "text": [
        "<matplotlib.figure.Figure at 0x107d0afd0>"
       ]
      }
     ],
     "prompt_number": 9
    },
    {
     "cell_type": "markdown",
     "metadata": {},
     "source": [
      "## Bigrams/Trigrams"
     ]
    },
    {
     "cell_type": "code",
     "collapsed": false,
     "input": [
      "from classy import text"
     ],
     "language": "python",
     "metadata": {},
     "outputs": [],
     "prompt_number": 1
    },
    {
     "cell_type": "code",
     "collapsed": false,
     "input": [
      "train_files=text.load_files('data/films/train',verbose=True)\n",
      "test_files=text.load_files('data/films/test',verbose=True)"
     ],
     "language": "python",
     "metadata": {},
     "outputs": [
      {
       "output_type": "stream",
       "stream": "stdout",
       "text": [
        "11  filenames\n",
        "['Comedy', 'Family', 'Thriller']  target names\n",
        "5  filenames\n",
        "['Comedy', 'Family', 'Thriller']  target names\n"
       ]
      }
     ],
     "prompt_number": 2
    },
    {
     "cell_type": "code",
     "collapsed": false,
     "input": [
      "train_data,test_data=text.text_to_vectors(train_files,test_files,verbose=True)"
     ],
     "language": "python",
     "metadata": {},
     "outputs": [],
     "prompt_number": 3
    },
    {
     "cell_type": "code",
     "collapsed": false,
     "input": [
      "train_data.vectors"
     ],
     "language": "python",
     "metadata": {},
     "outputs": [
      {
       "metadata": {},
       "output_type": "pyout",
       "prompt_number": 4,
       "text": [
        "<11x581 sparse matrix of type '<type 'numpy.float64'>'\n",
        "\twith 813 stored elements in Compressed Sparse Row format>"
       ]
      }
     ],
     "prompt_number": 4
    },
    {
     "cell_type": "markdown",
     "metadata": {},
     "source": [
      "specify the ngram_range - the smallest ngram to use, and the largest.  the default is (1,1), so only 1-grams are used.  this example calculates the 1-gram and the 2-gram (bi-gram)"
     ]
    },
    {
     "cell_type": "code",
     "collapsed": false,
     "input": [
      "train_data,test_data=text.text_to_vectors(train_files,test_files,ngram_range=(1,2),verbose=True)\n",
      "train_data.vectors"
     ],
     "language": "python",
     "metadata": {},
     "outputs": [
      {
       "metadata": {},
       "output_type": "pyout",
       "prompt_number": 12,
       "text": [
        "<11x1655 sparse matrix of type '<type 'numpy.float64'>'\n",
        "\twith 1935 stored elements in Compressed Sparse Row format>"
       ]
      }
     ],
     "prompt_number": 12
    },
    {
     "cell_type": "code",
     "collapsed": false,
     "input": [
      "print train_data.feature_names[:100]"
     ],
     "language": "python",
     "metadata": {},
     "outputs": [
      {
       "output_type": "stream",
       "stream": "stdout",
       "text": [
        "[u'about', u'about going', u'accepts', u'accepts the', u'accountant', u'accountant donates', u'ace', u'ace is', u'ace ventura', u'achieved', u'achieved his', u'acknowledges', u'acknowledges the', u'advises', u'advises that', u'after', u'after attending', u'after his', u'after series', u'after seven', u'after vacating', u'against', u'against the', u'agent', u'agent clarice', u'agent jack', u'ages', u'ages eight', u'aid', u'aid of', u'alcoholic', u'alcoholic jack', u'alison', u'alison meets', u'alison scott', u'all', u'all for', u'all night', u'allison', u'allison discovers', u'allison stays', u'allocation', u'allocation load', u'along', u'along all', u'along with', u'also', u'also introduces', u'also very', u'always', u'always gets', u'an', u'an angel', u'an auto', u'an effort', u'an up', u'and', u'and animal', u'and benevolent', u'and brutally', u'and clarence', u'and clever', u'and climactic', u'and coming', u'and dancing', u'and devoid', u'and eight', u'and family', u'and finally', u'and gain', u'and harshly', u'and have', u'and her', u'and his', u'and impoverished', u'and kills', u'and look', u'and love', u'and needs', u'and obtained', u'and of', u'and quarterback', u'and recovering', u'and some', u'and take', u'and technicolor', u'and ten', u'and the', u'and they', u'and thoughtless', u'and to', u'and unfulfilling', u'and while', u'and white', u'and woos', u'and wows', u'andrews', u'andrews who', u'angel', u'angel and']\n"
       ]
      }
     ],
     "prompt_number": 10
    },
    {
     "cell_type": "code",
     "collapsed": false,
     "input": [],
     "language": "python",
     "metadata": {},
     "outputs": []
    }
   ],
   "metadata": {}
  }
 ]
}