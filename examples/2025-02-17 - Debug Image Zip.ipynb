{
 "cells": [
  {
   "cell_type": "code",
   "execution_count": 1,
   "id": "5a368882-5564-44a6-b350-b7d2f4777b01",
   "metadata": {},
   "outputs": [
    {
     "name": "stdout",
     "output_type": "stream",
     "text": [
      "Version:  0.0.57\n"
     ]
    }
   ],
   "source": [
    "from pylab import *\n",
    "from classy import *"
   ]
  },
  {
   "cell_type": "code",
   "execution_count": 2,
   "id": "c7226cb0-c75c-4628-976c-7185d190994c",
   "metadata": {},
   "outputs": [
    {
     "name": "stdout",
     "output_type": "stream",
     "text": [
      "[9]: 180 files found\n",
      "[0]: 178 files found\n",
      "[7]: 179 files found\n",
      "[6]: 181 files found\n",
      "[1]: 182 files found\n",
      "[8]: 174 files found\n",
      "[4]: 181 files found\n",
      "[3]: 183 files found\n",
      "[2]: 177 files found\n",
      "[5]: 182 files found\n"
     ]
    }
   ],
   "source": [
    "images=image.load_images('data/digits')"
   ]
  },
  {
   "cell_type": "code",
   "execution_count": 3,
   "id": "e30a43c1-5d56-4df0-92dd-390a9e6fc80f",
   "metadata": {},
   "outputs": [
    {
     "name": "stdout",
     "output_type": "stream",
     "text": [
      "[9]: 5949 files found\n",
      "[0]: 5923 files found\n",
      "[7]: 6265 files found\n",
      "[6]: 5918 files found\n",
      "[1]: 6742 files found\n",
      "[8]: 5851 files found\n",
      "[4]: 5842 files found\n",
      "[3]: 6131 files found\n",
      "[2]: 5958 files found\n",
      "[5]: 5421 files found\n"
     ]
    }
   ],
   "source": [
    "images=image.load_images('mnist_png.zip/mnist_png/training')"
   ]
  },
  {
   "cell_type": "code",
   "execution_count": 4,
   "id": "5436ac03-c845-4ea1-b278-497ab3636efc",
   "metadata": {},
   "outputs": [
    {
     "name": "stdout",
     "output_type": "stream",
     "text": [
      "[9]: 1009 files found\n",
      "[0]: 980 files found\n",
      "[7]: 1028 files found\n",
      "[6]: 958 files found\n",
      "[1]: 1135 files found\n",
      "[8]: 974 files found\n",
      "[4]: 982 files found\n",
      "[3]: 1010 files found\n",
      "[2]: 1032 files found\n",
      "[5]: 892 files found\n"
     ]
    }
   ],
   "source": [
    "images=image.load_images('mnist_png.zip/mnist_png/testing')"
   ]
  },
  {
   "cell_type": "code",
   "execution_count": 6,
   "id": "0e7ad4a2-480c-416c-94ea-842154266109",
   "metadata": {},
   "outputs": [
    {
     "name": "stdout",
     "output_type": "stream",
     "text": [
      "[9]: 1000 files found\n",
      "[0]: 1000 files found\n",
      "[7]: 1000 files found\n",
      "[6]: 1000 files found\n",
      "[1]: 1000 files found\n",
      "[8]: 1000 files found\n",
      "[4]: 1000 files found\n",
      "[3]: 1000 files found\n",
      "[2]: 1000 files found\n",
      "[5]: 1000 files found\n"
     ]
    }
   ],
   "source": [
    "images=image.load_images('fashion mnist png.zip/fashion mnist png/test/')"
   ]
  },
  {
   "cell_type": "code",
   "execution_count": 13,
   "id": "c56cee92-7f1d-4b90-b9cf-2e5ac44a0a2a",
   "metadata": {},
   "outputs": [
    {
     "name": "stdout",
     "output_type": "stream",
     "text": [
      "[9]: 180 files found\n",
      "[0]: 178 files found\n",
      "[7]: 179 files found\n",
      "[6]: 181 files found\n",
      "[1]: 182 files found\n",
      "[8]: 174 files found\n",
      "[4]: 181 files found\n",
      "[3]: 183 files found\n",
      "[2]: 177 files found\n",
      "[5]: 182 files found\n"
     ]
    }
   ],
   "source": [
    "images=load_images('data/digits')"
   ]
  },
  {
   "cell_type": "code",
   "execution_count": 15,
   "id": "d02ea3d5-c3f9-4e62-aa80-6a5ba424b6ef",
   "metadata": {},
   "outputs": [
    {
     "data": {
      "text/plain": [
       "dict_keys(['DESCR', 'files', 'data', 'targets', 'target_names'])"
      ]
     },
     "execution_count": 15,
     "metadata": {},
     "output_type": "execute_result"
    }
   ],
   "source": [
    "images.keys()"
   ]
  },
  {
   "cell_type": "code",
   "execution_count": 18,
   "id": "47f2cc4a-f76e-4b0a-a393-7c7fdedb1794",
   "metadata": {},
   "outputs": [
    {
     "data": {
      "text/plain": [
       "list"
      ]
     },
     "execution_count": 18,
     "metadata": {},
     "output_type": "execute_result"
    }
   ],
   "source": [
    "type(images.data)"
   ]
  },
  {
   "cell_type": "code",
   "execution_count": 6,
   "id": "03b7ee50-dd5b-49ec-95e3-b73eeeea0e42",
   "metadata": {},
   "outputs": [],
   "source": [
    "import zipfile\n",
    "import numpy as np\n",
    "from PIL import Image\n",
    "from io import BytesIO\n"
   ]
  },
  {
   "cell_type": "code",
   "execution_count": 7,
   "id": "3fcca0b5-36ee-4c96-b3cc-6273ff7172cb",
   "metadata": {},
   "outputs": [
    {
     "ename": "AssertionError",
     "evalue": "Not correct folder structure",
     "output_type": "error",
     "traceback": [
      "\u001b[0;31m---------------------------------------------------------------------------\u001b[0m",
      "\u001b[0;31mAssertionError\u001b[0m                            Traceback (most recent call last)",
      "Cell \u001b[0;32mIn[7], line 31\u001b[0m\n\u001b[1;32m     29\u001b[0m new_filenames\u001b[38;5;241m=\u001b[39m[f\u001b[38;5;241m.\u001b[39mreplace(rest,\u001b[38;5;124m'\u001b[39m\u001b[38;5;124m'\u001b[39m) \u001b[38;5;28;01mfor\u001b[39;00m f \u001b[38;5;129;01min\u001b[39;00m filenames]\n\u001b[1;32m     30\u001b[0m \u001b[38;5;66;03m#filenames=['/'.join(f.split('/')[1:]) for f in filenames]\u001b[39;00m\n\u001b[0;32m---> 31\u001b[0m \u001b[38;5;28;01massert\u001b[39;00m \u001b[38;5;129;01mnot\u001b[39;00m \u001b[38;5;28many\u001b[39m([\u001b[38;5;28mlen\u001b[39m(f\u001b[38;5;241m.\u001b[39msplit(\u001b[38;5;124m'\u001b[39m\u001b[38;5;124m/\u001b[39m\u001b[38;5;124m'\u001b[39m)[\u001b[38;5;241m1\u001b[39m:])\u001b[38;5;241m>\u001b[39m\u001b[38;5;241m2\u001b[39m \u001b[38;5;28;01mfor\u001b[39;00m f \u001b[38;5;129;01min\u001b[39;00m new_filenames]),\u001b[38;5;124m\"\u001b[39m\u001b[38;5;124mNot correct folder structure\u001b[39m\u001b[38;5;124m\"\u001b[39m\n\u001b[1;32m     33\u001b[0m target_names\u001b[38;5;241m=\u001b[39m[f\u001b[38;5;241m.\u001b[39mreplace(\u001b[38;5;124m'\u001b[39m\u001b[38;5;124m/\u001b[39m\u001b[38;5;124m'\u001b[39m,\u001b[38;5;124m'\u001b[39m\u001b[38;5;124m'\u001b[39m) \u001b[38;5;28;01mfor\u001b[39;00m f \u001b[38;5;129;01min\u001b[39;00m new_filenames \u001b[38;5;28;01mif\u001b[39;00m f\u001b[38;5;241m.\u001b[39mendswith(\u001b[38;5;124m'\u001b[39m\u001b[38;5;124m/\u001b[39m\u001b[38;5;124m'\u001b[39m)]\n\u001b[1;32m     35\u001b[0m \u001b[38;5;28;01mfor\u001b[39;00m i,name \u001b[38;5;129;01min\u001b[39;00m \u001b[38;5;28menumerate\u001b[39m(target_names):\n",
      "\u001b[0;31mAssertionError\u001b[0m: Not correct folder structure"
     ]
    }
   ],
   "source": [
    "data=Struct()\n",
    "data.DESCR=\"Images\"\n",
    "data.files=[]\n",
    "data.data=[]\n",
    "data.targets=[]\n",
    "data.target_names=[]\n",
    "\n",
    "make_grayscale=True\n",
    "\n",
    "zipname='mnist_png.zip/mnist_png/training'\n",
    "zipname='fashion mnist png.zip'\n",
    "parts=zipname.split('/')\n",
    "zipname=parts[0]\n",
    "\n",
    "if len(parts)>1:\n",
    "    rest='/'.join(parts[1:])+\"/\"\n",
    "else:\n",
    "    rest=''\n",
    "\n",
    "with zipfile.ZipFile(zipname, 'r') as z:\n",
    "    filenames = [f for f in z.namelist() \n",
    "                  if not '__MACOSX' in f and\n",
    "                 not '.DS_Store' in f and\n",
    "                 not 'desktop.ini' in f and\n",
    "                 not '.ipynb_checkpoints' in f and\n",
    "                 f.startswith(rest)\n",
    "                 ]\n",
    "\n",
    "    new_filenames=[f.replace(rest,'') for f in filenames]\n",
    "    #filenames=['/'.join(f.split('/')[1:]) for f in filenames]\n",
    "    assert not any([len(f.split('/')[1:])>2 for f in new_filenames]),\"Not correct folder structure\"\n",
    "\n",
    "    target_names=[f.replace('/','') for f in new_filenames if f.endswith('/')]\n",
    "\n",
    "    for i,name in enumerate(target_names):\n",
    "        files=[f for f,f2 in zip(filenames,new_filenames)\n",
    "                                     if f2.startswith(name+\"/\") and\n",
    "                                      not f2.endswith('/')] \n",
    "        data.files.extend(files)\n",
    "        data.targets.extend([i]*len(files))\n",
    "        \n",
    "    data.target_names=target_names\n",
    "\n",
    "    all_same_size=True\n",
    "    size=None\n",
    "    for fname in data.files:\n",
    "        with z.open(fname) as file:\n",
    "            img = Image.open(BytesIO(file.read())).convert('RGB')\n",
    "            if make_grayscale:\n",
    "                img=img.convert('L')\n",
    "            img=np.array(img)\n",
    "\n",
    "            if size is None:\n",
    "                size=img.shape\n",
    "            else:\n",
    "                if img.shape!=size:\n",
    "                    all_same_size=False\n",
    "\n",
    "            \n",
    "            data.data.append(img)\n",
    "    \n",
    "    if not all_same_size:\n",
    "        print(\"Warning: not all images the same size.\")\n"
   ]
  },
  {
   "cell_type": "code",
   "execution_count": 9,
   "id": "b2f785dc-5a90-4bdf-bcb5-26c76f4d58b3",
   "metadata": {},
   "outputs": [
    {
     "data": {
      "text/plain": [
       "['fashion mnist png/',\n",
       " 'fashion mnist png/test/',\n",
       " 'fashion mnist png/train/',\n",
       " 'fashion mnist png/test/9/',\n",
       " 'fashion mnist png/test/0/',\n",
       " 'fashion mnist png/test/7/',\n",
       " 'fashion mnist png/test/6/',\n",
       " 'fashion mnist png/test/1/',\n",
       " 'fashion mnist png/test/8/',\n",
       " 'fashion mnist png/test/4/',\n",
       " 'fashion mnist png/test/3/',\n",
       " 'fashion mnist png/test/2/',\n",
       " 'fashion mnist png/test/5/',\n",
       " 'fashion mnist png/train/9/',\n",
       " 'fashion mnist png/train/0/',\n",
       " 'fashion mnist png/train/7/',\n",
       " 'fashion mnist png/train/6/',\n",
       " 'fashion mnist png/train/1/',\n",
       " 'fashion mnist png/train/8/',\n",
       " 'fashion mnist png/train/4/',\n",
       " 'fashion mnist png/train/3/',\n",
       " 'fashion mnist png/train/2/',\n",
       " 'fashion mnist png/train/5/']"
      ]
     },
     "execution_count": 9,
     "metadata": {},
     "output_type": "execute_result"
    }
   ],
   "source": [
    "[f for f in new_filenames if f.endswith('/')]"
   ]
  },
  {
   "cell_type": "code",
   "execution_count": 86,
   "id": "fcc0430e-3751-4476-8ab7-c2f41d8a07e7",
   "metadata": {},
   "outputs": [
    {
     "data": {
      "text/plain": [
       "(28, 28)"
      ]
     },
     "execution_count": 86,
     "metadata": {},
     "output_type": "execute_result"
    }
   ],
   "source": [
    "data.data[0].shape"
   ]
  },
  {
   "cell_type": "code",
   "execution_count": 82,
   "id": "fda5f07a-d288-440f-b750-05f5a5ae8a8a",
   "metadata": {},
   "outputs": [
    {
     "data": {
      "text/plain": [
       "<matplotlib.image.AxesImage at 0x16421b680>"
      ]
     },
     "execution_count": 82,
     "metadata": {},
     "output_type": "execute_result"
    },
    {
     "data": {
      "image/png": "[encoded data removed]",
      "text/plain": [
       "<Figure size 1000x800 with 1 Axes>"
      ]
     },
     "metadata": {},
     "output_type": "display_data"
    }
   ],
   "source": [
    "imshow(data.data[0],cmap=cm.gray)"
   ]
  },
  {
   "cell_type": "code",
   "execution_count": 53,
   "id": "764e14ca-c012-48f8-9fb5-99fbe3b25c04",
   "metadata": {},
   "outputs": [],
   "source": [
    "#filenames=['/'.join(f.split('/')[1:]) for f in filenames]"
   ]
  },
  {
   "cell_type": "code",
   "execution_count": 54,
   "id": "8c460a5e-7873-4da1-a2da-a57a23d15aea",
   "metadata": {},
   "outputs": [
    {
     "name": "stdout",
     "output_type": "stream",
     "text": [
      "[2, 3, 3, 4, 4, 4, 4, 4, 4, 4]\n"
     ]
    }
   ],
   "source": [
    "print([len(f.split('/')) for f in filenames][:10])"
   ]
  },
  {
   "cell_type": "code",
   "execution_count": 55,
   "id": "f96f84f4-f924-4b14-9eaf-5b66be5418d6",
   "metadata": {},
   "outputs": [
    {
     "data": {
      "text/plain": [
       "['training', '']"
      ]
     },
     "execution_count": 55,
     "metadata": {},
     "output_type": "execute_result"
    }
   ],
   "source": [
    "'training/'.split('/')"
   ]
  },
  {
   "cell_type": "code",
   "execution_count": 56,
   "id": "9c549042-b383-446b-a143-611fff23c5e1",
   "metadata": {},
   "outputs": [
    {
     "data": {
      "text/plain": [
       "True"
      ]
     },
     "execution_count": 56,
     "metadata": {},
     "output_type": "execute_result"
    }
   ],
   "source": [
    "any([len(f.split('/'))>3 for f in filenames])"
   ]
  },
  {
   "cell_type": "code",
   "execution_count": 50,
   "id": "4f72fda3-02f6-4629-a38a-600a8094c2a6",
   "metadata": {},
   "outputs": [
    {
     "data": {
      "text/plain": [
       "['',\n",
       " 'training/',\n",
       " 'testing/',\n",
       " 'training/9/',\n",
       " 'training/0/',\n",
       " 'training/7/',\n",
       " 'training/6/',\n",
       " 'training/1/',\n",
       " 'training/8/',\n",
       " 'training/4/',\n",
       " 'training/3/',\n",
       " 'training/2/',\n",
       " 'training/5/',\n",
       " 'testing/9/',\n",
       " 'testing/0/',\n",
       " 'testing/7/',\n",
       " 'testing/6/',\n",
       " 'testing/1/',\n",
       " 'testing/8/',\n",
       " 'testing/4/']"
      ]
     },
     "execution_count": 50,
     "metadata": {},
     "output_type": "execute_result"
    }
   ],
   "source": [
    "filenames[:20]"
   ]
  },
  {
   "cell_type": "code",
   "execution_count": null,
   "id": "82976c91-9105-4690-8d9f-8d070f18bcb3",
   "metadata": {},
   "outputs": [],
   "source": []
  }
 ],
 "metadata": {
  "kernelspec": {
   "display_name": "Python 3 (ipykernel)",
   "language": "python",
   "name": "python3"
  },
  "language_info": {
   "codemirror_mode": {
    "name": "ipython",
    "version": 3
   },
   "file_extension": ".py",
   "mimetype": "text/x-python",
   "name": "python",
   "nbconvert_exporter": "python",
   "pygments_lexer": "ipython3",
   "version": "3.12.6"
  }
 },
 "nbformat": 4,
 "nbformat_minor": 5
}
