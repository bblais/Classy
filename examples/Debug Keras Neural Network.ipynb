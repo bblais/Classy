{
 "cells": [
  {
   "cell_type": "code",
   "execution_count": 1,
   "metadata": {},
   "outputs": [
    {
     "name": "stdout",
     "output_type": "stream",
     "text": [
      "Populating the interactive namespace from numpy and matplotlib\n",
      "Version:  0.0.16\n"
     ]
    }
   ],
   "source": [
    "%pylab inline\n",
    "from classy import *"
   ]
  },
  {
   "cell_type": "code",
   "execution_count": 2,
   "metadata": {},
   "outputs": [
    {
     "name": "stdout",
     "output_type": "stream",
     "text": [
      "iris.data 151 5\n",
      "150 vectors of length 4\n",
      "Feature names: 'petal length in cm', 'petal width in cm', 'sepal length in cm', 'sepal width in cm'\n",
      "Target values given.\n",
      "Target names: 'Iris-setosa', 'Iris-versicolor', 'Iris-virginica'\n",
      "Mean:  [ 3.75866667  1.19866667  5.84333333  3.054     ]\n",
      "Median:  [ 4.35  1.3   5.8   3.  ]\n",
      "Stddev:  [ 1.75852918  0.76061262  0.82530129  0.43214658]\n",
      "Original vector shape:  (150, 4)\n",
      "Train vector shape:  (120, 4)\n",
      "Test vector shape:  (30, 4)\n"
     ]
    }
   ],
   "source": [
    "data=load_excel('data/iris.xls')\n",
    "data_train,data_test=split(data,test_size=0.2)"
   ]
  },
  {
   "cell_type": "code",
   "execution_count": 3,
   "metadata": {},
   "outputs": [],
   "source": [
    "X=data.vectors\n",
    "Y=data.targets"
   ]
  },
  {
   "cell_type": "code",
   "execution_count": 4,
   "metadata": {},
   "outputs": [
    {
     "name": "stderr",
     "output_type": "stream",
     "text": [
      "Using TensorFlow backend.\n"
     ]
    }
   ],
   "source": [
    "from keras.utils import np_utils"
   ]
  },
  {
   "cell_type": "code",
   "execution_count": 37,
   "metadata": {},
   "outputs": [],
   "source": [
    "# convert integers to dummy variables (i.e. one hot encoded)\n",
    "dummy_y = np_utils.to_categorical(data_train.targets)"
   ]
  },
  {
   "cell_type": "code",
   "execution_count": 38,
   "metadata": {},
   "outputs": [
    {
     "data": {
      "text/plain": [
       "array([[ 0.,  1.,  0.],\n",
       "       [ 0.,  0.,  1.],\n",
       "       [ 0.,  0.,  1.],\n",
       "       [ 0.,  1.,  0.],\n",
       "       [ 0.,  0.,  1.],\n",
       "       [ 1.,  0.,  0.],\n",
       "       [ 0.,  1.,  0.],\n",
       "       [ 0.,  1.,  0.],\n",
       "       [ 0.,  0.,  1.],\n",
       "       [ 0.,  1.,  0.]])"
      ]
     },
     "execution_count": 38,
     "metadata": {},
     "output_type": "execute_result"
    }
   ],
   "source": [
    "dummy_y[:10,:]"
   ]
  },
  {
   "cell_type": "code",
   "execution_count": 39,
   "metadata": {},
   "outputs": [
    {
     "data": {
      "text/plain": [
       "(120, 3)"
      ]
     },
     "execution_count": 39,
     "metadata": {},
     "output_type": "execute_result"
    }
   ],
   "source": [
    "dummy_y.shape"
   ]
  },
  {
   "cell_type": "code",
   "execution_count": 40,
   "metadata": {},
   "outputs": [],
   "source": [
    "from keras.models import Sequential\n",
    "from keras.layers import Dense\n",
    "import numpy\n",
    "# fix random seed for reproducibility\n",
    "numpy.random.seed(7)"
   ]
  },
  {
   "cell_type": "code",
   "execution_count": 41,
   "metadata": {},
   "outputs": [
    {
     "data": {
      "text/plain": [
       "(120, 4)"
      ]
     },
     "execution_count": 41,
     "metadata": {},
     "output_type": "execute_result"
    }
   ],
   "source": [
    "data_train.vectors.shape"
   ]
  },
  {
   "cell_type": "code",
   "execution_count": 42,
   "metadata": {},
   "outputs": [
    {
     "data": {
      "text/plain": [
       "(120, 4)"
      ]
     },
     "execution_count": 42,
     "metadata": {},
     "output_type": "execute_result"
    }
   ],
   "source": [
    "data_train.vectors.shape"
   ]
  },
  {
   "cell_type": "code",
   "execution_count": 43,
   "metadata": {},
   "outputs": [],
   "source": [
    "# create model\n",
    "model = Sequential()\n",
    "model.add(Dense(12, input_dim=data_train.vectors.shape[1], activation='relu'))\n",
    "model.add(Dense(4, activation='relu'))\n",
    "model.add(Dense(dummy_y.shape[1], activation='sigmoid'))"
   ]
  },
  {
   "cell_type": "code",
   "execution_count": 44,
   "metadata": {},
   "outputs": [],
   "source": [
    "# Compile model\n",
    "model.compile(loss='binary_crossentropy', optimizer='adam', metrics=['accuracy'])"
   ]
  },
  {
   "cell_type": "code",
   "execution_count": 49,
   "metadata": {},
   "outputs": [
    {
     "data": {
      "text/plain": [
       "<keras.callbacks.History at 0x12fa4c2e8>"
      ]
     },
     "execution_count": 49,
     "metadata": {},
     "output_type": "execute_result"
    }
   ],
   "source": [
    "model.fit(data_train.vectors, dummy_y,epochs=300,batch_size=10,verbose=False)"
   ]
  },
  {
   "cell_type": "code",
   "execution_count": 50,
   "metadata": {},
   "outputs": [
    {
     "name": "stdout",
     "output_type": "stream",
     "text": [
      " 32/120 [=======>......................] - ETA: 0s\n",
      "acc: 100.00%\n"
     ]
    }
   ],
   "source": [
    "# evaluate the model\n",
    "scores = model.evaluate(data_train.vectors, dummy_y)\n",
    "print(\"\\n%s: %.2f%%\" % (model.metrics_names[1], scores[1]*100))"
   ]
  },
  {
   "cell_type": "code",
   "execution_count": 56,
   "metadata": {},
   "outputs": [
    {
     "data": {
      "text/plain": [
       "array([[  1.00000000e+00,   1.60468385e-08,   4.28483546e-22],\n",
       "       [  6.10316520e-11,   1.71292470e-06,   9.99998569e-01],\n",
       "       [  1.00000000e+00,   1.54111817e-08,   5.62919580e-22],\n",
       "       [  1.00000000e+00,   4.69757255e-09,   9.24069219e-24],\n",
       "       [  9.99999881e-01,   2.55046928e-07,   3.28012737e-21],\n",
       "       [  1.33636902e-09,   1.26263112e-01,   8.76937509e-01],\n",
       "       [  8.55412755e-11,   8.20309469e-06,   9.99994636e-01],\n",
       "       [  1.00000000e+00,   1.60468385e-08,   4.28483546e-22],\n",
       "       [  5.34081113e-10,   7.07869003e-06,   9.99994040e-01],\n",
       "       [  1.00000000e+00,   5.95114291e-10,   7.02447898e-24],\n",
       "       [  1.53222857e-08,   9.99998093e-01,   1.81717212e-07],\n",
       "       [  1.00000000e+00,   3.83528848e-10,   7.92520382e-25],\n",
       "       [  1.00000000e+00,   2.31852249e-09,   1.46577077e-23],\n",
       "       [  1.00000000e+00,   2.51591525e-10,   1.79693960e-25],\n",
       "       [  6.13479016e-12,   5.33209764e-04,   9.99574840e-01],\n",
       "       [  3.37093624e-08,   9.99574006e-01,   3.27293965e-04],\n",
       "       [  9.99999285e-01,   1.90534956e-06,   9.31488734e-21],\n",
       "       [  1.00000000e+00,   1.55837665e-09,   1.19487231e-23],\n",
       "       [  1.00000000e+00,   9.18484844e-09,   1.58221971e-21],\n",
       "       [  1.26899845e-11,   5.48243975e-07,   9.99999523e-01],\n",
       "       [  5.56455237e-09,   9.99997377e-01,   4.11207537e-07],\n",
       "       [  2.84364858e-11,   1.11682148e-05,   9.99992490e-01],\n",
       "       [  1.00000000e+00,   6.19525409e-08,   6.43723746e-21],\n",
       "       [  5.88725646e-09,   9.99999642e-01,   1.41912464e-08],\n",
       "       [  6.27236652e-10,   4.78478887e-06,   9.99995470e-01],\n",
       "       [  2.82293633e-10,   1.94458498e-05,   9.99987125e-01],\n",
       "       [  8.05494480e-08,   9.99960065e-01,   1.39770400e-05],\n",
       "       [  9.15346965e-10,   1.99328089e-04,   9.99856472e-01],\n",
       "       [  1.00000000e+00,   4.77469841e-09,   7.09709821e-23],\n",
       "       [  1.56197666e-10,   1.74978522e-05,   9.99988437e-01]], dtype=float32)"
      ]
     },
     "execution_count": 56,
     "metadata": {},
     "output_type": "execute_result"
    }
   ],
   "source": [
    "model.predict(data_test.vectors)"
   ]
  },
  {
   "cell_type": "code",
   "execution_count": 59,
   "metadata": {},
   "outputs": [
    {
     "data": {
      "text/plain": [
       "30"
      ]
     },
     "execution_count": 59,
     "metadata": {},
     "output_type": "execute_result"
    }
   ],
   "source": [
    "out=model.predict(data_test.vectors)\n",
    "argmax(out,axis=1)"
   ]
  },
  {
   "cell_type": "code",
   "execution_count": 104,
   "metadata": {},
   "outputs": [],
   "source": [
    "from keras.models import Sequential\n",
    "from keras.layers import Dense\n",
    "from keras.utils import np_utils\n",
    "\n",
    "class KerasMLP(object):\n",
    "    \n",
    "    def percent_correct(self,vectors,targets):\n",
    "        return self.score(vectors,targets)*100.0\n",
    "    def __init__(self,**kwargs):\n",
    "        \n",
    "        self.model=None\n",
    "        self.dummy_y=None\n",
    "        self.hidden_layer_sizes=kwargs.get('hidden_layer_sizes',[4])\n",
    "    \n",
    "    \n",
    "        model.add(Dense(12, input_dim=data_train.vectors.shape[1], activation='relu'))    \n",
    "                \n",
    "    def fit(self,*args,**kwargs):\n",
    "        X,Y=args[0],args[1]\n",
    "        epochs=kwargs.get('epochs',300)\n",
    "        batch_size=kwargs.get('batch_size',10)\n",
    "        if self.model is None:\n",
    "            self.model=Sequential()\n",
    "            self.model.add(Dense(self.hidden_layer_sizes[0], input_dim=X.shape[1], activation='relu'))\n",
    "\n",
    "            for n in self.hidden_layer_sizes[1:]:\n",
    "                self.model.add(Dense(n, activation='relu'))     \n",
    "                \n",
    "            self.dummy_y = np_utils.to_categorical(Y)                \n",
    "            self.model.add(Dense(self.dummy_y.shape[1], activation='sigmoid'))\n",
    "            self.model.compile(loss='binary_crossentropy', optimizer='adam', metrics=['accuracy'])\n",
    "            \n",
    "        self.model.fit(X, dummy_y,epochs=epochs,batch_size=batch_size,verbose=False)\n",
    "     \n",
    "    \n",
    "        self.weights=[]\n",
    "        self.bias=[]\n",
    "        \n",
    "        for layer in self.model.layers:\n",
    "            w,b = layer.get_weights()     \n",
    "            self.weights.append(w)\n",
    "            self.bias.append(b)\n",
    "    \n",
    "    \n",
    "    def percent_correct(self,vectors,targets):\n",
    "        dummy_y = np_utils.to_categorical(targets)\n",
    "        scores = self.model.evaluate(vectors, dummy_y,verbose=False)\n",
    "        return scores[1]\n",
    "\n",
    "    def output(self, X):\n",
    "        return self.model.predict(X)\n",
    "\n",
    "    def predict(self, X):\n",
    "        output=self.model.predict(X)\n",
    "        return argmax(output,axis=1)\n",
    "    \n",
    "    def predict_names(self,vectors,names):\n",
    "        result=self.predict(vectors)\n",
    "        return [names[i] for i in result]\n",
    "    "
   ]
  },
  {
   "cell_type": "code",
   "execution_count": 96,
   "metadata": {},
   "outputs": [],
   "source": [
    "C=KerasMLP(hidden_unit_sizes=[4])"
   ]
  },
  {
   "cell_type": "code",
   "execution_count": 97,
   "metadata": {},
   "outputs": [
    {
     "name": "stdout",
     "output_type": "stream",
     "text": [
      "Time Reset\n",
      "('Training time: ', '6.831284046173096 seconds ')\n"
     ]
    }
   ],
   "source": [
    "timeit(reset=True)\n",
    "C.fit(data_train.vectors,data_train.targets)\n",
    "print((\"Training time: \",timeit()))"
   ]
  },
  {
   "cell_type": "code",
   "execution_count": 98,
   "metadata": {},
   "outputs": [
    {
     "name": "stdout",
     "output_type": "stream",
     "text": [
      "('On Training Set:', 0.99444444974263513)\n",
      "('On Test Set:', 0.95555561780929565)\n"
     ]
    }
   ],
   "source": [
    "print((\"On Training Set:\",C.percent_correct(data_train.vectors,data_train.targets)))\n",
    "print((\"On Test Set:\",C.percent_correct(data_test.vectors,data_test.targets)))"
   ]
  },
  {
   "cell_type": "code",
   "execution_count": 99,
   "metadata": {},
   "outputs": [
    {
     "data": {
      "text/plain": [
       "array([1, 2, 2, 1, 2, 0, 1, 1, 2, 1, 0, 0, 2, 2, 0, 1, 2, 2, 2, 1, 0, 2, 0,\n",
       "       0, 1, 2, 0, 0, 1, 2, 1, 0, 1, 2, 0, 2, 2, 2, 0, 2, 2, 1, 1, 2, 1, 1,\n",
       "       2, 1, 2, 1, 0, 1, 0, 0, 0, 0, 2, 1, 0, 0, 2, 1, 2, 0, 1, 1, 1, 2, 1,\n",
       "       1, 1, 0, 0, 0, 0, 2, 1, 1, 2, 2, 0, 2, 1, 0, 2, 0, 0, 0, 2, 1, 2, 1,\n",
       "       1, 2, 2, 2, 0, 2, 0, 1, 1, 2, 1, 1, 0, 2, 0, 1, 1, 1, 1, 2, 2, 1, 0,\n",
       "       1, 0, 2, 0, 2])"
      ]
     },
     "execution_count": 99,
     "metadata": {},
     "output_type": "execute_result"
    }
   ],
   "source": [
    "C.predict(data_train.vectors)"
   ]
  },
  {
   "cell_type": "code",
   "execution_count": 100,
   "metadata": {},
   "outputs": [
    {
     "data": {
      "text/plain": [
       "array([1, 2, 2, 1, 2, 0, 1, 1, 2, 1, 0, 0, 2, 2, 0, 1, 2, 2, 2, 1, 0, 2, 0,\n",
       "       0, 1, 2, 0, 0, 1, 1, 1, 0, 1, 2, 0, 2, 2, 2, 0, 2, 2, 1, 1, 2, 1, 1,\n",
       "       2, 1, 2, 1, 0, 1, 0, 0, 0, 0, 2, 1, 0, 0, 2, 1, 2, 0, 1, 1, 1, 2, 1,\n",
       "       1, 1, 0, 0, 0, 0, 2, 1, 1, 2, 2, 0, 2, 1, 0, 2, 0, 0, 0, 2, 1, 2, 1,\n",
       "       1, 2, 2, 2, 0, 2, 0, 1, 1, 2, 1, 1, 0, 2, 0, 1, 1, 1, 1, 2, 2, 1, 0,\n",
       "       1, 0, 2, 0, 2])"
      ]
     },
     "execution_count": 100,
     "metadata": {},
     "output_type": "execute_result"
    }
   ],
   "source": [
    "data_train.targets"
   ]
  },
  {
   "cell_type": "code",
   "execution_count": 103,
   "metadata": {},
   "outputs": [
    {
     "data": {
      "text/plain": [
       "([array([[-0.93730491, -0.63207489, -1.20870042,  0.83237678],\n",
       "         [-0.49014619, -0.60080981, -1.70733559,  1.71018529],\n",
       "         [ 0.63286042, -0.46314052,  0.7151987 , -0.05413043],\n",
       "         [ 0.5427053 , -0.01360828,  0.7378639 ,  0.21850841]], dtype=float32),\n",
       "  array([[ 0.74035454,  2.06471992, -3.47726083],\n",
       "         [-0.1860289 , -0.73370296, -0.73682344],\n",
       "         [ 1.8240757 , -3.11415005, -0.85160005],\n",
       "         [-1.31214011, -0.40642127,  0.50792986]], dtype=float32)],\n",
       " [array([ 0.89955032,  0.        ,  0.42720661, -0.2098252 ], dtype=float32),\n",
       "  array([-0.44809642,  0.64235866,  0.08107103], dtype=float32)])"
      ]
     },
     "execution_count": 103,
     "metadata": {},
     "output_type": "execute_result"
    }
   ],
   "source": [
    "C.weights,C.bias"
   ]
  },
  {
   "cell_type": "code",
   "execution_count": null,
   "metadata": {},
   "outputs": [],
   "source": []
  }
 ],
 "metadata": {
  "kernelspec": {
   "display_name": "Python 3",
   "language": "python",
   "name": "python3"
  },
  "language_info": {
   "codemirror_mode": {
    "name": "ipython",
    "version": 3
   },
   "file_extension": ".py",
   "mimetype": "text/x-python",
   "name": "python",
   "nbconvert_exporter": "python",
   "pygments_lexer": "ipython3",
   "version": "3.7.6"
  }
 },
 "nbformat": 4,
 "nbformat_minor": 4
}
