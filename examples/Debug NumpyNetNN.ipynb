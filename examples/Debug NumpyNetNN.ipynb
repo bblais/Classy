{
 "cells": [
  {
   "cell_type": "code",
   "execution_count": 1,
   "metadata": {},
   "outputs": [
    {
     "name": "stdout",
     "output_type": "stream",
     "text": [
      "Populating the interactive namespace from numpy and matplotlib\n",
      "Version  1.0.3\n",
      "Version:  0.0.21\n"
     ]
    }
   ],
   "source": [
    "%pylab inline\n",
    "from classy import *"
   ]
  },
  {
   "cell_type": "code",
   "execution_count": 2,
   "metadata": {},
   "outputs": [
    {
     "name": "stdout",
     "output_type": "stream",
     "text": [
      "iris.data 151 5\n",
      "150 vectors of length 4\n",
      "Feature names: 'petal length in cm', 'petal width in cm', 'sepal length in cm', 'sepal width in cm'\n",
      "Target values given.\n",
      "Target names: 'Iris-setosa', 'Iris-versicolor', 'Iris-virginica'\n",
      "Mean:  [3.75866667 1.19866667 5.84333333 3.054     ]\n",
      "Median:  [4.35 1.3  5.8  3.  ]\n",
      "Stddev:  [1.75852918 0.76061262 0.82530129 0.43214658]\n",
      "Original vector shape:  (150, 4)\n",
      "Train vector shape:  (120, 4)\n",
      "Test vector shape:  (30, 4)\n"
     ]
    }
   ],
   "source": [
    "data=load_excel('data/iris.xls')\n",
    "data_train,data_test=split(data,test_size=0.2)"
   ]
  },
  {
   "cell_type": "code",
   "execution_count": 3,
   "metadata": {},
   "outputs": [],
   "source": [
    "C=NumPyNetBackProp({\n",
    "    'input':4,               # number of features\n",
    "    'hidden':[(5,'logistic'),],\n",
    "    'output':(3,'logistic'),  # number of classes\n",
    "    'cost':'mse',\n",
    "})"
   ]
  },
  {
   "cell_type": "code",
   "execution_count": 10,
   "metadata": {},
   "outputs": [
    {
     "name": "stderr",
     "output_type": "stream",
     "text": [
      "100%|██████████| 1000/1000 [00:01<00:00, 785.99it/s]\n"
     ]
    }
   ],
   "source": [
    "C.fit(data_train.vectors,data_train.targets,epochs=1000)"
   ]
  },
  {
   "cell_type": "code",
   "execution_count": 5,
   "metadata": {},
   "outputs": [
    {
     "data": {
      "text/plain": [
       "17.142857142857142"
      ]
     },
     "execution_count": 5,
     "metadata": {},
     "output_type": "execute_result"
    }
   ],
   "source": [
    "len(data_train.vectors)/7"
   ]
  },
  {
   "cell_type": "code",
   "execution_count": 6,
   "metadata": {},
   "outputs": [
    {
     "ename": "ValueError",
     "evalue": "",
     "output_type": "error",
     "traceback": [
      "\u001b[0;31m---------------------------------------------------------------------------\u001b[0m",
      "\u001b[0;31mValueError\u001b[0m                                Traceback (most recent call last)",
      "\u001b[0;32m<ipython-input-6-e4c8e09828d5>\u001b[0m in \u001b[0;36m<module>\u001b[0;34m()\u001b[0m\n\u001b[0;32m----> 1\u001b[0;31m \u001b[0;32mraise\u001b[0m \u001b[0mValueError\u001b[0m\u001b[0;34m\u001b[0m\u001b[0;34m\u001b[0m\u001b[0m\n\u001b[0m",
      "\u001b[0;31mValueError\u001b[0m: "
     ]
    }
   ],
   "source": [
    "raise ValueError"
   ]
  },
  {
   "cell_type": "code",
   "execution_count": 11,
   "metadata": {},
   "outputs": [
    {
     "name": "stdout",
     "output_type": "stream",
     "text": [
      "On Training Set: 98.33333333333333\n",
      "On Test Set: 96.66666666666667\n"
     ]
    }
   ],
   "source": [
    "print(\"On Training Set:\",C.percent_correct(data_train.vectors,data_train.targets))\n",
    "print(\"On Test Set:\",C.percent_correct(data_test.vectors,data_test.targets))"
   ]
  },
  {
   "cell_type": "markdown",
   "metadata": {},
   "source": [
    "## Image classification as just vectors"
   ]
  },
  {
   "cell_type": "code",
   "execution_count": 12,
   "metadata": {},
   "outputs": [
    {
     "name": "stdout",
     "output_type": "stream",
     "text": [
      "[9]: 180 files found\n",
      "[0]: 178 files found\n",
      "[7]: 179 files found\n",
      "[6]: 181 files found\n",
      "[1]: 182 files found\n",
      "[8]: 174 files found\n",
      "[4]: 181 files found\n",
      "[3]: 183 files found\n",
      "[2]: 177 files found\n",
      "[5]: 182 files found\n"
     ]
    }
   ],
   "source": [
    "images=image.load_images('data/digits')"
   ]
  },
  {
   "cell_type": "code",
   "execution_count": 13,
   "metadata": {},
   "outputs": [
    {
     "name": "stdout",
     "output_type": "stream",
     "text": [
      "1797 vectors of length 64\n",
      "Feature names: 'p0', 'p1', 'p2', 'p3', 'p4'  , ... ,  'p59', 'p60', 'p61', 'p62', 'p63'  (64 features)\n",
      "Target values given.\n",
      "Target names: '9', '0', '7', '6', '1', '8', '4', '3', '2', '5'\n",
      "Mean:  [0.00000000e+00 1.84839657e-02 3.23591607e-01 7.38828330e-01\n",
      " 7.39568126e-01 3.59937587e-01 8.45417744e-02 8.03081388e-03\n",
      " 3.33889816e-04 1.23495586e-01 6.47855358e-01 7.47753882e-01\n",
      " 6.41192838e-01 5.09895578e-01 1.14524207e-01 6.66688490e-03\n",
      " 1.65853765e-04 1.61249141e-01 6.17944941e-01 4.35610549e-01\n",
      " 4.42410554e-01 4.86953201e-01 1.10827414e-01 3.07047694e-03\n",
      " 6.54685914e-05 1.52945541e-01 5.67224241e-01 5.50143485e-01\n",
      " 6.19638395e-01 4.70677709e-01 1.43878141e-01 1.30937183e-04\n",
      " 0.00000000e+00 1.45130774e-01 4.78152040e-01 5.66067629e-01\n",
      " 6.43054328e-01 5.45418835e-01 1.80479448e-01 0.00000000e+00\n",
      " 5.39024736e-04 9.79846585e-02 4.29257914e-01 4.50827632e-01\n",
      " 4.78407367e-01 5.13627287e-01 2.14808995e-01 1.66290222e-03\n",
      " 4.45186422e-04 4.32856504e-02 4.67890929e-01 5.94897814e-01\n",
      " 5.87172521e-01 5.46431416e-01 2.31750085e-01 1.27009067e-02\n",
      " 3.27342957e-05 1.70502035e-02 3.45722173e-01 7.54756839e-01\n",
      " 7.37292001e-01 4.21552260e-01 1.28427554e-01 2.26303098e-02]\n",
      "Median:  [0.         0.         0.24705882 0.81176471 0.81176471 0.24705882\n",
      " 0.         0.         0.         0.         0.74901961 0.81176471\n",
      " 0.68627451 0.56078431 0.         0.         0.         0.05882353\n",
      " 0.74901961 0.37254902 0.37254902 0.49803922 0.         0.\n",
      " 0.         0.05882353 0.68627451 0.62352941 0.74901961 0.43529412\n",
      " 0.         0.         0.         0.         0.49803922 0.62352941\n",
      " 0.81176471 0.62352941 0.05882353 0.         0.         0.\n",
      " 0.37254902 0.43529412 0.49803922 0.56078431 0.05882353 0.\n",
      " 0.         0.         0.49803922 0.62352941 0.62352941 0.62352941\n",
      " 0.05882353 0.         0.         0.         0.24705882 0.81176471\n",
      " 0.8745098  0.37254902 0.         0.        ]\n",
      "Stddev:  [0.         0.05579285 0.29723449 0.26621638 0.26871501 0.35434552\n",
      " 0.20739706 0.06459672 0.00568009 0.19904961 0.33942832 0.24942315\n",
      " 0.29971608 0.37857804 0.22363001 0.05143716 0.0037381  0.2229286\n",
      " 0.35611499 0.36306081 0.38627451 0.38740313 0.20310099 0.02707403\n",
      " 0.00196133 0.19588118 0.38736542 0.36817327 0.38480505 0.36736861\n",
      " 0.229754   0.00277219 0.         0.21679725 0.39553049 0.39207505\n",
      " 0.37115282 0.36721628 0.22036094 0.         0.00886887 0.1857008\n",
      " 0.40863706 0.40268733 0.39150112 0.35618584 0.27018562 0.01893775\n",
      " 0.01267238 0.10832613 0.3530198  0.32736531 0.3321054  0.37715819\n",
      " 0.307116   0.06098232 0.00138725 0.05758169 0.31908797 0.27399872\n",
      " 0.30890016 0.3689156  0.25527947 0.115961  ]\n",
      "Original vector shape:  (1797, 64)\n",
      "Train vector shape:  (1437, 64)\n",
      "Test vector shape:  (360, 64)\n"
     ]
    }
   ],
   "source": [
    "data=image.images_to_vectors(images,verbose=False)\n",
    "\n",
    "data.vectors/=255\n",
    "summary(data)\n",
    "\n",
    "data_train,data_test=split(data,test_size=0.2)"
   ]
  },
  {
   "cell_type": "code",
   "execution_count": 32,
   "metadata": {},
   "outputs": [],
   "source": [
    "number_of_features=data.vectors.shape[1]\n",
    "number_of_classes=len(data.target_names)"
   ]
  },
  {
   "cell_type": "code",
   "execution_count": 33,
   "metadata": {},
   "outputs": [],
   "source": [
    "C=NumPyNetBackProp({\n",
    "    'input':number_of_features,               # number of features\n",
    "    'hidden':[(5,'logistic'),],               # sizes here are arbitrary\n",
    "    'output':(number_of_classes,'logistic'),  # number of classes\n",
    "    'cost':'mse',\n",
    "})"
   ]
  },
  {
   "cell_type": "code",
   "execution_count": 34,
   "metadata": {},
   "outputs": [
    {
     "name": "stderr",
     "output_type": "stream",
     "text": [
      "  3%|▎         | 30/1000 [00:00<00:03, 292.44it/s]"
     ]
    },
    {
     "name": "stdout",
     "output_type": "stream",
     "text": [
      "layer       filters  size              input                output\n",
      "   0 input                  1437 x   1 x   1 x  64   ->  1437 x   1 x   1 x  64\n",
      "   1 connected              1437 x   1 x   1 x  64   ->  1437 x   5\n",
      "   2 connected              1437 x   1 x   1 x   5   ->  1437 x  10\n",
      "   3 cost                   1437 x   1 x   1 x  10   ->  1437 x   1 x   1 x  10\n"
     ]
    },
    {
     "name": "stderr",
     "output_type": "stream",
     "text": [
      "100%|██████████| 1000/1000 [00:02<00:00, 339.53it/s]\n"
     ]
    }
   ],
   "source": [
    "C.fit(data_train.vectors,data_train.targets,epochs=1000)"
   ]
  },
  {
   "cell_type": "code",
   "execution_count": 35,
   "metadata": {},
   "outputs": [
    {
     "name": "stdout",
     "output_type": "stream",
     "text": [
      "On Training Set: 33.26374391092554\n",
      "On Test Set: 33.88888888888889\n"
     ]
    }
   ],
   "source": [
    "print(\"On Training Set:\",C.percent_correct(data_train.vectors,data_train.targets))\n",
    "print(\"On Test Set:\",C.percent_correct(data_test.vectors,data_test.targets))"
   ]
  },
  {
   "cell_type": "code",
   "execution_count": 36,
   "metadata": {},
   "outputs": [
    {
     "data": {
      "text/plain": [
       "(1437, 64)"
      ]
     },
     "execution_count": 36,
     "metadata": {},
     "output_type": "execute_result"
    }
   ],
   "source": [
    "data_train.vectors.shape"
   ]
  },
  {
   "cell_type": "code",
   "execution_count": 37,
   "metadata": {},
   "outputs": [
    {
     "data": {
      "text/plain": [
       "array([9, 9, 5, ..., 6, 4, 7], dtype=int32)"
      ]
     },
     "execution_count": 37,
     "metadata": {},
     "output_type": "execute_result"
    }
   ],
   "source": [
    "data_train.targets"
   ]
  },
  {
   "cell_type": "code",
   "execution_count": 38,
   "metadata": {},
   "outputs": [
    {
     "data": {
      "text/plain": [
       "(64,)"
      ]
     },
     "execution_count": 38,
     "metadata": {},
     "output_type": "execute_result"
    }
   ],
   "source": [
    "data_train.vectors.shape[1:]"
   ]
  },
  {
   "cell_type": "code",
   "execution_count": 39,
   "metadata": {},
   "outputs": [],
   "source": [
    "import classy"
   ]
  },
  {
   "cell_type": "code",
   "execution_count": 40,
   "metadata": {},
   "outputs": [],
   "source": [
    "classy.datasets.save_csv('digits_data.csv',data)"
   ]
  },
  {
   "cell_type": "code",
   "execution_count": 41,
   "metadata": {},
   "outputs": [
    {
     "name": "stdout",
     "output_type": "stream",
     "text": [
      "1797 vectors of length 64\n",
      "Feature names: 'p0', 'p1', 'p10', 'p11', 'p12'  , ... ,  'p62', 'p63', 'p7', 'p8', 'p9'  (64 features)\n",
      "Target values given.\n",
      "Target names: '0', '1', '2', '3', '4', '5', '6', '7', '8', '9'\n",
      "Mean:  [0.00000000e+00 1.84839657e-02 6.47855358e-01 7.47753882e-01\n",
      " 6.41192838e-01 5.09895578e-01 1.14524207e-01 6.66688490e-03\n",
      " 1.65853765e-04 1.61249141e-01 6.17944941e-01 4.35610549e-01\n",
      " 3.23591607e-01 4.42410554e-01 4.86953201e-01 1.10827414e-01\n",
      " 3.07047694e-03 6.54685914e-05 1.52945541e-01 5.67224241e-01\n",
      " 5.50143485e-01 6.19638395e-01 4.70677709e-01 7.38828330e-01\n",
      " 1.43878141e-01 1.30937183e-04 0.00000000e+00 1.45130774e-01\n",
      " 4.78152040e-01 5.66067629e-01 6.43054328e-01 5.45418835e-01\n",
      " 1.80479448e-01 0.00000000e+00 7.39568126e-01 5.39024736e-04\n",
      " 9.79846585e-02 4.29257914e-01 4.50827632e-01 4.78407367e-01\n",
      " 5.13627287e-01 2.14808995e-01 1.66290222e-03 4.45186422e-04\n",
      " 4.32856504e-02 3.59937587e-01 4.67890929e-01 5.94897814e-01\n",
      " 5.87172521e-01 5.46431416e-01 2.31750085e-01 1.27009067e-02\n",
      " 3.27342957e-05 1.70502035e-02 3.45722173e-01 7.54756839e-01\n",
      " 8.45417744e-02 7.37292001e-01 4.21552260e-01 1.28427554e-01\n",
      " 2.26303098e-02 8.03081388e-03 3.33889816e-04 1.23495586e-01]\n",
      "Median:  [0.         0.         0.74901961 0.81176471 0.68627451 0.56078431\n",
      " 0.         0.         0.         0.05882353 0.74901961 0.37254902\n",
      " 0.24705882 0.37254902 0.49803922 0.         0.         0.\n",
      " 0.05882353 0.68627451 0.62352941 0.74901961 0.43529412 0.81176471\n",
      " 0.         0.         0.         0.         0.49803922 0.62352941\n",
      " 0.81176471 0.62352941 0.05882353 0.         0.81176471 0.\n",
      " 0.         0.37254902 0.43529412 0.49803922 0.56078431 0.05882353\n",
      " 0.         0.         0.         0.24705882 0.49803922 0.62352941\n",
      " 0.62352941 0.62352941 0.05882353 0.         0.         0.\n",
      " 0.24705882 0.81176471 0.         0.8745098  0.37254902 0.\n",
      " 0.         0.         0.         0.        ]\n",
      "Stddev:  [0.         0.05579285 0.33942832 0.24942315 0.29971608 0.37857804\n",
      " 0.22363001 0.05143716 0.0037381  0.2229286  0.35611499 0.36306081\n",
      " 0.29723449 0.38627451 0.38740313 0.20310099 0.02707403 0.00196133\n",
      " 0.19588118 0.38736542 0.36817327 0.38480505 0.36736861 0.26621638\n",
      " 0.229754   0.00277219 0.         0.21679725 0.39553049 0.39207505\n",
      " 0.37115282 0.36721628 0.22036094 0.         0.26871501 0.00886887\n",
      " 0.1857008  0.40863706 0.40268733 0.39150112 0.35618584 0.27018562\n",
      " 0.01893775 0.01267238 0.10832613 0.35434552 0.3530198  0.32736531\n",
      " 0.3321054  0.37715819 0.307116   0.06098232 0.00138725 0.05758169\n",
      " 0.31908797 0.27399872 0.20739706 0.30890016 0.3689156  0.25527947\n",
      " 0.115961   0.06459672 0.00568009 0.19904961]\n",
      "Original vector shape:  (1797, 64)\n",
      "Train vector shape:  (1437, 64)\n",
      "Test vector shape:  (360, 64)\n"
     ]
    }
   ],
   "source": [
    "data=load_csv('digits_data.csv')\n",
    "data_train,data_test=split(data,test_size=0.2)"
   ]
  },
  {
   "cell_type": "code",
   "execution_count": 42,
   "metadata": {},
   "outputs": [],
   "source": [
    "number_of_features=data.vectors.shape[1]\n",
    "number_of_classes=len(data.target_names)"
   ]
  },
  {
   "cell_type": "code",
   "execution_count": 43,
   "metadata": {},
   "outputs": [],
   "source": [
    "C=NumPyNetBackProp({\n",
    "    'input':number_of_features,               # number of features\n",
    "    'hidden':[(5,'logistic'),],               # sizes here are arbitrary\n",
    "    'output':(number_of_classes,'logistic'),  # number of classes\n",
    "    'cost':'mse',\n",
    "},batch_size=100)"
   ]
  },
  {
   "cell_type": "code",
   "execution_count": 45,
   "metadata": {},
   "outputs": [
    {
     "name": "stderr",
     "output_type": "stream",
     "text": [
      "100%|██████████| 10000/10000 [00:28<00:00, 350.80it/s]\n"
     ]
    }
   ],
   "source": [
    "C.fit(data_train.vectors,data_train.targets,epochs=10000)"
   ]
  },
  {
   "cell_type": "code",
   "execution_count": 46,
   "metadata": {},
   "outputs": [
    {
     "name": "stdout",
     "output_type": "stream",
     "text": [
      "On Training Set: 96.79888656924147\n",
      "On Test Set: 88.88888888888889\n"
     ]
    }
   ],
   "source": [
    "print(\"On Training Set:\",C.percent_correct(data_train.vectors,data_train.targets))\n",
    "print(\"On Test Set:\",C.percent_correct(data_test.vectors,data_test.targets))"
   ]
  },
  {
   "cell_type": "code",
   "execution_count": null,
   "metadata": {},
   "outputs": [],
   "source": []
  }
 ],
 "metadata": {
  "kernelspec": {
   "display_name": "Python 3",
   "language": "python",
   "name": "python3"
  },
  "language_info": {
   "codemirror_mode": {
    "name": "ipython",
    "version": 3
   },
   "file_extension": ".py",
   "mimetype": "text/x-python",
   "name": "python",
   "nbconvert_exporter": "python",
   "pygments_lexer": "ipython3",
   "version": "3.7.7"
  }
 },
 "nbformat": 4,
 "nbformat_minor": 4
}
