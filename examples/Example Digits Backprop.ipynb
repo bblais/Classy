{
 "cells": [
  {
   "cell_type": "code",
   "execution_count": 1,
   "metadata": {
    "collapsed": false,
    "jupyter": {
     "outputs_hidden": false
    }
   },
   "outputs": [
    {
     "name": "stdout",
     "output_type": "stream",
     "text": [
      "Populating the interactive namespace from numpy and matplotlib\n",
      "Version:  0.0.15\n"
     ]
    }
   ],
   "source": [
    "%pylab inline\n",
    "from classy import *"
   ]
  },
  {
   "cell_type": "code",
   "execution_count": 2,
   "metadata": {
    "collapsed": false,
    "jupyter": {
     "outputs_hidden": false
    }
   },
   "outputs": [
    {
     "name": "stdout",
     "output_type": "stream",
     "text": [
      "[0]: 178 files found\n",
      "[1]: 182 files found\n",
      "[2]: 177 files found\n",
      "[3]: 183 files found\n",
      "[4]: 181 files found\n",
      "[5]: 182 files found\n",
      "[6]: 181 files found\n",
      "[7]: 179 files found\n",
      "[8]: 174 files found\n",
      "[9]: 180 files found\n"
     ]
    }
   ],
   "source": [
    "images=image.load_images('data/digits')"
   ]
  },
  {
   "cell_type": "code",
   "execution_count": 3,
   "metadata": {
    "collapsed": false,
    "jupyter": {
     "outputs_hidden": false
    }
   },
   "outputs": [
    {
     "name": "stdout",
     "output_type": "stream",
     "text": [
      "1797 vectors of length 64\n",
      "Feature names: 'p0', 'p1', 'p2', 'p3', 'p4'  , ... ,  'p59', 'p60', 'p61', 'p62', 'p63'  (64 features)\n",
      "Target values given.\n",
      "Target names: '0', '1', '2', '3', '4', '5', '6', '7', '8', '9'\n",
      "Mean:  [  0.00000000e+00   4.71341124e+00   8.25158598e+01   1.88401224e+02\n",
      "   1.88589872e+02   9.17840846e+01   2.15581525e+01   2.04785754e+00\n",
      "   8.51419032e-02   3.14913745e+01   1.65203116e+02   1.90677240e+02\n",
      "   1.63504174e+02   1.30023372e+02   2.92036728e+01   1.70005565e+00\n",
      "   4.22927101e-02   4.11185309e+01   1.57575960e+02   1.11080690e+02\n",
      "   1.12814691e+02   1.24173066e+02   2.82609905e+01   7.82971619e-01\n",
      "   1.66944908e-02   3.90011130e+01   1.44642181e+02   1.40286589e+02\n",
      "   1.58007791e+02   1.20022816e+02   3.66889260e+01   3.33889816e-02\n",
      "   0.00000000e+00   3.70083472e+01   1.21928770e+02   1.44347245e+02\n",
      "   1.63978854e+02   1.39081803e+02   4.60222593e+01   0.00000000e+00\n",
      "   1.37451308e-01   2.49860879e+01   1.09460768e+02   1.14961046e+02\n",
      "   1.21993879e+02   1.30974958e+02   5.47762938e+01   4.24040067e-01\n",
      "   1.13522538e-01   1.10378408e+01   1.19312187e+02   1.51698943e+02\n",
      "   1.49728993e+02   1.39340011e+02   5.90962716e+01   3.23873122e+00\n",
      "   8.34724541e-03   4.34780189e+00   8.81591541e+01   1.92462994e+02\n",
      "   1.88009460e+02   1.07495826e+02   3.27490262e+01   5.77072899e+00]\n",
      "Median:  [   0.    0.   63.  207.  207.   63.    0.    0.    0.    0.  191.  207.\n",
      "  175.  143.    0.    0.    0.   15.  191.   95.   95.  127.    0.    0.\n",
      "    0.   15.  175.  159.  191.  111.    0.    0.    0.    0.  127.  159.\n",
      "  207.  159.   15.    0.    0.    0.   95.  111.  127.  143.   15.    0.\n",
      "    0.    0.  127.  159.  159.  159.   15.    0.    0.    0.   63.  207.\n",
      "  223.   95.    0.    0.]\n",
      "Stddev:  [   0.           14.22717752   75.79479369   67.88517638   68.52232671\n",
      "   90.3581085    52.88625131   16.47216306    1.44842195   50.7576493\n",
      "   86.55422116   63.60290344   76.42760101   96.53740043   57.02565325\n",
      "   13.11647513    0.95321433   56.84679424   90.80932368   92.58050776\n",
      "   98.50000012   98.78779801   51.79075122    6.90387772    0.50013864\n",
      "   49.94970201   98.7781811    93.88418435   98.12528728   93.67899482\n",
      "   58.58726878    0.70690869    0.           55.28329868  100.86027538\n",
      "   99.97913895   94.64396922   93.64015167   56.19204049    0.\n",
      "    2.26156209   47.3537032   104.20244968  102.68526906   99.83278433\n",
      "   90.82739038   68.89733343    4.82912707    3.23145722   27.62316404\n",
      "   90.02004928   83.47815394   84.68687626   96.17533855   78.31457884\n",
      "   15.55049191    0.35374992   14.68333191   81.36743295   69.86967274\n",
      "   78.76953994   94.07347801   65.09626368   29.57005528]\n"
     ]
    }
   ],
   "source": [
    "data=image.images_to_vectors(images)\n",
    "data.vectors-=data.vectors.mean()\n",
    "data.vectors/=data.vectors.std()"
   ]
  },
  {
   "cell_type": "code",
   "execution_count": 4,
   "metadata": {
    "collapsed": false,
    "jupyter": {
     "outputs_hidden": false
    }
   },
   "outputs": [
    {
     "name": "stdout",
     "output_type": "stream",
     "text": [
      "Original vector shape:  (1797, 64)\n",
      "Train vector shape:  (1347, 64)\n",
      "Test vector shape:  (450, 64)\n"
     ]
    },
    {
     "data": {
      "image/png": "[encoded data removed]",
      "text/plain": [
       "<matplotlib.figure.Figure at 0x10f0d6b70>"
      ]
     },
     "metadata": {},
     "output_type": "display_data"
    }
   ],
   "source": [
    "data_train,data_test=split(data)\n",
    "image.vector_to_image(data_train.vectors[800,:],(8,8))"
   ]
  },
  {
   "cell_type": "markdown",
   "metadata": {},
   "source": [
    "## Do Perceptron First"
   ]
  },
  {
   "cell_type": "code",
   "execution_count": 5,
   "metadata": {
    "collapsed": true,
    "jupyter": {
     "outputs_hidden": true
    }
   },
   "outputs": [],
   "source": [
    "C=Perceptron()"
   ]
  },
  {
   "cell_type": "code",
   "execution_count": 6,
   "metadata": {
    "collapsed": false,
    "jupyter": {
     "outputs_hidden": false
    }
   },
   "outputs": [
    {
     "name": "stdout",
     "output_type": "stream",
     "text": [
      "Time Reset\n",
      "('Training time: ', '0.07055115699768066 seconds ')\n"
     ]
    }
   ],
   "source": [
    "timeit(reset=True)\n",
    "C.fit(data_train.vectors,data_train.targets)\n",
    "print((\"Training time: \",timeit()))"
   ]
  },
  {
   "cell_type": "code",
   "execution_count": 7,
   "metadata": {
    "collapsed": false,
    "jupyter": {
     "outputs_hidden": false
    }
   },
   "outputs": [
    {
     "name": "stdout",
     "output_type": "stream",
     "text": [
      "('On Training Set:', 98.886414253897541)\n",
      "('On Test Set:', 93.555555555555557)\n"
     ]
    }
   ],
   "source": [
    "print((\"On Training Set:\",C.percent_correct(data_train.vectors,data_train.targets)))\n",
    "print((\"On Test Set:\",C.percent_correct(data_test.vectors,data_test.targets)))"
   ]
  },
  {
   "cell_type": "code",
   "execution_count": 8,
   "metadata": {
    "collapsed": false,
    "jupyter": {
     "outputs_hidden": false
    }
   },
   "outputs": [
    {
     "data": {
      "text/plain": [
       "['0', '1', '2', '3', '4', '5', '6', '7', '8', '9']"
      ]
     },
     "execution_count": 8,
     "metadata": {},
     "output_type": "execute_result"
    }
   ],
   "source": [
    "data_train.target_names"
   ]
  },
  {
   "cell_type": "code",
   "execution_count": null,
   "metadata": {
    "collapsed": true,
    "jupyter": {
     "outputs_hidden": true
    }
   },
   "outputs": [],
   "source": []
  },
  {
   "cell_type": "code",
   "execution_count": 9,
   "metadata": {
    "collapsed": false,
    "jupyter": {
     "outputs_hidden": false
    }
   },
   "outputs": [
    {
     "data": {
      "image/png": "[encoded data removed]",
      "text/plain": [
       "<matplotlib.figure.Figure at 0x10f7f0be0>"
      ]
     },
     "metadata": {},
     "output_type": "display_data"
    }
   ],
   "source": [
    "import matplotlib.pyplot as plt\n",
    "plt.figure(figsize=(16,4))\n",
    "for i,t in enumerate(data_train.target_names):\n",
    "    plt.subplot(2,10,i+1)\n",
    "    vector=random_vector(data_train,t)\n",
    "    image.vector_to_image(vector,(8,8))\n",
    "    plt.axis('off')\n",
    "    \n",
    "    plt.subplot(2,10,i+11)\n",
    "    image.vector_to_image(C.weights[i,:],(8,8))\n",
    "    plt.axis('off')\n",
    "    "
   ]
  },
  {
   "cell_type": "markdown",
   "metadata": {},
   "source": [
    "## Do Backprop"
   ]
  },
  {
   "cell_type": "code",
   "execution_count": 10,
   "metadata": {
    "collapsed": false,
    "jupyter": {
     "outputs_hidden": false
    }
   },
   "outputs": [],
   "source": [
    "C=BackProp(hidden_layer_sizes = [12])"
   ]
  },
  {
   "cell_type": "code",
   "execution_count": 11,
   "metadata": {
    "collapsed": false,
    "jupyter": {
     "outputs_hidden": false
    }
   },
   "outputs": [
    {
     "name": "stdout",
     "output_type": "stream",
     "text": [
      "Time Reset\n",
      "('Training time: ', '0.26855993270874023 seconds ')\n"
     ]
    }
   ],
   "source": [
    "timeit(reset=True)\n",
    "C.fit(data_train.vectors,data_train.targets)\n",
    "print((\"Training time: \",timeit()))"
   ]
  },
  {
   "cell_type": "code",
   "execution_count": 12,
   "metadata": {
    "collapsed": false,
    "jupyter": {
     "outputs_hidden": false
    }
   },
   "outputs": [
    {
     "name": "stdout",
     "output_type": "stream",
     "text": [
      "('On Training Set:', 100.0)\n",
      "('On Test Set:', 95.333333333333343)\n"
     ]
    }
   ],
   "source": [
    "print((\"On Training Set:\",C.percent_correct(data_train.vectors,data_train.targets)))\n",
    "print((\"On Test Set:\",C.percent_correct(data_test.vectors,data_test.targets)))"
   ]
  },
  {
   "cell_type": "code",
   "execution_count": 13,
   "metadata": {
    "collapsed": false,
    "jupyter": {
     "outputs_hidden": false
    }
   },
   "outputs": [
    {
     "data": {
      "text/plain": [
       "2"
      ]
     },
     "execution_count": 13,
     "metadata": {},
     "output_type": "execute_result"
    }
   ],
   "source": [
    "len(C.layers_coef_)"
   ]
  },
  {
   "cell_type": "code",
   "execution_count": 14,
   "metadata": {
    "collapsed": false,
    "jupyter": {
     "outputs_hidden": false
    }
   },
   "outputs": [
    {
     "data": {
      "text/plain": [
       "((64, 12), (12, 10))"
      ]
     },
     "execution_count": 14,
     "metadata": {},
     "output_type": "execute_result"
    }
   ],
   "source": [
    "C.layers_coef_[0].shape,C.layers_coef_[1].shape"
   ]
  },
  {
   "cell_type": "code",
   "execution_count": null,
   "metadata": {
    "collapsed": true,
    "jupyter": {
     "outputs_hidden": true
    }
   },
   "outputs": [],
   "source": []
  }
 ],
 "metadata": {
  "anaconda-cloud": {},
  "kernelspec": {
   "display_name": "Python 3",
   "language": "python",
   "name": "python3"
  },
  "language_info": {
   "codemirror_mode": {
    "name": "ipython",
    "version": 3
   },
   "file_extension": ".py",
   "mimetype": "text/x-python",
   "name": "python",
   "nbconvert_exporter": "python",
   "pygments_lexer": "ipython3",
   "version": "3.7.7"
  }
 },
 "nbformat": 4,
 "nbformat_minor": 4
}
