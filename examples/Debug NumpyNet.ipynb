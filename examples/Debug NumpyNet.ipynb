{
 "cells": [
  {
   "cell_type": "code",
   "execution_count": 60,
   "metadata": {},
   "outputs": [
    {
     "name": "stdout",
     "output_type": "stream",
     "text": [
      "Populating the interactive namespace from numpy and matplotlib\n"
     ]
    },
    {
     "name": "stderr",
     "output_type": "stream",
     "text": [
      "/Users/bblais/opt/anaconda3/envs/py3/lib/python3.7/site-packages/IPython/core/magics/pylab.py:161: UserWarning: pylab import has clobbered these variables: ['step', 'text', 'size', 'split']\n",
      "`%matplotlib` prevents importing * from pylab and numpy\n",
      "  \"\\n`%matplotlib` prevents importing * from pylab and numpy\"\n"
     ]
    }
   ],
   "source": [
    "%pylab inline\n",
    "from classy import *"
   ]
  },
  {
   "cell_type": "code",
   "execution_count": 61,
   "metadata": {},
   "outputs": [],
   "source": [
    "from NumPyNet.network import Network\n",
    "from NumPyNet.layers.connected_layer import Connected_layer\n",
    "from NumPyNet.layers.cost_layer import Cost_layer\n",
    "from NumPyNet.optimizer import Adam,SGD\n",
    "from NumPyNet.utils import to_categorical\n",
    "from NumPyNet.utils import from_categorical\n",
    "from NumPyNet.metrics import mean_accuracy_score"
   ]
  },
  {
   "cell_type": "code",
   "execution_count": 62,
   "metadata": {},
   "outputs": [
    {
     "name": "stdout",
     "output_type": "stream",
     "text": [
      "1797 vectors of length 64\n",
      "Feature names: 'p0', 'p1', 'p10', 'p11', 'p12'  , ... ,  'p62', 'p63', 'p7', 'p8', 'p9'  (64 features)\n",
      "Target values given.\n",
      "Target names: '0', '1', '2', '3', '4', '5', '6', '7', '8', '9'\n",
      "Mean:  [0.00000000e+00 1.84839657e-02 6.47855358e-01 7.47753882e-01\n",
      " 6.41192838e-01 5.09895578e-01 1.14524207e-01 6.66688490e-03\n",
      " 1.65853765e-04 1.61249141e-01 6.17944941e-01 4.35610549e-01\n",
      " 3.23591607e-01 4.42410554e-01 4.86953201e-01 1.10827414e-01\n",
      " 3.07047694e-03 6.54685914e-05 1.52945541e-01 5.67224241e-01\n",
      " 5.50143485e-01 6.19638395e-01 4.70677709e-01 7.38828330e-01\n",
      " 1.43878141e-01 1.30937183e-04 0.00000000e+00 1.45130774e-01\n",
      " 4.78152040e-01 5.66067629e-01 6.43054328e-01 5.45418835e-01\n",
      " 1.80479448e-01 0.00000000e+00 7.39568126e-01 5.39024736e-04\n",
      " 9.79846585e-02 4.29257914e-01 4.50827632e-01 4.78407367e-01\n",
      " 5.13627287e-01 2.14808995e-01 1.66290222e-03 4.45186422e-04\n",
      " 4.32856504e-02 3.59937587e-01 4.67890929e-01 5.94897814e-01\n",
      " 5.87172521e-01 5.46431416e-01 2.31750085e-01 1.27009067e-02\n",
      " 3.27342957e-05 1.70502035e-02 3.45722173e-01 7.54756839e-01\n",
      " 8.45417744e-02 7.37292001e-01 4.21552260e-01 1.28427554e-01\n",
      " 2.26303098e-02 8.03081388e-03 3.33889816e-04 1.23495586e-01]\n",
      "Median:  [0.         0.         0.74901961 0.81176471 0.68627451 0.56078431\n",
      " 0.         0.         0.         0.05882353 0.74901961 0.37254902\n",
      " 0.24705882 0.37254902 0.49803922 0.         0.         0.\n",
      " 0.05882353 0.68627451 0.62352941 0.74901961 0.43529412 0.81176471\n",
      " 0.         0.         0.         0.         0.49803922 0.62352941\n",
      " 0.81176471 0.62352941 0.05882353 0.         0.81176471 0.\n",
      " 0.         0.37254902 0.43529412 0.49803922 0.56078431 0.05882353\n",
      " 0.         0.         0.         0.24705882 0.49803922 0.62352941\n",
      " 0.62352941 0.62352941 0.05882353 0.         0.         0.\n",
      " 0.24705882 0.81176471 0.         0.8745098  0.37254902 0.\n",
      " 0.         0.         0.         0.        ]\n",
      "Stddev:  [0.         0.05579285 0.33942832 0.24942315 0.29971608 0.37857804\n",
      " 0.22363001 0.05143716 0.0037381  0.2229286  0.35611499 0.36306081\n",
      " 0.29723449 0.38627451 0.38740313 0.20310099 0.02707403 0.00196133\n",
      " 0.19588118 0.38736542 0.36817327 0.38480505 0.36736861 0.26621638\n",
      " 0.229754   0.00277219 0.         0.21679725 0.39553049 0.39207505\n",
      " 0.37115282 0.36721628 0.22036094 0.         0.26871501 0.00886887\n",
      " 0.1857008  0.40863706 0.40268733 0.39150112 0.35618584 0.27018562\n",
      " 0.01893775 0.01267238 0.10832613 0.35434552 0.3530198  0.32736531\n",
      " 0.3321054  0.37715819 0.307116   0.06098232 0.00138725 0.05758169\n",
      " 0.31908797 0.27399872 0.20739706 0.30890016 0.3689156  0.25527947\n",
      " 0.115961   0.06459672 0.00568009 0.19904961]\n",
      "Original vector shape:  (1797, 64)\n",
      "Train vector shape:  (1437, 64)\n",
      "Test vector shape:  (360, 64)\n"
     ]
    }
   ],
   "source": [
    "data=load_csv('digits_data.csv')\n",
    "data_train,data_test=split(data,test_size=0.2)"
   ]
  },
  {
   "cell_type": "code",
   "execution_count": 63,
   "metadata": {},
   "outputs": [],
   "source": [
    "X=data.vectors\n",
    "Y=data.targets"
   ]
  },
  {
   "cell_type": "code",
   "execution_count": 64,
   "metadata": {},
   "outputs": [
    {
     "data": {
      "text/plain": [
       "(1797, 64)"
      ]
     },
     "execution_count": 64,
     "metadata": {},
     "output_type": "execute_result"
    }
   ],
   "source": [
    "X.shape"
   ]
  },
  {
   "cell_type": "code",
   "execution_count": 65,
   "metadata": {},
   "outputs": [
    {
     "data": {
      "text/plain": [
       "(1797,)"
      ]
     },
     "execution_count": 65,
     "metadata": {},
     "output_type": "execute_result"
    }
   ],
   "source": [
    "Y.shape"
   ]
  },
  {
   "cell_type": "code",
   "execution_count": 66,
   "metadata": {},
   "outputs": [
    {
     "data": {
      "text/plain": [
       "array([9, 9, 9, ..., 5, 5, 5])"
      ]
     },
     "execution_count": 66,
     "metadata": {},
     "output_type": "execute_result"
    }
   ],
   "source": [
    "Y"
   ]
  },
  {
   "cell_type": "code",
   "execution_count": 67,
   "metadata": {},
   "outputs": [
    {
     "data": {
      "text/plain": [
       "array([[0., 0., 0., 0., 0., 0., 0., 0., 0., 1.],\n",
       "       [0., 0., 0., 0., 0., 0., 0., 0., 0., 1.],\n",
       "       [0., 0., 0., 0., 0., 0., 0., 0., 0., 1.],\n",
       "       [0., 0., 0., 0., 0., 0., 0., 0., 0., 1.],\n",
       "       [0., 0., 0., 0., 0., 0., 0., 0., 0., 1.],\n",
       "       [0., 0., 0., 0., 0., 0., 0., 0., 0., 1.],\n",
       "       [0., 0., 0., 0., 0., 0., 0., 0., 0., 1.],\n",
       "       [0., 0., 0., 0., 0., 0., 0., 0., 0., 1.],\n",
       "       [0., 0., 0., 0., 0., 0., 0., 0., 0., 1.],\n",
       "       [0., 0., 0., 0., 0., 0., 0., 0., 0., 1.],\n",
       "       [0., 0., 0., 0., 0., 0., 0., 0., 0., 1.],\n",
       "       [0., 0., 0., 0., 0., 0., 0., 0., 0., 1.],\n",
       "       [0., 0., 0., 0., 0., 0., 0., 0., 0., 1.],\n",
       "       [0., 0., 0., 0., 0., 0., 0., 0., 0., 1.],\n",
       "       [0., 0., 0., 0., 0., 0., 0., 0., 0., 1.],\n",
       "       [0., 0., 0., 0., 0., 0., 0., 0., 0., 1.],\n",
       "       [0., 0., 0., 0., 0., 0., 0., 0., 0., 1.],\n",
       "       [0., 0., 0., 0., 0., 0., 0., 0., 0., 1.],\n",
       "       [0., 0., 0., 0., 0., 0., 0., 0., 0., 1.],\n",
       "       [0., 0., 0., 0., 0., 0., 0., 0., 0., 1.]])"
      ]
     },
     "execution_count": 67,
     "metadata": {},
     "output_type": "execute_result"
    }
   ],
   "source": [
    "one_hot_y=to_categorical(Y)\n",
    "one_hot_y[40:60,:]"
   ]
  },
  {
   "cell_type": "code",
   "execution_count": 68,
   "metadata": {},
   "outputs": [],
   "source": [
    "def accuracy (y_true, y_pred):\n",
    "    '''\n",
    "    Temporary metrics to overcome \"from_categorical\" missing in standard metrics\n",
    "    '''\n",
    "    from NumPyNet.metrics import mean_accuracy_score\n",
    "    truth = from_categorical(y_true)\n",
    "    predicted = from_categorical(y_pred)\n",
    "    return mean_accuracy_score(truth, predicted)\n"
   ]
  },
  {
   "cell_type": "code",
   "execution_count": 69,
   "metadata": {},
   "outputs": [],
   "source": [
    "X_train=data_train.vectors\n",
    "y_train=data_train.targets\n",
    "one_hot_y_train=to_categorical(y_train)\n",
    "\n",
    "X_test=data_test.vectors\n",
    "y_test=data_test.targets\n",
    "one_hot_y_test=to_categorical(y_test)"
   ]
  },
  {
   "cell_type": "code",
   "execution_count": 70,
   "metadata": {},
   "outputs": [
    {
     "data": {
      "text/plain": [
       "((360, 1, 1, 64), (360, 1, 1, 10))"
      ]
     },
     "execution_count": 70,
     "metadata": {},
     "output_type": "execute_result"
    }
   ],
   "source": [
    "# Reshape the data according to a 4D tensor\n",
    "num_samples, size = X_test.shape\n",
    "num_samples, size\n",
    "\n",
    "num_classes=one_hot_y_test.shape[1]\n",
    "\n",
    "X_test = X_test.reshape(num_samples, 1, 1, size)\n",
    "one_hot_y_test = one_hot_y_test.reshape(num_samples,1,1,-1)\n",
    "\n",
    "X_test.shape,one_hot_y_test.shape"
   ]
  },
  {
   "cell_type": "code",
   "execution_count": 71,
   "metadata": {},
   "outputs": [
    {
     "data": {
      "text/plain": [
       "((1437, 1, 1, 64), (1437, 1, 1, 10))"
      ]
     },
     "execution_count": 71,
     "metadata": {},
     "output_type": "execute_result"
    }
   ],
   "source": [
    "# Reshape the data according to a 4D tensor\n",
    "num_samples, size = X_train.shape\n",
    "num_samples, size\n",
    "\n",
    "num_classes=one_hot_y_train.shape[1]\n",
    "\n",
    "X_train = X_train.reshape(num_samples, 1, 1, size)\n",
    "one_hot_y_train = one_hot_y_train.reshape(num_samples,1,1,-1)\n",
    "\n",
    "X_train.shape,one_hot_y_train.shape"
   ]
  },
  {
   "cell_type": "code",
   "execution_count": null,
   "metadata": {},
   "outputs": [],
   "source": []
  },
  {
   "cell_type": "code",
   "execution_count": 72,
   "metadata": {},
   "outputs": [],
   "source": [
    "batch=len(y_train)\n",
    "step = batch"
   ]
  },
  {
   "cell_type": "code",
   "execution_count": 73,
   "metadata": {},
   "outputs": [],
   "source": [
    "model = Network(batch=batch, input_shape=X_train.shape[1:])\n",
    "model.add(Connected_layer(outputs=6, activation='tanh'))\n",
    "model.add(Connected_layer(outputs=num_classes, activation='tanh'))\n",
    "model.add(Cost_layer(cost_type='mse'))\n",
    "\n",
    "#model.compile(optimizer=SGD(lr=0.1, decay=0.03, lr_min=0., lr_max=np.inf))\n",
    "model.compile(optimizer=Adam(), metrics=[accuracy])"
   ]
  },
  {
   "cell_type": "code",
   "execution_count": 74,
   "metadata": {},
   "outputs": [
    {
     "name": "stdout",
     "output_type": "stream",
     "text": [
      "layer       filters  size              input                output\n",
      "   0 input                  1437 x   1 x   1 x  64   ->  1437 x   1 x   1 x  64\n",
      "   1 connected              1437 x   1 x   1 x  64   ->  1437 x   6\n",
      "   2 connected              1437 x   1 x   1 x   6   ->  1437 x  10\n",
      "   3 cost                   1437 x   1 x   1 x  10   ->  1437 x   1 x   1 x  10\n"
     ]
    }
   ],
   "source": [
    "model.summary()"
   ]
  },
  {
   "cell_type": "code",
   "execution_count": 75,
   "metadata": {},
   "outputs": [
    {
     "name": "stderr",
     "output_type": "stream",
     "text": [
      "100%|██████████| 1000/1000 [00:03<00:00, 330.02it/s]\n"
     ]
    }
   ],
   "source": [
    "model.fit(X=X_train, y=one_hot_y_train, max_iter=1000)"
   ]
  },
  {
   "cell_type": "code",
   "execution_count": 40,
   "metadata": {},
   "outputs": [
    {
     "data": {
      "text/plain": [
       "\u001b[0;31mSignature:\u001b[0m \u001b[0mmodel\u001b[0m\u001b[0;34m.\u001b[0m\u001b[0mfit\u001b[0m\u001b[0;34m(\u001b[0m\u001b[0mX\u001b[0m\u001b[0;34m,\u001b[0m \u001b[0my\u001b[0m\u001b[0;34m,\u001b[0m \u001b[0mmax_iter\u001b[0m\u001b[0;34m=\u001b[0m\u001b[0;36m100\u001b[0m\u001b[0;34m,\u001b[0m \u001b[0mshuffle\u001b[0m\u001b[0;34m=\u001b[0m\u001b[0;32mTrue\u001b[0m\u001b[0;34m,\u001b[0m \u001b[0mverbose\u001b[0m\u001b[0;34m=\u001b[0m\u001b[0;32mTrue\u001b[0m\u001b[0;34m)\u001b[0m\u001b[0;34m\u001b[0m\u001b[0;34m\u001b[0m\u001b[0m\n",
       "\u001b[0;31mDocstring:\u001b[0m     \n",
       "\u001b[0;31mFile:\u001b[0m      ~/opt/anaconda3/envs/py3/lib/python3.7/site-packages/NumPyNet/network.py\n",
       "\u001b[0;31mType:\u001b[0m      method\n"
      ]
     },
     "metadata": {},
     "output_type": "display_data"
    }
   ],
   "source": [
    "model.fit?"
   ]
  },
  {
   "cell_type": "code",
   "execution_count": 41,
   "metadata": {},
   "outputs": [
    {
     "data": {
      "text/plain": [
       "120"
      ]
     },
     "execution_count": 41,
     "metadata": {},
     "output_type": "execute_result"
    }
   ],
   "source": [
    "model.batch"
   ]
  },
  {
   "cell_type": "code",
   "execution_count": 42,
   "metadata": {},
   "outputs": [
    {
     "name": "stdout",
     "output_type": "stream",
     "text": [
      "\u001b[K 30/30  |██████████████████████████████████████████████████| (0.0 sec/iter) loss: 0.002\n",
      "Prediction on 30 samples took 0.0 sec\n"
     ]
    }
   ],
   "source": [
    "model.batch=len(X_test)\n",
    "loss, out = model.evaluate(X=X_test, truth=one_hot_y_test, verbose=True)"
   ]
  },
  {
   "cell_type": "code",
   "execution_count": 43,
   "metadata": {},
   "outputs": [
    {
     "data": {
      "text/plain": [
       "\u001b[0;31mSignature:\u001b[0m \u001b[0mmodel\u001b[0m\u001b[0;34m.\u001b[0m\u001b[0mpredict\u001b[0m\u001b[0;34m(\u001b[0m\u001b[0mX\u001b[0m\u001b[0;34m,\u001b[0m \u001b[0mtruth\u001b[0m\u001b[0;34m=\u001b[0m\u001b[0;32mNone\u001b[0m\u001b[0;34m,\u001b[0m \u001b[0mverbose\u001b[0m\u001b[0;34m=\u001b[0m\u001b[0;32mTrue\u001b[0m\u001b[0;34m)\u001b[0m\u001b[0;34m\u001b[0m\u001b[0;34m\u001b[0m\u001b[0m\n",
       "\u001b[0;31mDocstring:\u001b[0m Predict the given input\n",
       "\u001b[0;31mFile:\u001b[0m      ~/opt/anaconda3/envs/py3/lib/python3.7/site-packages/NumPyNet/network.py\n",
       "\u001b[0;31mType:\u001b[0m      method\n"
      ]
     },
     "metadata": {},
     "output_type": "display_data"
    }
   ],
   "source": [
    "model.predict?"
   ]
  },
  {
   "cell_type": "code",
   "execution_count": 44,
   "metadata": {},
   "outputs": [
    {
     "name": "stdout",
     "output_type": "stream",
     "text": [
      "\n",
      "Loss Score: 0.002\n",
      "Accuracy Score: 0.967\n"
     ]
    }
   ],
   "source": [
    "truth = from_categorical(one_hot_y_test)\n",
    "predicted = from_categorical(out)\n",
    "performance=mean_accuracy_score(truth, predicted)\n",
    "\n",
    "print('\\nLoss Score: {:.3f}'.format(loss))\n",
    "print('Accuracy Score: {:.3f}'.format(performance))"
   ]
  },
  {
   "cell_type": "code",
   "execution_count": 35,
   "metadata": {},
   "outputs": [],
   "source": [
    "out=model.predict(X=X_test,verbose=False)"
   ]
  },
  {
   "cell_type": "code",
   "execution_count": 36,
   "metadata": {},
   "outputs": [
    {
     "data": {
      "text/plain": [
       "(30, 1, 1, 3)"
      ]
     },
     "execution_count": 36,
     "metadata": {},
     "output_type": "execute_result"
    }
   ],
   "source": [
    "out.shape"
   ]
  },
  {
   "cell_type": "code",
   "execution_count": 19,
   "metadata": {},
   "outputs": [],
   "source": [
    "L1=model._net[1]"
   ]
  },
  {
   "cell_type": "code",
   "execution_count": 20,
   "metadata": {},
   "outputs": [
    {
     "data": {
      "text/plain": [
       "array([ 0.27406593,  0.52207676, -0.39723957,  0.67724152,  0.17274806,\n",
       "        0.0170858 ])"
      ]
     },
     "execution_count": 20,
     "metadata": {},
     "output_type": "execute_result"
    }
   ],
   "source": [
    "L1.bias"
   ]
  },
  {
   "cell_type": "code",
   "execution_count": 21,
   "metadata": {},
   "outputs": [
    {
     "data": {
      "text/plain": [
       "array([[ 0.43951512, -1.08994676,  0.39305466, -0.1698685 ,  0.49127389,\n",
       "        -0.37881116],\n",
       "       [ 0.40271742, -1.26610903,  0.80512172, -0.256307  ,  0.38248342,\n",
       "         0.41148915],\n",
       "       [-0.01675973,  0.47844752, -0.19425557,  0.28759881,  0.74836107,\n",
       "        -0.33482439],\n",
       "       [ 0.32284947,  0.13770306, -0.56275214, -0.60022415, -0.49537752,\n",
       "        -0.5318441 ]])"
      ]
     },
     "execution_count": 21,
     "metadata": {},
     "output_type": "execute_result"
    }
   ],
   "source": [
    "L1.weights"
   ]
  },
  {
   "cell_type": "code",
   "execution_count": 63,
   "metadata": {},
   "outputs": [
    {
     "data": {
      "text/plain": [
       "(6, 3)"
      ]
     },
     "execution_count": 63,
     "metadata": {},
     "output_type": "execute_result"
    }
   ],
   "source": [
    "model._net[2].weights.shape"
   ]
  },
  {
   "cell_type": "code",
   "execution_count": 23,
   "metadata": {},
   "outputs": [
    {
     "name": "stdout",
     "output_type": "stream",
     "text": [
      "[[ 0.43951512 -1.08994676  0.39305466 -0.1698685   0.49127389 -0.37881116]\n",
      " [ 0.40271742 -1.26610903  0.80512172 -0.256307    0.38248342  0.41148915]\n",
      " [-0.01675973  0.47844752 -0.19425557  0.28759881  0.74836107 -0.33482439]\n",
      " [ 0.32284947  0.13770306 -0.56275214 -0.60022415 -0.49537752 -0.5318441 ]]\n",
      "[[ 0.3849298  -0.15137874  0.43016286]\n",
      " [ 0.59871093 -0.365261    0.15531048]\n",
      " [-0.18733256 -0.23916296  0.69781614]\n",
      " [ 0.2060858   0.48206489 -0.70292637]\n",
      " [ 0.12429958 -0.25031245 -0.14359293]\n",
      " [-0.19092939 -0.60281681 -0.20110543]]\n"
     ]
    },
    {
     "ename": "AttributeError",
     "evalue": "'Cost_layer' object has no attribute 'weights'",
     "output_type": "error",
     "traceback": [
      "\u001b[0;31m---------------------------------------------------------------------------\u001b[0m",
      "\u001b[0;31mAttributeError\u001b[0m                            Traceback (most recent call last)",
      "\u001b[0;32m<ipython-input-23-8d9ca6c69d9a>\u001b[0m in \u001b[0;36m<module>\u001b[0;34m()\u001b[0m\n\u001b[1;32m      1\u001b[0m \u001b[0;32mfor\u001b[0m \u001b[0mlayer\u001b[0m \u001b[0;32min\u001b[0m \u001b[0mmodel\u001b[0m\u001b[0;34m.\u001b[0m\u001b[0m_net\u001b[0m\u001b[0;34m[\u001b[0m\u001b[0;36m1\u001b[0m\u001b[0;34m:\u001b[0m\u001b[0;34m]\u001b[0m\u001b[0;34m:\u001b[0m\u001b[0;34m\u001b[0m\u001b[0;34m\u001b[0m\u001b[0m\n\u001b[0;32m----> 2\u001b[0;31m     \u001b[0mprint\u001b[0m\u001b[0;34m(\u001b[0m\u001b[0mlayer\u001b[0m\u001b[0;34m.\u001b[0m\u001b[0mweights\u001b[0m\u001b[0;34m)\u001b[0m\u001b[0;34m\u001b[0m\u001b[0;34m\u001b[0m\u001b[0m\n\u001b[0m",
      "\u001b[0;31mAttributeError\u001b[0m: 'Cost_layer' object has no attribute 'weights'"
     ]
    }
   ],
   "source": [
    "for layer in model._net[1:]:\n",
    "    print(layer.weights)"
   ]
  },
  {
   "cell_type": "code",
   "execution_count": 29,
   "metadata": {},
   "outputs": [
    {
     "data": {
      "text/plain": [
       "(array([1, 1, 1, 1, 0, 0, 1, 2, 1, 2, 2, 2, 1, 0, 2, 2, 0, 2, 1, 1, 2, 1,\n",
       "        0, 1, 2, 0, 2, 0, 0, 2]),\n",
       " array([1, 1, 1, 1, 0, 0, 1, 2, 1, 2, 2, 2, 1, 0, 2, 2, 0, 2, 1, 1, 2, 1,\n",
       "        0, 1, 2, 0, 2, 0, 0, 2]))"
      ]
     },
     "execution_count": 29,
     "metadata": {},
     "output_type": "execute_result"
    }
   ],
   "source": [
    "truth.ravel(),predicted.ravel()"
   ]
  },
  {
   "cell_type": "markdown",
   "metadata": {},
   "source": [
    "## Images"
   ]
  },
  {
   "cell_type": "code",
   "execution_count": 45,
   "metadata": {},
   "outputs": [
    {
     "name": "stdout",
     "output_type": "stream",
     "text": [
      "[9]: 180 files found\n",
      "[0]: 178 files found\n",
      "[7]: 179 files found\n",
      "[6]: 181 files found\n",
      "[1]: 182 files found\n",
      "[8]: 174 files found\n",
      "[4]: 181 files found\n",
      "[3]: 183 files found\n",
      "[2]: 177 files found\n",
      "[5]: 182 files found\n"
     ]
    }
   ],
   "source": [
    "images=image.load_images('data/digits')"
   ]
  },
  {
   "cell_type": "code",
   "execution_count": 46,
   "metadata": {},
   "outputs": [
    {
     "name": "stdout",
     "output_type": "stream",
     "text": [
      "1797 vectors of length 64\n",
      "Feature names: 'p0', 'p1', 'p2', 'p3', 'p4'  , ... ,  'p59', 'p60', 'p61', 'p62', 'p63'  (64 features)\n",
      "Target values given.\n",
      "Target names: '9', '0', '7', '6', '1', '8', '4', '3', '2', '5'\n",
      "Mean:  [0.00000000e+00 4.71341124e+00 8.25158598e+01 1.88401224e+02\n",
      " 1.88589872e+02 9.17840846e+01 2.15581525e+01 2.04785754e+00\n",
      " 8.51419032e-02 3.14913745e+01 1.65203116e+02 1.90677240e+02\n",
      " 1.63504174e+02 1.30023372e+02 2.92036728e+01 1.70005565e+00\n",
      " 4.22927101e-02 4.11185309e+01 1.57575960e+02 1.11080690e+02\n",
      " 1.12814691e+02 1.24173066e+02 2.82609905e+01 7.82971619e-01\n",
      " 1.66944908e-02 3.90011130e+01 1.44642181e+02 1.40286589e+02\n",
      " 1.58007791e+02 1.20022816e+02 3.66889260e+01 3.33889816e-02\n",
      " 0.00000000e+00 3.70083472e+01 1.21928770e+02 1.44347245e+02\n",
      " 1.63978854e+02 1.39081803e+02 4.60222593e+01 0.00000000e+00\n",
      " 1.37451308e-01 2.49860879e+01 1.09460768e+02 1.14961046e+02\n",
      " 1.21993879e+02 1.30974958e+02 5.47762938e+01 4.24040067e-01\n",
      " 1.13522538e-01 1.10378408e+01 1.19312187e+02 1.51698943e+02\n",
      " 1.49728993e+02 1.39340011e+02 5.90962716e+01 3.23873122e+00\n",
      " 8.34724541e-03 4.34780189e+00 8.81591541e+01 1.92462994e+02\n",
      " 1.88009460e+02 1.07495826e+02 3.27490262e+01 5.77072899e+00]\n",
      "Median:  [  0.   0.  63. 207. 207.  63.   0.   0.   0.   0. 191. 207. 175. 143.\n",
      "   0.   0.   0.  15. 191.  95.  95. 127.   0.   0.   0.  15. 175. 159.\n",
      " 191. 111.   0.   0.   0.   0. 127. 159. 207. 159.  15.   0.   0.   0.\n",
      "  95. 111. 127. 143.  15.   0.   0.   0. 127. 159. 159. 159.  15.   0.\n",
      "   0.   0.  63. 207. 223.  95.   0.   0.]\n",
      "Stddev:  [  0.          14.22717752  75.79479369  67.88517638  68.52232671\n",
      "  90.3581085   52.88625131  16.47216306   1.44842195  50.7576493\n",
      "  86.55422116  63.60290344  76.42760101  96.53740043  57.02565325\n",
      "  13.11647513   0.95321433  56.84679424  90.80932368  92.58050776\n",
      "  98.50000012  98.78779801  51.79075122   6.90387772   0.50013864\n",
      "  49.94970201  98.7781811   93.88418435  98.12528728  93.67899482\n",
      "  58.58726878   0.70690869   0.          55.28329868 100.86027538\n",
      "  99.97913895  94.64396922  93.64015167  56.19204049   0.\n",
      "   2.26156209  47.3537032  104.20244968 102.68526906  99.83278433\n",
      "  90.82739038  68.89733343   4.82912707   3.23145722  27.62316404\n",
      "  90.02004928  83.47815394  84.68687626  96.17533855  78.31457884\n",
      "  15.55049191   0.35374992  14.68333191  81.36743295  69.86967274\n",
      "  78.76953994  94.07347801  65.09626368  29.57005528]\n",
      "Original vector shape:  (1797, 64)\n",
      "Train vector shape:  (1437, 64)\n",
      "Test vector shape:  (360, 64)\n"
     ]
    }
   ],
   "source": [
    "data=image.images_to_vectors(images)\n",
    "data_train,data_test=split(data,test_size=0.2)"
   ]
  },
  {
   "cell_type": "code",
   "execution_count": 47,
   "metadata": {},
   "outputs": [
    {
     "name": "stdout",
     "output_type": "stream",
     "text": [
      "1797 vectors of length 64\n",
      "Feature names: 'p0', 'p1', 'p2', 'p3', 'p4'  , ... ,  'p59', 'p60', 'p61', 'p62', 'p63'  (64 features)\n",
      "Target values given.\n",
      "Target names: '9', '0', '7', '6', '1', '8', '4', '3', '2', '5'\n",
      "Mean:  [0.00000000e+00 1.84839657e-02 3.23591607e-01 7.38828330e-01\n",
      " 7.39568126e-01 3.59937587e-01 8.45417744e-02 8.03081388e-03\n",
      " 3.33889816e-04 1.23495586e-01 6.47855358e-01 7.47753882e-01\n",
      " 6.41192838e-01 5.09895578e-01 1.14524207e-01 6.66688490e-03\n",
      " 1.65853765e-04 1.61249141e-01 6.17944941e-01 4.35610549e-01\n",
      " 4.42410554e-01 4.86953201e-01 1.10827414e-01 3.07047694e-03\n",
      " 6.54685914e-05 1.52945541e-01 5.67224241e-01 5.50143485e-01\n",
      " 6.19638395e-01 4.70677709e-01 1.43878141e-01 1.30937183e-04\n",
      " 0.00000000e+00 1.45130774e-01 4.78152040e-01 5.66067629e-01\n",
      " 6.43054328e-01 5.45418835e-01 1.80479448e-01 0.00000000e+00\n",
      " 5.39024736e-04 9.79846585e-02 4.29257914e-01 4.50827632e-01\n",
      " 4.78407367e-01 5.13627287e-01 2.14808995e-01 1.66290222e-03\n",
      " 4.45186422e-04 4.32856504e-02 4.67890929e-01 5.94897814e-01\n",
      " 5.87172521e-01 5.46431416e-01 2.31750085e-01 1.27009067e-02\n",
      " 3.27342957e-05 1.70502035e-02 3.45722173e-01 7.54756839e-01\n",
      " 7.37292001e-01 4.21552260e-01 1.28427554e-01 2.26303098e-02]\n",
      "Median:  [0.         0.         0.24705882 0.81176471 0.81176471 0.24705882\n",
      " 0.         0.         0.         0.         0.74901961 0.81176471\n",
      " 0.68627451 0.56078431 0.         0.         0.         0.05882353\n",
      " 0.74901961 0.37254902 0.37254902 0.49803922 0.         0.\n",
      " 0.         0.05882353 0.68627451 0.62352941 0.74901961 0.43529412\n",
      " 0.         0.         0.         0.         0.49803922 0.62352941\n",
      " 0.81176471 0.62352941 0.05882353 0.         0.         0.\n",
      " 0.37254902 0.43529412 0.49803922 0.56078431 0.05882353 0.\n",
      " 0.         0.         0.49803922 0.62352941 0.62352941 0.62352941\n",
      " 0.05882353 0.         0.         0.         0.24705882 0.81176471\n",
      " 0.8745098  0.37254902 0.         0.        ]\n",
      "Stddev:  [0.         0.05579285 0.29723449 0.26621638 0.26871501 0.35434552\n",
      " 0.20739706 0.06459672 0.00568009 0.19904961 0.33942832 0.24942315\n",
      " 0.29971608 0.37857804 0.22363001 0.05143716 0.0037381  0.2229286\n",
      " 0.35611499 0.36306081 0.38627451 0.38740313 0.20310099 0.02707403\n",
      " 0.00196133 0.19588118 0.38736542 0.36817327 0.38480505 0.36736861\n",
      " 0.229754   0.00277219 0.         0.21679725 0.39553049 0.39207505\n",
      " 0.37115282 0.36721628 0.22036094 0.         0.00886887 0.1857008\n",
      " 0.40863706 0.40268733 0.39150112 0.35618584 0.27018562 0.01893775\n",
      " 0.01267238 0.10832613 0.3530198  0.32736531 0.3321054  0.37715819\n",
      " 0.307116   0.06098232 0.00138725 0.05758169 0.31908797 0.27399872\n",
      " 0.30890016 0.3689156  0.25527947 0.115961  ]\n"
     ]
    }
   ],
   "source": [
    "data.vectors/=255\n",
    "summary(data)"
   ]
  },
  {
   "cell_type": "code",
   "execution_count": 48,
   "metadata": {},
   "outputs": [
    {
     "name": "stdout",
     "output_type": "stream",
     "text": [
      "Original vector shape:  (1797, 64)\n",
      "Train vector shape:  (1347, 64)\n",
      "Test vector shape:  (450, 64)\n"
     ]
    }
   ],
   "source": [
    "data_train,data_test=split(data)"
   ]
  },
  {
   "cell_type": "code",
   "execution_count": 49,
   "metadata": {},
   "outputs": [],
   "source": [
    "X_train=data_train.vectors\n",
    "y_train=data_train.targets\n",
    "one_hot_y_train=to_categorical(y_train)\n",
    "\n",
    "X_test=data_test.vectors\n",
    "y_test=data_test.targets\n",
    "one_hot_y_test=to_categorical(y_test)"
   ]
  },
  {
   "cell_type": "code",
   "execution_count": 50,
   "metadata": {},
   "outputs": [
    {
     "data": {
      "text/plain": [
       "array([[0., 0., 0., 0., 0., 0., 0., 1., 0., 0.],\n",
       "       [0., 0., 0., 0., 0., 0., 0., 0., 0., 1.],\n",
       "       [0., 0., 0., 0., 0., 1., 0., 0., 0., 0.],\n",
       "       [0., 0., 0., 0., 0., 0., 0., 0., 1., 0.],\n",
       "       [0., 0., 0., 0., 0., 0., 0., 1., 0., 0.],\n",
       "       [0., 0., 0., 0., 0., 1., 0., 0., 0., 0.],\n",
       "       [0., 0., 1., 0., 0., 0., 0., 0., 0., 0.],\n",
       "       [0., 0., 0., 0., 0., 0., 0., 1., 0., 0.],\n",
       "       [0., 0., 0., 0., 0., 0., 0., 0., 1., 0.],\n",
       "       [0., 0., 0., 0., 0., 0., 0., 0., 0., 1.]])"
      ]
     },
     "execution_count": 50,
     "metadata": {},
     "output_type": "execute_result"
    }
   ],
   "source": [
    "one_hot_y_test[:10,:]"
   ]
  },
  {
   "cell_type": "code",
   "execution_count": 51,
   "metadata": {},
   "outputs": [
    {
     "data": {
      "text/plain": [
       "((450, 1, 1, 64), (450, 1, 1, 10))"
      ]
     },
     "execution_count": 51,
     "metadata": {},
     "output_type": "execute_result"
    }
   ],
   "source": [
    "# Reshape the data according to a 4D tensor\n",
    "num_samples, size = X_test.shape\n",
    "num_samples, size\n",
    "\n",
    "num_classes=one_hot_y_test.shape[1]\n",
    "\n",
    "X_test = X_test.reshape(num_samples, 1, 1, size)\n",
    "one_hot_y_test = one_hot_y_test.reshape(num_samples,1,1,-1)\n",
    "\n",
    "X_test.shape,one_hot_y_test.shape"
   ]
  },
  {
   "cell_type": "code",
   "execution_count": 52,
   "metadata": {},
   "outputs": [
    {
     "data": {
      "text/plain": [
       "((1347, 1, 1, 64), (1347, 1, 1, 10))"
      ]
     },
     "execution_count": 52,
     "metadata": {},
     "output_type": "execute_result"
    }
   ],
   "source": [
    "# Reshape the data according to a 4D tensor\n",
    "num_samples, size = X_train.shape\n",
    "num_samples, size\n",
    "\n",
    "num_classes=one_hot_y_train.shape[1]\n",
    "\n",
    "X_train = X_train.reshape(num_samples, 1, 1, size)\n",
    "one_hot_y_train = one_hot_y_train.reshape(num_samples,1,1,-1)\n",
    "\n",
    "X_train.shape,one_hot_y_train.shape"
   ]
  },
  {
   "cell_type": "code",
   "execution_count": 53,
   "metadata": {},
   "outputs": [],
   "source": [
    "batch=len(y_train)\n",
    "step = batch"
   ]
  },
  {
   "cell_type": "code",
   "execution_count": 55,
   "metadata": {},
   "outputs": [
    {
     "name": "stdout",
     "output_type": "stream",
     "text": [
      "layer       filters  size              input                output\n",
      "   0 input                  1347 x   1 x   1 x  64   ->  1347 x   1 x   1 x  64\n",
      "   1 connected              1347 x   1 x   1 x  64   ->  1347 x   6\n",
      "   2 connected              1347 x   1 x   1 x   6   ->  1347 x  10\n",
      "   3 cost                   1347 x   1 x   1 x  10   ->  1347 x   1 x   1 x  10\n"
     ]
    }
   ],
   "source": [
    "model = Network(batch=batch, input_shape=X_train.shape[1:])\n",
    "model.add(Connected_layer(outputs=6, activation='tanh'))\n",
    "model.add(Connected_layer(outputs=num_classes, activation='tanh'))\n",
    "model.add(Cost_layer(cost_type='mse'))\n",
    "\n",
    "#model.compile(optimizer=SGD(lr=0.1, decay=0.03, lr_min=0., lr_max=np.inf))\n",
    "model.compile(optimizer=Adam(), metrics=[accuracy])\n",
    "model.summary()"
   ]
  },
  {
   "cell_type": "code",
   "execution_count": 57,
   "metadata": {},
   "outputs": [
    {
     "name": "stderr",
     "output_type": "stream",
     "text": [
      "100%|██████████| 1000/1000 [00:02<00:00, 337.42it/s]\n"
     ]
    }
   ],
   "source": [
    "model.fit(X=X_train, y=one_hot_y_train, max_iter=1000,verbose=False)"
   ]
  },
  {
   "cell_type": "code",
   "execution_count": 58,
   "metadata": {},
   "outputs": [
    {
     "name": "stdout",
     "output_type": "stream",
     "text": [
      "\u001b[K450/450 |██████████████████████████████████████████████████| (0.0 sec/iter) loss: 0.000\n",
      "Prediction on 450 samples took 0.0 sec\n"
     ]
    }
   ],
   "source": [
    "model.batch=len(X_test)\n",
    "loss, out = model.evaluate(X=X_test, truth=one_hot_y_test, verbose=True)"
   ]
  },
  {
   "cell_type": "code",
   "execution_count": 59,
   "metadata": {},
   "outputs": [
    {
     "name": "stdout",
     "output_type": "stream",
     "text": [
      "\n",
      "Loss Score: 0.000\n",
      "Accuracy Score: 0.780\n"
     ]
    }
   ],
   "source": [
    "truth = from_categorical(one_hot_y_test)\n",
    "predicted = from_categorical(out)\n",
    "performance=mean_accuracy_score(truth, predicted)\n",
    "\n",
    "print('\\nLoss Score: {:.3f}'.format(loss))\n",
    "print('Accuracy Score: {:.3f}'.format(performance))"
   ]
  },
  {
   "cell_type": "markdown",
   "metadata": {},
   "source": [
    "## convo net"
   ]
  },
  {
   "cell_type": "code",
   "execution_count": 77,
   "metadata": {},
   "outputs": [],
   "source": [
    "from NumPyNet.layers.convolutional_layer import Convolutional_layer\n",
    "from NumPyNet.layers.maxpool_layer import Maxpool_layer\n",
    "from NumPyNet.layers.softmax_layer import Softmax_layer\n",
    "from NumPyNet.layers.batchnorm_layer import BatchNorm_layer\n"
   ]
  },
  {
   "cell_type": "code",
   "execution_count": 80,
   "metadata": {},
   "outputs": [],
   "source": [
    "from sklearn import datasets\n",
    "from sklearn.model_selection import train_test_split\n",
    "digits = datasets.load_digits()\n",
    "X, y = digits.images, digits.target"
   ]
  },
  {
   "cell_type": "code",
   "execution_count": 81,
   "metadata": {},
   "outputs": [],
   "source": [
    "# add channels to images\n",
    "X = np.asarray([np.dstack((x, x, x)) for x in X])\n",
    "X = X.transpose(0, 2, 3, 1)\n",
    "\n",
    "X_train, X_test, y_train, y_test = train_test_split(X, y,\n",
    "                                                  test_size=.33,\n",
    "                                                  random_state=42)"
   ]
  },
  {
   "cell_type": "code",
   "execution_count": null,
   "metadata": {},
   "outputs": [],
   "source": []
  },
  {
   "cell_type": "code",
   "execution_count": 78,
   "metadata": {},
   "outputs": [
    {
     "name": "stderr",
     "output_type": "stream",
     "text": [
      "/Users/bblais/opt/anaconda3/envs/py3/lib/python3.7/site-packages/NumPyNet-1.0.0-py3.7.egg/NumPyNet/layers/connected_layer.py:73: RuntimeWarning: divide by zero encountered in true_divide\n",
      "  scale = np.sqrt(2. / self.inputs)\n"
     ]
    },
    {
     "ename": "OverflowError",
     "evalue": "Range exceeds valid bounds",
     "output_type": "error",
     "traceback": [
      "\u001b[0;31m---------------------------------------------------------------------------\u001b[0m",
      "\u001b[0;31mOverflowError\u001b[0m                             Traceback (most recent call last)",
      "\u001b[0;32m<ipython-input-78-ca5bcc52588c>\u001b[0m in \u001b[0;36m<module>\u001b[0;34m()\u001b[0m\n\u001b[1;32m      5\u001b[0m \u001b[0mmodel\u001b[0m\u001b[0;34m.\u001b[0m\u001b[0madd\u001b[0m\u001b[0;34m(\u001b[0m\u001b[0mBatchNorm_layer\u001b[0m\u001b[0;34m(\u001b[0m\u001b[0;34m)\u001b[0m\u001b[0;34m)\u001b[0m\u001b[0;34m\u001b[0m\u001b[0;34m\u001b[0m\u001b[0m\n\u001b[1;32m      6\u001b[0m \u001b[0mmodel\u001b[0m\u001b[0;34m.\u001b[0m\u001b[0madd\u001b[0m\u001b[0;34m(\u001b[0m\u001b[0mMaxpool_layer\u001b[0m\u001b[0;34m(\u001b[0m\u001b[0msize\u001b[0m\u001b[0;34m=\u001b[0m\u001b[0;36m2\u001b[0m\u001b[0;34m,\u001b[0m \u001b[0mstride\u001b[0m\u001b[0;34m=\u001b[0m\u001b[0;36m1\u001b[0m\u001b[0;34m,\u001b[0m \u001b[0mpadding\u001b[0m\u001b[0;34m=\u001b[0m\u001b[0;32mTrue\u001b[0m\u001b[0;34m)\u001b[0m\u001b[0;34m)\u001b[0m\u001b[0;34m\u001b[0m\u001b[0;34m\u001b[0m\u001b[0m\n\u001b[0;32m----> 7\u001b[0;31m \u001b[0mmodel\u001b[0m\u001b[0;34m.\u001b[0m\u001b[0madd\u001b[0m\u001b[0;34m(\u001b[0m\u001b[0mConnected_layer\u001b[0m\u001b[0;34m(\u001b[0m\u001b[0moutputs\u001b[0m\u001b[0;34m=\u001b[0m\u001b[0;36m100\u001b[0m\u001b[0;34m,\u001b[0m \u001b[0mactivation\u001b[0m\u001b[0;34m=\u001b[0m\u001b[0;34m'Relu'\u001b[0m\u001b[0;34m)\u001b[0m\u001b[0;34m)\u001b[0m\u001b[0;34m\u001b[0m\u001b[0;34m\u001b[0m\u001b[0m\n\u001b[0m\u001b[1;32m      8\u001b[0m \u001b[0mmodel\u001b[0m\u001b[0;34m.\u001b[0m\u001b[0madd\u001b[0m\u001b[0;34m(\u001b[0m\u001b[0mBatchNorm_layer\u001b[0m\u001b[0;34m(\u001b[0m\u001b[0;34m)\u001b[0m\u001b[0;34m)\u001b[0m\u001b[0;34m\u001b[0m\u001b[0;34m\u001b[0m\u001b[0m\n\u001b[1;32m      9\u001b[0m \u001b[0mmodel\u001b[0m\u001b[0;34m.\u001b[0m\u001b[0madd\u001b[0m\u001b[0;34m(\u001b[0m\u001b[0mConnected_layer\u001b[0m\u001b[0;34m(\u001b[0m\u001b[0moutputs\u001b[0m\u001b[0;34m=\u001b[0m\u001b[0mnum_classes\u001b[0m\u001b[0;34m,\u001b[0m \u001b[0mactivation\u001b[0m\u001b[0;34m=\u001b[0m\u001b[0;34m'Linear'\u001b[0m\u001b[0;34m)\u001b[0m\u001b[0;34m)\u001b[0m\u001b[0;34m\u001b[0m\u001b[0;34m\u001b[0m\u001b[0m\n",
      "\u001b[0;32m/Users/bblais/opt/anaconda3/envs/py3/lib/python3.7/site-packages/NumPyNet-1.0.0-py3.7.egg/NumPyNet/network.py\u001b[0m in \u001b[0;36madd\u001b[0;34m(self, layer)\u001b[0m\n\u001b[1;32m    128\u001b[0m \u001b[0;34m\u001b[0m\u001b[0m\n\u001b[1;32m    129\u001b[0m     \u001b[0;32melse\u001b[0m\u001b[0;34m:\u001b[0m\u001b[0;34m\u001b[0m\u001b[0;34m\u001b[0m\u001b[0m\n\u001b[0;32m--> 130\u001b[0;31m       \u001b[0mself\u001b[0m\u001b[0;34m.\u001b[0m\u001b[0m_net\u001b[0m\u001b[0;34m.\u001b[0m\u001b[0mappend\u001b[0m\u001b[0;34m(\u001b[0m\u001b[0mlayer\u001b[0m\u001b[0;34m(\u001b[0m\u001b[0mself\u001b[0m\u001b[0;34m.\u001b[0m\u001b[0m_net\u001b[0m\u001b[0;34m[\u001b[0m\u001b[0;34m-\u001b[0m\u001b[0;36m1\u001b[0m\u001b[0;34m]\u001b[0m\u001b[0;34m)\u001b[0m\u001b[0;34m)\u001b[0m\u001b[0;34m\u001b[0m\u001b[0;34m\u001b[0m\u001b[0m\n\u001b[0m\u001b[1;32m    131\u001b[0m \u001b[0;34m\u001b[0m\u001b[0m\n\u001b[1;32m    132\u001b[0m     \u001b[0;32mreturn\u001b[0m \u001b[0mself\u001b[0m\u001b[0;34m\u001b[0m\u001b[0;34m\u001b[0m\u001b[0m\n",
      "\u001b[0;32m/Users/bblais/opt/anaconda3/envs/py3/lib/python3.7/site-packages/NumPyNet-1.0.0-py3.7.egg/NumPyNet/layers/connected_layer.py\u001b[0m in \u001b[0;36m__call__\u001b[0;34m(self, previous_layer)\u001b[0m\n\u001b[1;32m     79\u001b[0m   \u001b[0;32mdef\u001b[0m \u001b[0m__call__\u001b[0m\u001b[0;34m(\u001b[0m\u001b[0mself\u001b[0m\u001b[0;34m,\u001b[0m \u001b[0mprevious_layer\u001b[0m\u001b[0;34m)\u001b[0m\u001b[0;34m:\u001b[0m\u001b[0;34m\u001b[0m\u001b[0;34m\u001b[0m\u001b[0m\n\u001b[1;32m     80\u001b[0m \u001b[0;34m\u001b[0m\u001b[0m\n\u001b[0;32m---> 81\u001b[0;31m     \u001b[0msuper\u001b[0m\u001b[0;34m(\u001b[0m\u001b[0mConnected_layer\u001b[0m\u001b[0;34m,\u001b[0m \u001b[0mself\u001b[0m\u001b[0;34m)\u001b[0m\u001b[0;34m.\u001b[0m\u001b[0m__call__\u001b[0m\u001b[0;34m(\u001b[0m\u001b[0mprevious_layer\u001b[0m\u001b[0;34m)\u001b[0m\u001b[0;34m\u001b[0m\u001b[0;34m\u001b[0m\u001b[0m\n\u001b[0m\u001b[1;32m     82\u001b[0m     \u001b[0mself\u001b[0m\u001b[0;34m.\u001b[0m\u001b[0m_build\u001b[0m\u001b[0;34m(\u001b[0m\u001b[0;34m)\u001b[0m\u001b[0;34m\u001b[0m\u001b[0;34m\u001b[0m\u001b[0m\n\u001b[1;32m     83\u001b[0m \u001b[0;34m\u001b[0m\u001b[0m\n",
      "\u001b[0;32m/Users/bblais/opt/anaconda3/envs/py3/lib/python3.7/site-packages/NumPyNet-1.0.0-py3.7.egg/NumPyNet/layers/base.py\u001b[0m in \u001b[0;36m__call__\u001b[0;34m(self, previous_layer)\u001b[0m\n\u001b[1;32m     53\u001b[0m     \u001b[0mself\u001b[0m\u001b[0;34m.\u001b[0m\u001b[0minput_shape\u001b[0m \u001b[0;34m=\u001b[0m \u001b[0mprevious_layer\u001b[0m\u001b[0;34m.\u001b[0m\u001b[0mout_shape\u001b[0m\u001b[0;34m\u001b[0m\u001b[0;34m\u001b[0m\u001b[0m\n\u001b[1;32m     54\u001b[0m \u001b[0;34m\u001b[0m\u001b[0m\n\u001b[0;32m---> 55\u001b[0;31m     \u001b[0mself\u001b[0m\u001b[0;34m.\u001b[0m\u001b[0m_build\u001b[0m\u001b[0;34m(\u001b[0m\u001b[0;34m)\u001b[0m\u001b[0;34m\u001b[0m\u001b[0;34m\u001b[0m\u001b[0m\n\u001b[0m\u001b[1;32m     56\u001b[0m \u001b[0;34m\u001b[0m\u001b[0m\n\u001b[1;32m     57\u001b[0m     \u001b[0;32mreturn\u001b[0m \u001b[0mself\u001b[0m\u001b[0;34m\u001b[0m\u001b[0;34m\u001b[0m\u001b[0m\n",
      "\u001b[0;32m/Users/bblais/opt/anaconda3/envs/py3/lib/python3.7/site-packages/NumPyNet-1.0.0-py3.7.egg/NumPyNet/layers/connected_layer.py\u001b[0m in \u001b[0;36m_build\u001b[0;34m(self)\u001b[0m\n\u001b[1;32m     72\u001b[0m     \u001b[0;32mif\u001b[0m \u001b[0mself\u001b[0m\u001b[0;34m.\u001b[0m\u001b[0mweights\u001b[0m \u001b[0;32mis\u001b[0m \u001b[0;32mNone\u001b[0m\u001b[0;34m:\u001b[0m\u001b[0;34m\u001b[0m\u001b[0;34m\u001b[0m\u001b[0m\n\u001b[1;32m     73\u001b[0m       \u001b[0mscale\u001b[0m \u001b[0;34m=\u001b[0m \u001b[0mnp\u001b[0m\u001b[0;34m.\u001b[0m\u001b[0msqrt\u001b[0m\u001b[0;34m(\u001b[0m\u001b[0;36m2.\u001b[0m \u001b[0;34m/\u001b[0m \u001b[0mself\u001b[0m\u001b[0;34m.\u001b[0m\u001b[0minputs\u001b[0m\u001b[0;34m)\u001b[0m\u001b[0;34m\u001b[0m\u001b[0;34m\u001b[0m\u001b[0m\n\u001b[0;32m---> 74\u001b[0;31m       \u001b[0mself\u001b[0m\u001b[0;34m.\u001b[0m\u001b[0mweights\u001b[0m \u001b[0;34m=\u001b[0m \u001b[0mnp\u001b[0m\u001b[0;34m.\u001b[0m\u001b[0mrandom\u001b[0m\u001b[0;34m.\u001b[0m\u001b[0muniform\u001b[0m\u001b[0;34m(\u001b[0m\u001b[0mlow\u001b[0m\u001b[0;34m=\u001b[0m\u001b[0;34m-\u001b[0m\u001b[0mscale\u001b[0m\u001b[0;34m,\u001b[0m \u001b[0mhigh\u001b[0m\u001b[0;34m=\u001b[0m\u001b[0mscale\u001b[0m\u001b[0;34m,\u001b[0m \u001b[0msize\u001b[0m\u001b[0;34m=\u001b[0m\u001b[0;34m(\u001b[0m\u001b[0mself\u001b[0m\u001b[0;34m.\u001b[0m\u001b[0minputs\u001b[0m\u001b[0;34m,\u001b[0m \u001b[0mself\u001b[0m\u001b[0;34m.\u001b[0m\u001b[0moutputs\u001b[0m\u001b[0;34m)\u001b[0m\u001b[0;34m)\u001b[0m\u001b[0;34m\u001b[0m\u001b[0;34m\u001b[0m\u001b[0m\n\u001b[0m\u001b[1;32m     75\u001b[0m \u001b[0;34m\u001b[0m\u001b[0m\n\u001b[1;32m     76\u001b[0m     \u001b[0;32mif\u001b[0m \u001b[0mself\u001b[0m\u001b[0;34m.\u001b[0m\u001b[0mbias\u001b[0m \u001b[0;32mis\u001b[0m \u001b[0;32mNone\u001b[0m\u001b[0;34m:\u001b[0m\u001b[0;34m\u001b[0m\u001b[0;34m\u001b[0m\u001b[0m\n",
      "\u001b[0;32mmtrand.pyx\u001b[0m in \u001b[0;36mnumpy.random.mtrand.RandomState.uniform\u001b[0;34m()\u001b[0m\n",
      "\u001b[0;31mOverflowError\u001b[0m: Range exceeds valid bounds"
     ]
    }
   ],
   "source": [
    "batch=128\n",
    "\n",
    "model = Network(batch=batch, input_shape=X_train.shape[1:])\n",
    "model.add(Convolutional_layer(size=3, filters=32, stride=1, pad=True, activation='Relu'))\n",
    "model.add(BatchNorm_layer())\n",
    "model.add(Maxpool_layer(size=2, stride=1, padding=True))\n",
    "model.add(Connected_layer(outputs=100, activation='Relu'))\n",
    "model.add(BatchNorm_layer())\n",
    "model.add(Connected_layer(outputs=num_classes, activation='Linear'))\n",
    "model.add(Softmax_layer(spatial=True, groups=1, temperature=1.))\n",
    "model.add(Cost_layer(cost_type=cost_type.mse))\n",
    "\n",
    "# model.compile(optimizer=SGD(lr=0.01, decay=0., lr_min=0., lr_max=np.inf))\n",
    "model.compile(optimizer=Adam(), metrics=[accuracy])\n",
    "model.summary()"
   ]
  },
  {
   "cell_type": "code",
   "execution_count": null,
   "metadata": {},
   "outputs": [],
   "source": [
    "X_train.shape[1:]"
   ]
  },
  {
   "cell_type": "code",
   "execution_count": null,
   "metadata": {},
   "outputs": [],
   "source": []
  }
 ],
 "metadata": {
  "kernelspec": {
   "display_name": "Python 3",
   "language": "python",
   "name": "python3"
  },
  "language_info": {
   "codemirror_mode": {
    "name": "ipython",
    "version": 3
   },
   "file_extension": ".py",
   "mimetype": "text/x-python",
   "name": "python",
   "nbconvert_exporter": "python",
   "pygments_lexer": "ipython3",
   "version": "3.7.7"
  }
 },
 "nbformat": 4,
 "nbformat_minor": 4
}
