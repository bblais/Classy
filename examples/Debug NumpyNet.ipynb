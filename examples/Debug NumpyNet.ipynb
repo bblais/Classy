{
 "cells": [
  {
   "cell_type": "code",
   "execution_count": 1,
   "metadata": {},
   "outputs": [
    {
     "name": "stdout",
     "output_type": "stream",
     "text": [
      "Populating the interactive namespace from numpy and matplotlib\n",
      "Version:  0.0.26\n"
     ]
    }
   ],
   "source": [
    "%pylab inline\n",
    "from classy import *"
   ]
  },
  {
   "cell_type": "code",
   "execution_count": 2,
   "metadata": {},
   "outputs": [],
   "source": [
    "from NumPyNet.network import Network\n",
    "from NumPyNet.layers.connected_layer import Connected_layer\n",
    "from NumPyNet.layers.cost_layer import Cost_layer\n",
    "from NumPyNet.optimizer import Adam,SGD\n",
    "from NumPyNet.utils import to_categorical\n",
    "from NumPyNet.utils import from_categorical\n",
    "from NumPyNet.metrics import mean_accuracy_score"
   ]
  },
  {
   "cell_type": "code",
   "execution_count": 3,
   "metadata": {},
   "outputs": [
    {
     "name": "stdout",
     "output_type": "stream",
     "text": [
      "iris.data 151 5\n",
      "150 vectors of length 4\n",
      "Feature names: 'petal length in cm', 'petal width in cm', 'sepal length in cm', 'sepal width in cm'\n",
      "Target values given.\n",
      "Target names: 'Iris-setosa', 'Iris-versicolor', 'Iris-virginica'\n",
      "Mean:  [3.75866667 1.19866667 5.84333333 3.054     ]\n",
      "Median:  [4.35 1.3  5.8  3.  ]\n",
      "Stddev:  [1.75852918 0.76061262 0.82530129 0.43214658]\n",
      "Original vector shape:  (150, 4)\n",
      "Train vector shape:  (120, 4)\n",
      "Test vector shape:  (30, 4)\n"
     ]
    }
   ],
   "source": [
    "data=load_excel('data/iris.xls')\n",
    "data_train,data_test=split(data,test_size=0.2)"
   ]
  },
  {
   "cell_type": "code",
   "execution_count": 4,
   "metadata": {},
   "outputs": [],
   "source": [
    "X=data.vectors\n",
    "Y=data.targets"
   ]
  },
  {
   "cell_type": "code",
   "execution_count": 5,
   "metadata": {},
   "outputs": [
    {
     "data": {
      "text/plain": [
       "(150, 4)"
      ]
     },
     "execution_count": 5,
     "metadata": {},
     "output_type": "execute_result"
    }
   ],
   "source": [
    "X.shape"
   ]
  },
  {
   "cell_type": "code",
   "execution_count": 6,
   "metadata": {},
   "outputs": [
    {
     "data": {
      "text/plain": [
       "(150,)"
      ]
     },
     "execution_count": 6,
     "metadata": {},
     "output_type": "execute_result"
    }
   ],
   "source": [
    "Y.shape"
   ]
  },
  {
   "cell_type": "code",
   "execution_count": 7,
   "metadata": {},
   "outputs": [
    {
     "data": {
      "text/plain": [
       "array([0, 0, 0, 0, 0, 0, 0, 0, 0, 0, 0, 0, 0, 0, 0, 0, 0, 0, 0, 0, 0, 0,\n",
       "       0, 0, 0, 0, 0, 0, 0, 0, 0, 0, 0, 0, 0, 0, 0, 0, 0, 0, 0, 0, 0, 0,\n",
       "       0, 0, 0, 0, 0, 0, 1, 1, 1, 1, 1, 1, 1, 1, 1, 1, 1, 1, 1, 1, 1, 1,\n",
       "       1, 1, 1, 1, 1, 1, 1, 1, 1, 1, 1, 1, 1, 1, 1, 1, 1, 1, 1, 1, 1, 1,\n",
       "       1, 1, 1, 1, 1, 1, 1, 1, 1, 1, 1, 1, 2, 2, 2, 2, 2, 2, 2, 2, 2, 2,\n",
       "       2, 2, 2, 2, 2, 2, 2, 2, 2, 2, 2, 2, 2, 2, 2, 2, 2, 2, 2, 2, 2, 2,\n",
       "       2, 2, 2, 2, 2, 2, 2, 2, 2, 2, 2, 2, 2, 2, 2, 2, 2, 2])"
      ]
     },
     "execution_count": 7,
     "metadata": {},
     "output_type": "execute_result"
    }
   ],
   "source": [
    "Y"
   ]
  },
  {
   "cell_type": "code",
   "execution_count": 8,
   "metadata": {},
   "outputs": [
    {
     "data": {
      "text/plain": [
       "array([[1., 0., 0.],\n",
       "       [1., 0., 0.],\n",
       "       [1., 0., 0.],\n",
       "       [1., 0., 0.],\n",
       "       [1., 0., 0.],\n",
       "       [1., 0., 0.],\n",
       "       [1., 0., 0.],\n",
       "       [1., 0., 0.],\n",
       "       [1., 0., 0.],\n",
       "       [1., 0., 0.],\n",
       "       [0., 1., 0.],\n",
       "       [0., 1., 0.],\n",
       "       [0., 1., 0.],\n",
       "       [0., 1., 0.],\n",
       "       [0., 1., 0.],\n",
       "       [0., 1., 0.],\n",
       "       [0., 1., 0.],\n",
       "       [0., 1., 0.],\n",
       "       [0., 1., 0.],\n",
       "       [0., 1., 0.]])"
      ]
     },
     "execution_count": 8,
     "metadata": {},
     "output_type": "execute_result"
    }
   ],
   "source": [
    "one_hot_y=to_categorical(Y)\n",
    "one_hot_y[40:60,:]"
   ]
  },
  {
   "cell_type": "code",
   "execution_count": 9,
   "metadata": {},
   "outputs": [],
   "source": [
    "def accuracy (y_true, y_pred):\n",
    "    '''\n",
    "    Temporary metrics to overcome \"from_categorical\" missing in standard metrics\n",
    "    '''\n",
    "    from NumPyNet.metrics import mean_accuracy_score\n",
    "    truth = from_categorical(y_true)\n",
    "    predicted = from_categorical(y_pred)\n",
    "    return mean_accuracy_score(truth, predicted)\n"
   ]
  },
  {
   "cell_type": "code",
   "execution_count": 10,
   "metadata": {},
   "outputs": [],
   "source": [
    "X_train=data_train.vectors\n",
    "y_train=data_train.targets\n",
    "one_hot_y_train=to_categorical(y_train)\n",
    "\n",
    "X_test=data_test.vectors\n",
    "y_test=data_test.targets\n",
    "one_hot_y_test=to_categorical(y_test)"
   ]
  },
  {
   "cell_type": "code",
   "execution_count": 11,
   "metadata": {},
   "outputs": [
    {
     "data": {
      "text/plain": [
       "((30, 1, 1, 4), (30, 1, 1, 3))"
      ]
     },
     "execution_count": 11,
     "metadata": {},
     "output_type": "execute_result"
    }
   ],
   "source": [
    "# Reshape the data according to a 4D tensor\n",
    "num_samples, size = X_test.shape\n",
    "num_samples, size\n",
    "\n",
    "num_classes=one_hot_y_test.shape[1]\n",
    "\n",
    "X_test = X_test.reshape(num_samples, 1, 1, size)\n",
    "one_hot_y_test = one_hot_y_test.reshape(num_samples,1,1,-1)\n",
    "\n",
    "X_test.shape,one_hot_y_test.shape"
   ]
  },
  {
   "cell_type": "code",
   "execution_count": 12,
   "metadata": {},
   "outputs": [
    {
     "data": {
      "text/plain": [
       "((120, 1, 1, 4), (120, 1, 1, 3))"
      ]
     },
     "execution_count": 12,
     "metadata": {},
     "output_type": "execute_result"
    }
   ],
   "source": [
    "# Reshape the data according to a 4D tensor\n",
    "num_samples, size = X_train.shape\n",
    "num_samples, size\n",
    "\n",
    "num_classes=one_hot_y_train.shape[1]\n",
    "\n",
    "X_train = X_train.reshape(num_samples, 1, 1, size)\n",
    "one_hot_y_train = one_hot_y_train.reshape(num_samples,1,1,-1)\n",
    "\n",
    "X_train.shape,one_hot_y_train.shape"
   ]
  },
  {
   "cell_type": "code",
   "execution_count": null,
   "metadata": {},
   "outputs": [],
   "source": []
  },
  {
   "cell_type": "code",
   "execution_count": 13,
   "metadata": {},
   "outputs": [],
   "source": [
    "batch=len(y_train)\n",
    "step = batch"
   ]
  },
  {
   "cell_type": "code",
   "execution_count": 14,
   "metadata": {},
   "outputs": [],
   "source": [
    "model = Network(batch=batch, input_shape=X_train.shape[1:])\n",
    "model.add(Connected_layer(outputs=4, activation='relu'))\n",
    "model.add(Connected_layer(outputs=num_classes, activation='linear'))\n",
    "model.add(Cost_layer(cost_type='mse'))\n",
    "\n",
    "#model.compile(optimizer=SGD(lr=0.1, decay=0.03, lr_min=0., lr_max=np.inf))\n",
    "model.compile(optimizer=Adam(), metrics=[accuracy])"
   ]
  },
  {
   "cell_type": "code",
   "execution_count": 15,
   "metadata": {},
   "outputs": [
    {
     "name": "stdout",
     "output_type": "stream",
     "text": [
      "layer       filters  size              input                output\n",
      "   0 input                   120 x   1 x   1 x   4   ->   120 x   1 x   1 x   4\n",
      "   1 connected               120 x   1 x   1 x   4   ->   120 x   4\n",
      "   2 connected               120 x   1 x   1 x   4   ->   120 x   3\n",
      "   3 cost                    120 x   1 x   1 x   3   ->   120 x   1 x   1 x   3\n"
     ]
    }
   ],
   "source": [
    "model.summary()"
   ]
  },
  {
   "cell_type": "code",
   "execution_count": 16,
   "metadata": {},
   "outputs": [
    {
     "name": "stderr",
     "output_type": "stream",
     "text": [
      "100%|██████████| 10000/10000 [00:14<00:00, 705.01it/s]\n"
     ]
    }
   ],
   "source": [
    "model.fit(X=X_train, y=one_hot_y_train, max_iter=10000)"
   ]
  },
  {
   "cell_type": "code",
   "execution_count": 17,
   "metadata": {},
   "outputs": [
    {
     "data": {
      "text/plain": [
       "120"
      ]
     },
     "execution_count": 17,
     "metadata": {},
     "output_type": "execute_result"
    }
   ],
   "source": [
    "model.batch"
   ]
  },
  {
   "cell_type": "code",
   "execution_count": 19,
   "metadata": {},
   "outputs": [
    {
     "name": "stdout",
     "output_type": "stream",
     "text": [
      "\u001b[K 30/30  |██████████████████████████████████████████████████| (0.0 sec/iter) loss: 0.004\n",
      "Prediction on 30 samples took 0.0 sec\n"
     ]
    }
   ],
   "source": [
    "model.batch=len(X_test)\n",
    "loss, out = model.evaluate(X=X_test, truth=one_hot_y_test, verbose=True)"
   ]
  },
  {
   "cell_type": "code",
   "execution_count": 20,
   "metadata": {},
   "outputs": [
    {
     "name": "stdout",
     "output_type": "stream",
     "text": [
      "\n",
      "Loss Score: 0.004\n",
      "Accuracy Score: 0.633\n"
     ]
    }
   ],
   "source": [
    "truth = from_categorical(one_hot_y_test)\n",
    "predicted = from_categorical(out)\n",
    "performance=mean_accuracy_score(truth, predicted)\n",
    "\n",
    "print('\\nLoss Score: {:.3f}'.format(loss))\n",
    "print('Accuracy Score: {:.3f}'.format(performance))"
   ]
  },
  {
   "cell_type": "code",
   "execution_count": null,
   "metadata": {},
   "outputs": [],
   "source": []
  },
  {
   "cell_type": "code",
   "execution_count": 21,
   "metadata": {},
   "outputs": [
    {
     "name": "stdout",
     "output_type": "stream",
     "text": [
      "layer       filters  size              input                output\n",
      "   0 input                   120 x   1 x   1 x   4   ->   120 x   1 x   1 x   4\n",
      "   1 connected               120 x   1 x   1 x   4   ->   120 x   3\n",
      "   2 cost                    120 x   1 x   1 x   3   ->   120 x   1 x   1 x   3\n"
     ]
    }
   ],
   "source": [
    "model = Network(batch=batch, input_shape=X_train.shape[1:])\n",
    "model.add(Connected_layer(outputs=num_classes, activation='logistic'))\n",
    "model.add(Cost_layer(cost_type='mse'))\n",
    "\n",
    "#model.compile(optimizer=SGD(lr=0.1, decay=0.03, lr_min=0., lr_max=np.inf))\n",
    "model.compile(optimizer=Adam(), metrics=[accuracy])\n",
    "model.summary()"
   ]
  },
  {
   "cell_type": "code",
   "execution_count": 22,
   "metadata": {},
   "outputs": [
    {
     "name": "stderr",
     "output_type": "stream",
     "text": [
      "100%|██████████| 10000/10000 [00:08<00:00, 1221.78it/s]\n"
     ]
    }
   ],
   "source": [
    "model.fit(X=X_train, y=one_hot_y_train, max_iter=10000,verbose=False)"
   ]
  },
  {
   "cell_type": "code",
   "execution_count": 23,
   "metadata": {},
   "outputs": [
    {
     "name": "stdout",
     "output_type": "stream",
     "text": [
      "\n",
      "Loss Score: 0.004\n",
      "Accuracy Score: 0.633\n"
     ]
    }
   ],
   "source": [
    "truth = from_categorical(one_hot_y_test)\n",
    "predicted = from_categorical(out)\n",
    "performance=mean_accuracy_score(truth, predicted)\n",
    "\n",
    "print('\\nLoss Score: {:.3f}'.format(loss))\n",
    "print('Accuracy Score: {:.3f}'.format(performance))"
   ]
  },
  {
   "cell_type": "markdown",
   "metadata": {},
   "source": [
    "## Images"
   ]
  },
  {
   "cell_type": "code",
   "execution_count": null,
   "metadata": {},
   "outputs": [],
   "source": [
    "images=image.load_images('data/digits')"
   ]
  },
  {
   "cell_type": "code",
   "execution_count": null,
   "metadata": {},
   "outputs": [],
   "source": [
    "data=image.images_to_vectors(images)"
   ]
  },
  {
   "cell_type": "code",
   "execution_count": null,
   "metadata": {},
   "outputs": [],
   "source": [
    "data.vectors/=255\n",
    "summary(data)"
   ]
  },
  {
   "cell_type": "code",
   "execution_count": null,
   "metadata": {},
   "outputs": [],
   "source": [
    "data_train,data_test=split(data)"
   ]
  },
  {
   "cell_type": "code",
   "execution_count": null,
   "metadata": {},
   "outputs": [],
   "source": [
    "X_train=data_train.vectors\n",
    "y_train=data_train.targets\n",
    "one_hot_y_train=to_categorical(y_train)\n",
    "\n",
    "X_test=data_test.vectors\n",
    "y_test=data_test.targets\n",
    "one_hot_y_test=to_categorical(y_test)"
   ]
  },
  {
   "cell_type": "code",
   "execution_count": null,
   "metadata": {},
   "outputs": [],
   "source": [
    "one_hot_y_test[:10,:]"
   ]
  },
  {
   "cell_type": "code",
   "execution_count": null,
   "metadata": {},
   "outputs": [],
   "source": [
    "# Reshape the data according to a 4D tensor\n",
    "num_samples, size = X_test.shape\n",
    "num_samples, size\n",
    "\n",
    "num_classes=one_hot_y_test.shape[1]\n",
    "\n",
    "X_test = X_test.reshape(num_samples, 1, 1, size)\n",
    "one_hot_y_test = one_hot_y_test.reshape(num_samples,1,1,-1)\n",
    "\n",
    "X_test.shape,one_hot_y_test.shape"
   ]
  },
  {
   "cell_type": "code",
   "execution_count": null,
   "metadata": {},
   "outputs": [],
   "source": [
    "# Reshape the data according to a 4D tensor\n",
    "num_samples, size = X_train.shape\n",
    "num_samples, size\n",
    "\n",
    "num_classes=one_hot_y_train.shape[1]\n",
    "\n",
    "X_train = X_train.reshape(num_samples, 1, 1, size)\n",
    "one_hot_y_train = one_hot_y_train.reshape(num_samples,1,1,-1)\n",
    "\n",
    "X_train.shape,one_hot_y_train.shape"
   ]
  },
  {
   "cell_type": "code",
   "execution_count": null,
   "metadata": {},
   "outputs": [],
   "source": [
    "batch=len(y_train)\n",
    "step = batch"
   ]
  },
  {
   "cell_type": "code",
   "execution_count": null,
   "metadata": {},
   "outputs": [],
   "source": [
    "model = Network(batch=batch, input_shape=X_train.shape[1:])\n",
    "model.add(Connected_layer(outputs=num_classes, activation='logistic'))\n",
    "model.add(Cost_layer(cost_type='mse'))\n",
    "\n",
    "#model.compile(optimizer=SGD(lr=0.1, decay=0.03, lr_min=0., lr_max=np.inf))\n",
    "model.compile(optimizer=Adam(), metrics=[accuracy])\n",
    "model.summary()"
   ]
  },
  {
   "cell_type": "code",
   "execution_count": null,
   "metadata": {},
   "outputs": [],
   "source": [
    "model.fit(X=X_train, y=one_hot_y_train, max_iter=10000,verbose=False)"
   ]
  },
  {
   "cell_type": "code",
   "execution_count": null,
   "metadata": {},
   "outputs": [],
   "source": [
    "model.batch=len(X_test)\n",
    "loss, out = model.evaluate(X=X_test, truth=one_hot_y_test, verbose=True)"
   ]
  },
  {
   "cell_type": "code",
   "execution_count": null,
   "metadata": {},
   "outputs": [],
   "source": [
    "truth = from_categorical(one_hot_y_test)\n",
    "predicted = from_categorical(out)\n",
    "performance=mean_accuracy_score(truth, predicted)\n",
    "\n",
    "print('\\nLoss Score: {:.3f}'.format(loss))\n",
    "print('Accuracy Score: {:.3f}'.format(performance))"
   ]
  },
  {
   "cell_type": "markdown",
   "metadata": {},
   "source": [
    "## convo net"
   ]
  },
  {
   "cell_type": "code",
   "execution_count": null,
   "metadata": {},
   "outputs": [],
   "source": [
    "from NumPyNet.layers.convolutional_layer import Convolutional_layer\n",
    "from NumPyNet.layers.maxpool_layer import Maxpool_layer\n",
    "from NumPyNet.layers.softmax_layer import Softmax_layer\n",
    "from NumPyNet.layers.batchnorm_layer import BatchNorm_layer\n"
   ]
  },
  {
   "cell_type": "code",
   "execution_count": null,
   "metadata": {},
   "outputs": [],
   "source": [
    "batch=128\n",
    "\n",
    "model = Network(batch=batch, input_shape=X_train.shape[1:])\n",
    "model.add(Convolutional_layer(size=3, filters=32, stride=1, pad=True, activation='Relu'))\n",
    "model.add(BatchNorm_layer())\n",
    "model.add(Maxpool_layer(size=2, stride=1, padding=True))\n",
    "model.add(Connected_layer(outputs=100, activation='Relu'))\n",
    "model.add(BatchNorm_layer())\n",
    "model.add(Connected_layer(outputs=num_classes, activation='Linear'))\n",
    "model.add(Softmax_layer(spatial=True, groups=1, temperature=1.))\n",
    "model.add(Cost_layer(cost_type=cost_type.mse))\n",
    "\n",
    "# model.compile(optimizer=SGD(lr=0.01, decay=0., lr_min=0., lr_max=np.inf))\n",
    "model.compile(optimizer=Adam(), metrics=[accuracy])\n",
    "model.summary()"
   ]
  },
  {
   "cell_type": "code",
   "execution_count": null,
   "metadata": {},
   "outputs": [],
   "source": [
    "X_train.shape[1:]"
   ]
  },
  {
   "cell_type": "code",
   "execution_count": null,
   "metadata": {},
   "outputs": [],
   "source": []
  }
 ],
 "metadata": {
  "kernelspec": {
   "display_name": "Python 3",
   "language": "python",
   "name": "python3"
  },
  "language_info": {
   "codemirror_mode": {
    "name": "ipython",
    "version": 3
   },
   "file_extension": ".py",
   "mimetype": "text/x-python",
   "name": "python",
   "nbconvert_exporter": "python",
   "pygments_lexer": "ipython3",
   "version": "3.7.7"
  }
 },
 "nbformat": 4,
 "nbformat_minor": 4
}
