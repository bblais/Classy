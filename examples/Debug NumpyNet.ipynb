{
 "cells": [
  {
   "cell_type": "code",
   "execution_count": 2,
   "metadata": {},
   "outputs": [
    {
     "name": "stdout",
     "output_type": "stream",
     "text": [
      "Populating the interactive namespace from numpy and matplotlib\n",
      "Version:  0.0.25\n"
     ]
    }
   ],
   "source": [
    "%pylab inline\n",
    "from classy import *"
   ]
  },
  {
   "cell_type": "code",
   "execution_count": 29,
   "metadata": {},
   "outputs": [],
   "source": [
    "from NumPyNet.network import Network\n",
    "from NumPyNet.layers.connected_layer import Connected_layer\n",
    "from NumPyNet.layers.cost_layer import Cost_layer\n",
    "from NumPyNet.optimizer import Adam,SGD\n",
    "from NumPyNet.utils import to_categorical\n",
    "from NumPyNet.utils import from_categorical\n",
    "from NumPyNet.metrics import mean_accuracy_score"
   ]
  },
  {
   "cell_type": "code",
   "execution_count": 36,
   "metadata": {},
   "outputs": [
    {
     "name": "stdout",
     "output_type": "stream",
     "text": [
      "iris.data 151 5\n",
      "150 vectors of length 4\n",
      "Feature names: 'petal length in cm', 'petal width in cm', 'sepal length in cm', 'sepal width in cm'\n",
      "Target values given.\n",
      "Target names: 'Iris-setosa', 'Iris-versicolor', 'Iris-virginica'\n",
      "Mean:  [3.75866667 1.19866667 5.84333333 3.054     ]\n",
      "Median:  [4.35 1.3  5.8  3.  ]\n",
      "Stddev:  [1.75852918 0.76061262 0.82530129 0.43214658]\n",
      "Original vector shape:  (150, 4)\n",
      "Train vector shape:  (120, 4)\n",
      "Test vector shape:  (30, 4)\n"
     ]
    }
   ],
   "source": [
    "data=load_excel('data/iris.xls')\n",
    "data_train,data_test=split(data,test_size=0.2)"
   ]
  },
  {
   "cell_type": "code",
   "execution_count": 37,
   "metadata": {},
   "outputs": [],
   "source": [
    "X=data.vectors\n",
    "Y=data.targets"
   ]
  },
  {
   "cell_type": "code",
   "execution_count": 38,
   "metadata": {},
   "outputs": [
    {
     "data": {
      "text/plain": [
       "(150, 4)"
      ]
     },
     "execution_count": 38,
     "metadata": {},
     "output_type": "execute_result"
    }
   ],
   "source": [
    "X.shape"
   ]
  },
  {
   "cell_type": "code",
   "execution_count": 39,
   "metadata": {},
   "outputs": [
    {
     "data": {
      "text/plain": [
       "(150,)"
      ]
     },
     "execution_count": 39,
     "metadata": {},
     "output_type": "execute_result"
    }
   ],
   "source": [
    "Y.shape"
   ]
  },
  {
   "cell_type": "code",
   "execution_count": 40,
   "metadata": {},
   "outputs": [
    {
     "data": {
      "text/plain": [
       "array([0, 0, 0, 0, 0, 0, 0, 0, 0, 0, 0, 0, 0, 0, 0, 0, 0, 0, 0, 0, 0, 0,\n",
       "       0, 0, 0, 0, 0, 0, 0, 0, 0, 0, 0, 0, 0, 0, 0, 0, 0, 0, 0, 0, 0, 0,\n",
       "       0, 0, 0, 0, 0, 0, 1, 1, 1, 1, 1, 1, 1, 1, 1, 1, 1, 1, 1, 1, 1, 1,\n",
       "       1, 1, 1, 1, 1, 1, 1, 1, 1, 1, 1, 1, 1, 1, 1, 1, 1, 1, 1, 1, 1, 1,\n",
       "       1, 1, 1, 1, 1, 1, 1, 1, 1, 1, 1, 1, 2, 2, 2, 2, 2, 2, 2, 2, 2, 2,\n",
       "       2, 2, 2, 2, 2, 2, 2, 2, 2, 2, 2, 2, 2, 2, 2, 2, 2, 2, 2, 2, 2, 2,\n",
       "       2, 2, 2, 2, 2, 2, 2, 2, 2, 2, 2, 2, 2, 2, 2, 2, 2, 2])"
      ]
     },
     "execution_count": 40,
     "metadata": {},
     "output_type": "execute_result"
    }
   ],
   "source": [
    "Y"
   ]
  },
  {
   "cell_type": "code",
   "execution_count": 41,
   "metadata": {},
   "outputs": [
    {
     "data": {
      "text/plain": [
       "array([[1., 0., 0.],\n",
       "       [1., 0., 0.],\n",
       "       [1., 0., 0.],\n",
       "       [1., 0., 0.],\n",
       "       [1., 0., 0.],\n",
       "       [1., 0., 0.],\n",
       "       [1., 0., 0.],\n",
       "       [1., 0., 0.],\n",
       "       [1., 0., 0.],\n",
       "       [1., 0., 0.],\n",
       "       [0., 1., 0.],\n",
       "       [0., 1., 0.],\n",
       "       [0., 1., 0.],\n",
       "       [0., 1., 0.],\n",
       "       [0., 1., 0.],\n",
       "       [0., 1., 0.],\n",
       "       [0., 1., 0.],\n",
       "       [0., 1., 0.],\n",
       "       [0., 1., 0.],\n",
       "       [0., 1., 0.]])"
      ]
     },
     "execution_count": 41,
     "metadata": {},
     "output_type": "execute_result"
    }
   ],
   "source": [
    "one_hot_y=to_categorical(Y)\n",
    "one_hot_y[40:60,:]"
   ]
  },
  {
   "cell_type": "code",
   "execution_count": 42,
   "metadata": {},
   "outputs": [],
   "source": [
    "def accuracy (y_true, y_pred):\n",
    "    '''\n",
    "    Temporary metrics to overcome \"from_categorical\" missing in standard metrics\n",
    "    '''\n",
    "    from NumPyNet.metrics import mean_accuracy_score\n",
    "    truth = from_categorical(y_true)\n",
    "    predicted = from_categorical(y_pred)\n",
    "    return mean_accuracy_score(truth, predicted)\n"
   ]
  },
  {
   "cell_type": "code",
   "execution_count": 43,
   "metadata": {},
   "outputs": [],
   "source": [
    "X_train=data_train.vectors\n",
    "y_train=data_train.targets\n",
    "one_hot_y_train=to_categorical(y_train)\n",
    "\n",
    "X_test=data_test.vectors\n",
    "y_test=data_test.targets\n",
    "one_hot_y_test=to_categorical(y_test)"
   ]
  },
  {
   "cell_type": "code",
   "execution_count": 44,
   "metadata": {},
   "outputs": [
    {
     "data": {
      "text/plain": [
       "((30, 1, 1, 4), (30, 1, 1, 3))"
      ]
     },
     "execution_count": 44,
     "metadata": {},
     "output_type": "execute_result"
    }
   ],
   "source": [
    "# Reshape the data according to a 4D tensor\n",
    "num_samples, size = X_test.shape\n",
    "num_samples, size\n",
    "\n",
    "num_classes=one_hot_y_test.shape[1]\n",
    "\n",
    "X_test = X_test.reshape(num_samples, 1, 1, size)\n",
    "one_hot_y_test = one_hot_y_test.reshape(num_samples,1,1,-1)\n",
    "\n",
    "X_test.shape,one_hot_y_test.shape"
   ]
  },
  {
   "cell_type": "code",
   "execution_count": 45,
   "metadata": {},
   "outputs": [
    {
     "data": {
      "text/plain": [
       "((120, 1, 1, 4), (120, 1, 1, 3))"
      ]
     },
     "execution_count": 45,
     "metadata": {},
     "output_type": "execute_result"
    }
   ],
   "source": [
    "# Reshape the data according to a 4D tensor\n",
    "num_samples, size = X_train.shape\n",
    "num_samples, size\n",
    "\n",
    "num_classes=one_hot_y_train.shape[1]\n",
    "\n",
    "X_train = X_train.reshape(num_samples, 1, 1, size)\n",
    "one_hot_y_train = one_hot_y_train.reshape(num_samples,1,1,-1)\n",
    "\n",
    "X_train.shape,one_hot_y_train.shape"
   ]
  },
  {
   "cell_type": "code",
   "execution_count": null,
   "metadata": {},
   "outputs": [],
   "source": []
  },
  {
   "cell_type": "code",
   "execution_count": 46,
   "metadata": {},
   "outputs": [],
   "source": [
    "batch=len(y_train)\n",
    "step = batch"
   ]
  },
  {
   "cell_type": "code",
   "execution_count": 54,
   "metadata": {},
   "outputs": [],
   "source": [
    "model = Network(batch=batch, input_shape=X_train.shape[1:])\n",
    "model.add(Connected_layer(outputs=4, activation='relu'))\n",
    "model.add(Connected_layer(outputs=num_classes, activation='linear'))\n",
    "model.add(Cost_layer(cost_type='mse'))\n",
    "\n",
    "#model.compile(optimizer=SGD(lr=0.1, decay=0.03, lr_min=0., lr_max=np.inf))\n",
    "model.compile(optimizer=Adam(), metrics=[accuracy])"
   ]
  },
  {
   "cell_type": "code",
   "execution_count": 55,
   "metadata": {},
   "outputs": [
    {
     "name": "stdout",
     "output_type": "stream",
     "text": [
      "layer       filters  size              input                output\n",
      "   0 input                   120 x   1 x   1 x   4   ->   120 x   1 x   1 x   4\n",
      "   1 connected               120 x   1 x   1 x   4   ->   120 x   4\n",
      "   2 connected               120 x   1 x   1 x   4   ->   120 x   3\n",
      "   3 cost                    120 x   1 x   1 x   3   ->   120 x   1 x   1 x   3\n"
     ]
    }
   ],
   "source": [
    "model.summary()"
   ]
  },
  {
   "cell_type": "code",
   "execution_count": 56,
   "metadata": {},
   "outputs": [],
   "source": [
    "model.fit(X=X_train, y=one_hot_y_train, max_iter=10000,verbose=False)"
   ]
  },
  {
   "cell_type": "code",
   "execution_count": 57,
   "metadata": {},
   "outputs": [
    {
     "data": {
      "text/plain": [
       "120"
      ]
     },
     "execution_count": 57,
     "metadata": {},
     "output_type": "execute_result"
    }
   ],
   "source": [
    "model.batch"
   ]
  },
  {
   "cell_type": "code",
   "execution_count": 58,
   "metadata": {},
   "outputs": [
    {
     "name": "stdout",
     "output_type": "stream",
     "text": [
      "\u001b[K 30/30  |██████████████████████████████████████████████████| (0.0 sec/iter) loss: 0.001\n",
      "Prediction on 30 samples took 0.0 sec\n"
     ]
    }
   ],
   "source": [
    "model.batch=len(X_test)\n",
    "loss, out = model.evaluate(X=X_test, truth=one_hot_y_test, verbose=True)"
   ]
  },
  {
   "cell_type": "code",
   "execution_count": 59,
   "metadata": {},
   "outputs": [
    {
     "name": "stdout",
     "output_type": "stream",
     "text": [
      "\n",
      "Loss Score: 0.001\n",
      "Accuracy Score: 0.900\n"
     ]
    }
   ],
   "source": [
    "truth = from_categorical(one_hot_y_test)\n",
    "predicted = from_categorical(out)\n",
    "performance=mean_accuracy_score(truth, predicted)\n",
    "\n",
    "print('\\nLoss Score: {:.3f}'.format(loss))\n",
    "print('Accuracy Score: {:.3f}'.format(performance))"
   ]
  },
  {
   "cell_type": "code",
   "execution_count": null,
   "metadata": {},
   "outputs": [],
   "source": []
  },
  {
   "cell_type": "code",
   "execution_count": 60,
   "metadata": {},
   "outputs": [
    {
     "name": "stdout",
     "output_type": "stream",
     "text": [
      "layer       filters  size              input                output\n",
      "   0 input                   120 x   1 x   1 x   4   ->   120 x   1 x   1 x   4\n",
      "   1 connected               120 x   1 x   1 x   4   ->   120 x   3\n",
      "   2 cost                    120 x   1 x   1 x   3   ->   120 x   1 x   1 x   3\n"
     ]
    }
   ],
   "source": [
    "model = Network(batch=batch, input_shape=X_train.shape[1:])\n",
    "model.add(Connected_layer(outputs=num_classes, activation='logistic'))\n",
    "model.add(Cost_layer(cost_type='mse'))\n",
    "\n",
    "#model.compile(optimizer=SGD(lr=0.1, decay=0.03, lr_min=0., lr_max=np.inf))\n",
    "model.compile(optimizer=Adam(), metrics=[accuracy])\n",
    "model.summary()"
   ]
  },
  {
   "cell_type": "code",
   "execution_count": 61,
   "metadata": {},
   "outputs": [],
   "source": [
    "model.fit(X=X_train, y=one_hot_y_train, max_iter=10000,verbose=False)"
   ]
  },
  {
   "cell_type": "code",
   "execution_count": 62,
   "metadata": {},
   "outputs": [
    {
     "name": "stdout",
     "output_type": "stream",
     "text": [
      "\n",
      "Loss Score: 0.001\n",
      "Accuracy Score: 0.900\n"
     ]
    }
   ],
   "source": [
    "truth = from_categorical(one_hot_y_test)\n",
    "predicted = from_categorical(out)\n",
    "performance=mean_accuracy_score(truth, predicted)\n",
    "\n",
    "print('\\nLoss Score: {:.3f}'.format(loss))\n",
    "print('Accuracy Score: {:.3f}'.format(performance))"
   ]
  },
  {
   "cell_type": "markdown",
   "metadata": {},
   "source": [
    "## Images"
   ]
  },
  {
   "cell_type": "code",
   "execution_count": 63,
   "metadata": {},
   "outputs": [
    {
     "name": "stdout",
     "output_type": "stream",
     "text": [
      "[9]: 180 files found\n",
      "[0]: 178 files found\n",
      "[7]: 179 files found\n",
      "[6]: 181 files found\n",
      "[1]: 182 files found\n",
      "[8]: 174 files found\n",
      "[4]: 181 files found\n",
      "[3]: 183 files found\n",
      "[2]: 177 files found\n",
      "[5]: 182 files found\n"
     ]
    }
   ],
   "source": [
    "images=image.load_images('data/digits')"
   ]
  },
  {
   "cell_type": "code",
   "execution_count": 81,
   "metadata": {},
   "outputs": [
    {
     "name": "stdout",
     "output_type": "stream",
     "text": [
      "1797 vectors of length 64\n",
      "Feature names: 'p0', 'p1', 'p2', 'p3', 'p4'  , ... ,  'p59', 'p60', 'p61', 'p62', 'p63'  (64 features)\n",
      "Target values given.\n",
      "Target names: '9', '0', '7', '6', '1', '8', '4', '3', '2', '5'\n",
      "Mean:  [0.00000000e+00 4.71341124e+00 8.25158598e+01 1.88401224e+02\n",
      " 1.88589872e+02 9.17840846e+01 2.15581525e+01 2.04785754e+00\n",
      " 8.51419032e-02 3.14913745e+01 1.65203116e+02 1.90677240e+02\n",
      " 1.63504174e+02 1.30023372e+02 2.92036728e+01 1.70005565e+00\n",
      " 4.22927101e-02 4.11185309e+01 1.57575960e+02 1.11080690e+02\n",
      " 1.12814691e+02 1.24173066e+02 2.82609905e+01 7.82971619e-01\n",
      " 1.66944908e-02 3.90011130e+01 1.44642181e+02 1.40286589e+02\n",
      " 1.58007791e+02 1.20022816e+02 3.66889260e+01 3.33889816e-02\n",
      " 0.00000000e+00 3.70083472e+01 1.21928770e+02 1.44347245e+02\n",
      " 1.63978854e+02 1.39081803e+02 4.60222593e+01 0.00000000e+00\n",
      " 1.37451308e-01 2.49860879e+01 1.09460768e+02 1.14961046e+02\n",
      " 1.21993879e+02 1.30974958e+02 5.47762938e+01 4.24040067e-01\n",
      " 1.13522538e-01 1.10378408e+01 1.19312187e+02 1.51698943e+02\n",
      " 1.49728993e+02 1.39340011e+02 5.90962716e+01 3.23873122e+00\n",
      " 8.34724541e-03 4.34780189e+00 8.81591541e+01 1.92462994e+02\n",
      " 1.88009460e+02 1.07495826e+02 3.27490262e+01 5.77072899e+00]\n",
      "Median:  [  0.   0.  63. 207. 207.  63.   0.   0.   0.   0. 191. 207. 175. 143.\n",
      "   0.   0.   0.  15. 191.  95.  95. 127.   0.   0.   0.  15. 175. 159.\n",
      " 191. 111.   0.   0.   0.   0. 127. 159. 207. 159.  15.   0.   0.   0.\n",
      "  95. 111. 127. 143.  15.   0.   0.   0. 127. 159. 159. 159.  15.   0.\n",
      "   0.   0.  63. 207. 223.  95.   0.   0.]\n",
      "Stddev:  [  0.          14.22717752  75.79479369  67.88517638  68.52232671\n",
      "  90.3581085   52.88625131  16.47216306   1.44842195  50.7576493\n",
      "  86.55422116  63.60290344  76.42760101  96.53740043  57.02565325\n",
      "  13.11647513   0.95321433  56.84679424  90.80932368  92.58050776\n",
      "  98.50000012  98.78779801  51.79075122   6.90387772   0.50013864\n",
      "  49.94970201  98.7781811   93.88418435  98.12528728  93.67899482\n",
      "  58.58726878   0.70690869   0.          55.28329868 100.86027538\n",
      "  99.97913895  94.64396922  93.64015167  56.19204049   0.\n",
      "   2.26156209  47.3537032  104.20244968 102.68526906  99.83278433\n",
      "  90.82739038  68.89733343   4.82912707   3.23145722  27.62316404\n",
      "  90.02004928  83.47815394  84.68687626  96.17533855  78.31457884\n",
      "  15.55049191   0.35374992  14.68333191  81.36743295  69.86967274\n",
      "  78.76953994  94.07347801  65.09626368  29.57005528]\n"
     ]
    }
   ],
   "source": [
    "data=image.images_to_vectors(images)"
   ]
  },
  {
   "cell_type": "code",
   "execution_count": 83,
   "metadata": {},
   "outputs": [
    {
     "name": "stdout",
     "output_type": "stream",
     "text": [
      "1797 vectors of length 64\n",
      "Feature names: 'p0', 'p1', 'p2', 'p3', 'p4'  , ... ,  'p59', 'p60', 'p61', 'p62', 'p63'  (64 features)\n",
      "Target values given.\n",
      "Target names: '9', '0', '7', '6', '1', '8', '4', '3', '2', '5'\n",
      "Mean:  [0.00000000e+00 7.24861398e-05 1.26898669e-03 2.89736600e-03\n",
      " 2.90026716e-03 1.41151995e-03 3.31536370e-04 3.14933878e-05\n",
      " 1.30937183e-06 4.84296417e-04 2.54060925e-03 2.93236816e-03\n",
      " 2.51448172e-03 1.99959050e-03 4.49114537e-04 2.61446466e-05\n",
      " 6.50406922e-07 6.32349571e-04 2.42331349e-03 1.70827666e-03\n",
      " 1.73494335e-03 1.90962040e-03 4.34617309e-04 1.20410860e-05\n",
      " 2.56739574e-07 5.99786435e-04 2.22440879e-03 2.15742543e-03\n",
      " 2.42995449e-03 1.84579494e-03 5.64228004e-04 5.13479149e-07\n",
      " 0.00000000e+00 5.69140288e-04 1.87510604e-03 2.21987306e-03\n",
      " 2.52178168e-03 2.13889739e-03 7.07762542e-04 0.00000000e+00\n",
      " 2.11382249e-06 3.84253563e-04 1.68336437e-03 1.76795150e-03\n",
      " 1.87610732e-03 2.01422466e-03 8.42388217e-04 6.52118519e-06\n",
      " 1.74582911e-06 1.69747649e-04 1.83486639e-03 2.33293261e-03\n",
      " 2.30263734e-03 2.14286830e-03 9.08823861e-04 4.98074774e-05\n",
      " 1.28369787e-07 6.68635431e-05 1.35577323e-03 2.95983074e-03\n",
      " 2.89134118e-03 1.65314612e-03 5.03637465e-04 8.87463128e-05]\n",
      "Median:  [0.         0.         0.00096886 0.00318339 0.00318339 0.00096886\n",
      " 0.         0.         0.         0.         0.00293733 0.00318339\n",
      " 0.00269127 0.00219915 0.         0.         0.         0.00023068\n",
      " 0.00293733 0.00146098 0.00146098 0.00195309 0.         0.\n",
      " 0.         0.00023068 0.00269127 0.00244521 0.00293733 0.00170704\n",
      " 0.         0.         0.         0.         0.00195309 0.00244521\n",
      " 0.00318339 0.00244521 0.00023068 0.         0.         0.\n",
      " 0.00146098 0.00170704 0.00195309 0.00219915 0.00023068 0.\n",
      " 0.         0.         0.00195309 0.00244521 0.00244521 0.00244521\n",
      " 0.00023068 0.         0.         0.         0.00096886 0.00318339\n",
      " 0.00342945 0.00146098 0.         0.        ]\n",
      "Stddev:  [0.00000000e+00 2.18795502e-04 1.16562543e-03 1.04398580e-03\n",
      " 1.05378434e-03 1.38959029e-03 8.13321819e-04 2.53320462e-04\n",
      " 2.22748474e-05 7.80586687e-04 1.33109144e-03 9.78130003e-04\n",
      " 1.17535719e-03 1.48461977e-03 8.76980442e-04 2.01714343e-04\n",
      " 1.46591977e-05 8.74229823e-04 1.39652939e-03 1.42376790e-03\n",
      " 1.51480200e-03 1.51922796e-03 7.96474452e-04 1.06172668e-04\n",
      " 7.69148231e-06 7.68161507e-04 1.51908006e-03 1.44381675e-03\n",
      " 1.50903940e-03 1.44066120e-03 9.00996060e-04 1.08713371e-05\n",
      " 0.00000000e+00 8.50185293e-04 1.55109997e-03 1.53754923e-03\n",
      " 1.45550126e-03 1.44006385e-03 8.64160561e-04 0.00000000e+00\n",
      " 3.47798860e-05 7.28238419e-04 1.60249827e-03 1.57916600e-03\n",
      " 1.53529849e-03 1.39680723e-03 1.05955146e-03 7.42656989e-05\n",
      " 4.96956127e-05 4.24808367e-04 1.38439138e-03 1.28378553e-03\n",
      " 1.30237411e-03 1.47905173e-03 1.20437645e-03 2.39146358e-04\n",
      " 5.44021404e-06 2.25810564e-04 1.25132538e-03 1.07450477e-03\n",
      " 1.21137316e-03 1.44672784e-03 1.00109594e-03 4.54749024e-04]\n"
     ]
    }
   ],
   "source": [
    "data.vectors/=255\n",
    "summary(data)"
   ]
  },
  {
   "cell_type": "code",
   "execution_count": 84,
   "metadata": {},
   "outputs": [
    {
     "name": "stdout",
     "output_type": "stream",
     "text": [
      "Original vector shape:  (1797, 64)\n",
      "Train vector shape:  (1347, 64)\n",
      "Test vector shape:  (450, 64)\n"
     ]
    }
   ],
   "source": [
    "data_train,data_test=split(data)"
   ]
  },
  {
   "cell_type": "code",
   "execution_count": 85,
   "metadata": {},
   "outputs": [],
   "source": [
    "X_train=data_train.vectors\n",
    "y_train=data_train.targets\n",
    "one_hot_y_train=to_categorical(y_train)\n",
    "\n",
    "X_test=data_test.vectors\n",
    "y_test=data_test.targets\n",
    "one_hot_y_test=to_categorical(y_test)"
   ]
  },
  {
   "cell_type": "code",
   "execution_count": 86,
   "metadata": {},
   "outputs": [
    {
     "data": {
      "text/plain": [
       "array([[0., 0., 0., 1., 0., 0., 0., 0., 0., 0.],\n",
       "       [1., 0., 0., 0., 0., 0., 0., 0., 0., 0.],\n",
       "       [0., 0., 0., 0., 0., 0., 0., 1., 0., 0.],\n",
       "       [0., 0., 0., 1., 0., 0., 0., 0., 0., 0.],\n",
       "       [0., 1., 0., 0., 0., 0., 0., 0., 0., 0.],\n",
       "       [0., 0., 0., 0., 0., 0., 0., 1., 0., 0.],\n",
       "       [0., 0., 0., 0., 0., 0., 0., 0., 1., 0.],\n",
       "       [0., 0., 0., 1., 0., 0., 0., 0., 0., 0.],\n",
       "       [0., 0., 0., 0., 0., 0., 0., 0., 0., 1.],\n",
       "       [0., 0., 0., 0., 0., 0., 0., 0., 1., 0.]])"
      ]
     },
     "execution_count": 86,
     "metadata": {},
     "output_type": "execute_result"
    }
   ],
   "source": [
    "one_hot_y_test[:10,:]"
   ]
  },
  {
   "cell_type": "code",
   "execution_count": 87,
   "metadata": {},
   "outputs": [
    {
     "data": {
      "text/plain": [
       "((450, 1, 1, 64), (450, 1, 1, 10))"
      ]
     },
     "execution_count": 87,
     "metadata": {},
     "output_type": "execute_result"
    }
   ],
   "source": [
    "# Reshape the data according to a 4D tensor\n",
    "num_samples, size = X_test.shape\n",
    "num_samples, size\n",
    "\n",
    "num_classes=one_hot_y_test.shape[1]\n",
    "\n",
    "X_test = X_test.reshape(num_samples, 1, 1, size)\n",
    "one_hot_y_test = one_hot_y_test.reshape(num_samples,1,1,-1)\n",
    "\n",
    "X_test.shape,one_hot_y_test.shape"
   ]
  },
  {
   "cell_type": "code",
   "execution_count": 88,
   "metadata": {},
   "outputs": [
    {
     "data": {
      "text/plain": [
       "((1347, 1, 1, 64), (1347, 1, 1, 10))"
      ]
     },
     "execution_count": 88,
     "metadata": {},
     "output_type": "execute_result"
    }
   ],
   "source": [
    "# Reshape the data according to a 4D tensor\n",
    "num_samples, size = X_train.shape\n",
    "num_samples, size\n",
    "\n",
    "num_classes=one_hot_y_train.shape[1]\n",
    "\n",
    "X_train = X_train.reshape(num_samples, 1, 1, size)\n",
    "one_hot_y_train = one_hot_y_train.reshape(num_samples,1,1,-1)\n",
    "\n",
    "X_train.shape,one_hot_y_train.shape"
   ]
  },
  {
   "cell_type": "code",
   "execution_count": 89,
   "metadata": {},
   "outputs": [],
   "source": [
    "batch=len(y_train)\n",
    "step = batch"
   ]
  },
  {
   "cell_type": "code",
   "execution_count": 90,
   "metadata": {},
   "outputs": [
    {
     "name": "stdout",
     "output_type": "stream",
     "text": [
      "layer       filters  size              input                output\n",
      "   0 input                  1347 x   1 x   1 x  64   ->  1347 x   1 x   1 x  64\n",
      "   1 connected              1347 x   1 x   1 x  64   ->  1347 x  10\n",
      "   2 cost                   1347 x   1 x   1 x  10   ->  1347 x   1 x   1 x  10\n"
     ]
    }
   ],
   "source": [
    "model = Network(batch=batch, input_shape=X_train.shape[1:])\n",
    "model.add(Connected_layer(outputs=num_classes, activation='logistic'))\n",
    "model.add(Cost_layer(cost_type='mse'))\n",
    "\n",
    "#model.compile(optimizer=SGD(lr=0.1, decay=0.03, lr_min=0., lr_max=np.inf))\n",
    "model.compile(optimizer=Adam(), metrics=[accuracy])\n",
    "model.summary()"
   ]
  },
  {
   "cell_type": "code",
   "execution_count": 91,
   "metadata": {},
   "outputs": [],
   "source": [
    "model.fit(X=X_train, y=one_hot_y_train, max_iter=10000,verbose=False)"
   ]
  },
  {
   "cell_type": "code",
   "execution_count": 92,
   "metadata": {},
   "outputs": [
    {
     "name": "stdout",
     "output_type": "stream",
     "text": [
      "\u001b[K450/450 |██████████████████████████████████████████████████| (0.0 sec/iter) loss: 0.000\n",
      "Prediction on 450 samples took 0.0 sec\n"
     ]
    }
   ],
   "source": [
    "model.batch=len(X_test)\n",
    "loss, out = model.evaluate(X=X_test, truth=one_hot_y_test, verbose=True)"
   ]
  },
  {
   "cell_type": "code",
   "execution_count": 93,
   "metadata": {},
   "outputs": [
    {
     "name": "stdout",
     "output_type": "stream",
     "text": [
      "\n",
      "Loss Score: 0.000\n",
      "Accuracy Score: 0.582\n"
     ]
    }
   ],
   "source": [
    "truth = from_categorical(one_hot_y_test)\n",
    "predicted = from_categorical(out)\n",
    "performance=mean_accuracy_score(truth, predicted)\n",
    "\n",
    "print('\\nLoss Score: {:.3f}'.format(loss))\n",
    "print('Accuracy Score: {:.3f}'.format(performance))"
   ]
  },
  {
   "cell_type": "markdown",
   "metadata": {},
   "source": [
    "## convo net"
   ]
  },
  {
   "cell_type": "code",
   "execution_count": 95,
   "metadata": {},
   "outputs": [],
   "source": [
    "from NumPyNet.layers.convolutional_layer import Convolutional_layer\n",
    "from NumPyNet.layers.maxpool_layer import Maxpool_layer\n",
    "from NumPyNet.layers.softmax_layer import Softmax_layer\n",
    "from NumPyNet.layers.batchnorm_layer import BatchNorm_layer\n"
   ]
  },
  {
   "cell_type": "code",
   "execution_count": 97,
   "metadata": {},
   "outputs": [
    {
     "name": "stderr",
     "output_type": "stream",
     "text": [
      "/Users/bblais/opt/anaconda3/envs/py3/lib/python3.7/site-packages/NumPyNet/layers/connected_layer.py:73: RuntimeWarning: divide by zero encountered in true_divide\n",
      "  scale = np.sqrt(2. / self.inputs)\n"
     ]
    },
    {
     "ename": "OverflowError",
     "evalue": "Range exceeds valid bounds",
     "output_type": "error",
     "traceback": [
      "\u001b[0;31m---------------------------------------------------------------------------\u001b[0m",
      "\u001b[0;31mOverflowError\u001b[0m                             Traceback (most recent call last)",
      "\u001b[0;32m<ipython-input-97-ca5bcc52588c>\u001b[0m in \u001b[0;36m<module>\u001b[0;34m()\u001b[0m\n\u001b[1;32m      5\u001b[0m \u001b[0mmodel\u001b[0m\u001b[0;34m.\u001b[0m\u001b[0madd\u001b[0m\u001b[0;34m(\u001b[0m\u001b[0mBatchNorm_layer\u001b[0m\u001b[0;34m(\u001b[0m\u001b[0;34m)\u001b[0m\u001b[0;34m)\u001b[0m\u001b[0;34m\u001b[0m\u001b[0;34m\u001b[0m\u001b[0m\n\u001b[1;32m      6\u001b[0m \u001b[0mmodel\u001b[0m\u001b[0;34m.\u001b[0m\u001b[0madd\u001b[0m\u001b[0;34m(\u001b[0m\u001b[0mMaxpool_layer\u001b[0m\u001b[0;34m(\u001b[0m\u001b[0msize\u001b[0m\u001b[0;34m=\u001b[0m\u001b[0;36m2\u001b[0m\u001b[0;34m,\u001b[0m \u001b[0mstride\u001b[0m\u001b[0;34m=\u001b[0m\u001b[0;36m1\u001b[0m\u001b[0;34m,\u001b[0m \u001b[0mpadding\u001b[0m\u001b[0;34m=\u001b[0m\u001b[0;32mTrue\u001b[0m\u001b[0;34m)\u001b[0m\u001b[0;34m)\u001b[0m\u001b[0;34m\u001b[0m\u001b[0;34m\u001b[0m\u001b[0m\n\u001b[0;32m----> 7\u001b[0;31m \u001b[0mmodel\u001b[0m\u001b[0;34m.\u001b[0m\u001b[0madd\u001b[0m\u001b[0;34m(\u001b[0m\u001b[0mConnected_layer\u001b[0m\u001b[0;34m(\u001b[0m\u001b[0moutputs\u001b[0m\u001b[0;34m=\u001b[0m\u001b[0;36m100\u001b[0m\u001b[0;34m,\u001b[0m \u001b[0mactivation\u001b[0m\u001b[0;34m=\u001b[0m\u001b[0;34m'Relu'\u001b[0m\u001b[0;34m)\u001b[0m\u001b[0;34m)\u001b[0m\u001b[0;34m\u001b[0m\u001b[0;34m\u001b[0m\u001b[0m\n\u001b[0m\u001b[1;32m      8\u001b[0m \u001b[0mmodel\u001b[0m\u001b[0;34m.\u001b[0m\u001b[0madd\u001b[0m\u001b[0;34m(\u001b[0m\u001b[0mBatchNorm_layer\u001b[0m\u001b[0;34m(\u001b[0m\u001b[0;34m)\u001b[0m\u001b[0;34m)\u001b[0m\u001b[0;34m\u001b[0m\u001b[0;34m\u001b[0m\u001b[0m\n\u001b[1;32m      9\u001b[0m \u001b[0mmodel\u001b[0m\u001b[0;34m.\u001b[0m\u001b[0madd\u001b[0m\u001b[0;34m(\u001b[0m\u001b[0mConnected_layer\u001b[0m\u001b[0;34m(\u001b[0m\u001b[0moutputs\u001b[0m\u001b[0;34m=\u001b[0m\u001b[0mnum_classes\u001b[0m\u001b[0;34m,\u001b[0m \u001b[0mactivation\u001b[0m\u001b[0;34m=\u001b[0m\u001b[0;34m'Linear'\u001b[0m\u001b[0;34m)\u001b[0m\u001b[0;34m)\u001b[0m\u001b[0;34m\u001b[0m\u001b[0;34m\u001b[0m\u001b[0m\n",
      "\u001b[0;32m/Users/bblais/opt/anaconda3/envs/py3/lib/python3.7/site-packages/NumPyNet/network.py\u001b[0m in \u001b[0;36madd\u001b[0;34m(self, layer)\u001b[0m\n\u001b[1;32m    127\u001b[0m \u001b[0;34m\u001b[0m\u001b[0m\n\u001b[1;32m    128\u001b[0m     \u001b[0;32melse\u001b[0m\u001b[0;34m:\u001b[0m\u001b[0;34m\u001b[0m\u001b[0;34m\u001b[0m\u001b[0m\n\u001b[0;32m--> 129\u001b[0;31m       \u001b[0mself\u001b[0m\u001b[0;34m.\u001b[0m\u001b[0m_net\u001b[0m\u001b[0;34m.\u001b[0m\u001b[0mappend\u001b[0m\u001b[0;34m(\u001b[0m\u001b[0mlayer\u001b[0m\u001b[0;34m(\u001b[0m\u001b[0mself\u001b[0m\u001b[0;34m.\u001b[0m\u001b[0m_net\u001b[0m\u001b[0;34m[\u001b[0m\u001b[0;34m-\u001b[0m\u001b[0;36m1\u001b[0m\u001b[0;34m]\u001b[0m\u001b[0;34m)\u001b[0m\u001b[0;34m)\u001b[0m\u001b[0;34m\u001b[0m\u001b[0;34m\u001b[0m\u001b[0m\n\u001b[0m\u001b[1;32m    130\u001b[0m \u001b[0;34m\u001b[0m\u001b[0m\n\u001b[1;32m    131\u001b[0m     \u001b[0;32mreturn\u001b[0m \u001b[0mself\u001b[0m\u001b[0;34m\u001b[0m\u001b[0;34m\u001b[0m\u001b[0m\n",
      "\u001b[0;32m/Users/bblais/opt/anaconda3/envs/py3/lib/python3.7/site-packages/NumPyNet/layers/connected_layer.py\u001b[0m in \u001b[0;36m__call__\u001b[0;34m(self, previous_layer)\u001b[0m\n\u001b[1;32m     79\u001b[0m   \u001b[0;32mdef\u001b[0m \u001b[0m__call__\u001b[0m\u001b[0;34m(\u001b[0m\u001b[0mself\u001b[0m\u001b[0;34m,\u001b[0m \u001b[0mprevious_layer\u001b[0m\u001b[0;34m)\u001b[0m\u001b[0;34m:\u001b[0m\u001b[0;34m\u001b[0m\u001b[0;34m\u001b[0m\u001b[0m\n\u001b[1;32m     80\u001b[0m \u001b[0;34m\u001b[0m\u001b[0m\n\u001b[0;32m---> 81\u001b[0;31m     \u001b[0msuper\u001b[0m\u001b[0;34m(\u001b[0m\u001b[0mConnected_layer\u001b[0m\u001b[0;34m,\u001b[0m \u001b[0mself\u001b[0m\u001b[0;34m)\u001b[0m\u001b[0;34m.\u001b[0m\u001b[0m__call__\u001b[0m\u001b[0;34m(\u001b[0m\u001b[0mprevious_layer\u001b[0m\u001b[0;34m)\u001b[0m\u001b[0;34m\u001b[0m\u001b[0;34m\u001b[0m\u001b[0m\n\u001b[0m\u001b[1;32m     82\u001b[0m     \u001b[0mself\u001b[0m\u001b[0;34m.\u001b[0m\u001b[0m_build\u001b[0m\u001b[0;34m(\u001b[0m\u001b[0;34m)\u001b[0m\u001b[0;34m\u001b[0m\u001b[0;34m\u001b[0m\u001b[0m\n\u001b[1;32m     83\u001b[0m \u001b[0;34m\u001b[0m\u001b[0m\n",
      "\u001b[0;32m/Users/bblais/opt/anaconda3/envs/py3/lib/python3.7/site-packages/NumPyNet/layers/base.py\u001b[0m in \u001b[0;36m__call__\u001b[0;34m(self, previous_layer)\u001b[0m\n\u001b[1;32m     53\u001b[0m     \u001b[0mself\u001b[0m\u001b[0;34m.\u001b[0m\u001b[0minput_shape\u001b[0m \u001b[0;34m=\u001b[0m \u001b[0mprevious_layer\u001b[0m\u001b[0;34m.\u001b[0m\u001b[0mout_shape\u001b[0m\u001b[0;34m\u001b[0m\u001b[0;34m\u001b[0m\u001b[0m\n\u001b[1;32m     54\u001b[0m \u001b[0;34m\u001b[0m\u001b[0m\n\u001b[0;32m---> 55\u001b[0;31m     \u001b[0mself\u001b[0m\u001b[0;34m.\u001b[0m\u001b[0m_build\u001b[0m\u001b[0;34m(\u001b[0m\u001b[0;34m)\u001b[0m\u001b[0;34m\u001b[0m\u001b[0;34m\u001b[0m\u001b[0m\n\u001b[0m\u001b[1;32m     56\u001b[0m \u001b[0;34m\u001b[0m\u001b[0m\n\u001b[1;32m     57\u001b[0m     \u001b[0;32mreturn\u001b[0m \u001b[0mself\u001b[0m\u001b[0;34m\u001b[0m\u001b[0;34m\u001b[0m\u001b[0m\n",
      "\u001b[0;32m/Users/bblais/opt/anaconda3/envs/py3/lib/python3.7/site-packages/NumPyNet/layers/connected_layer.py\u001b[0m in \u001b[0;36m_build\u001b[0;34m(self)\u001b[0m\n\u001b[1;32m     72\u001b[0m     \u001b[0;32mif\u001b[0m \u001b[0mself\u001b[0m\u001b[0;34m.\u001b[0m\u001b[0mweights\u001b[0m \u001b[0;32mis\u001b[0m \u001b[0;32mNone\u001b[0m\u001b[0;34m:\u001b[0m\u001b[0;34m\u001b[0m\u001b[0;34m\u001b[0m\u001b[0m\n\u001b[1;32m     73\u001b[0m       \u001b[0mscale\u001b[0m \u001b[0;34m=\u001b[0m \u001b[0mnp\u001b[0m\u001b[0;34m.\u001b[0m\u001b[0msqrt\u001b[0m\u001b[0;34m(\u001b[0m\u001b[0;36m2.\u001b[0m \u001b[0;34m/\u001b[0m \u001b[0mself\u001b[0m\u001b[0;34m.\u001b[0m\u001b[0minputs\u001b[0m\u001b[0;34m)\u001b[0m\u001b[0;34m\u001b[0m\u001b[0;34m\u001b[0m\u001b[0m\n\u001b[0;32m---> 74\u001b[0;31m       \u001b[0mself\u001b[0m\u001b[0;34m.\u001b[0m\u001b[0mweights\u001b[0m \u001b[0;34m=\u001b[0m \u001b[0mnp\u001b[0m\u001b[0;34m.\u001b[0m\u001b[0mrandom\u001b[0m\u001b[0;34m.\u001b[0m\u001b[0muniform\u001b[0m\u001b[0;34m(\u001b[0m\u001b[0mlow\u001b[0m\u001b[0;34m=\u001b[0m\u001b[0;34m-\u001b[0m\u001b[0mscale\u001b[0m\u001b[0;34m,\u001b[0m \u001b[0mhigh\u001b[0m\u001b[0;34m=\u001b[0m\u001b[0mscale\u001b[0m\u001b[0;34m,\u001b[0m \u001b[0msize\u001b[0m\u001b[0;34m=\u001b[0m\u001b[0;34m(\u001b[0m\u001b[0mself\u001b[0m\u001b[0;34m.\u001b[0m\u001b[0minputs\u001b[0m\u001b[0;34m,\u001b[0m \u001b[0mself\u001b[0m\u001b[0;34m.\u001b[0m\u001b[0moutputs\u001b[0m\u001b[0;34m)\u001b[0m\u001b[0;34m)\u001b[0m\u001b[0;34m\u001b[0m\u001b[0;34m\u001b[0m\u001b[0m\n\u001b[0m\u001b[1;32m     75\u001b[0m \u001b[0;34m\u001b[0m\u001b[0m\n\u001b[1;32m     76\u001b[0m     \u001b[0;32mif\u001b[0m \u001b[0mself\u001b[0m\u001b[0;34m.\u001b[0m\u001b[0mbias\u001b[0m \u001b[0;32mis\u001b[0m \u001b[0;32mNone\u001b[0m\u001b[0;34m:\u001b[0m\u001b[0;34m\u001b[0m\u001b[0;34m\u001b[0m\u001b[0m\n",
      "\u001b[0;32mmtrand.pyx\u001b[0m in \u001b[0;36mnumpy.random.mtrand.RandomState.uniform\u001b[0;34m()\u001b[0m\n",
      "\u001b[0;31mOverflowError\u001b[0m: Range exceeds valid bounds"
     ]
    }
   ],
   "source": [
    "batch=128\n",
    "\n",
    "model = Network(batch=batch, input_shape=X_train.shape[1:])\n",
    "model.add(Convolutional_layer(size=3, filters=32, stride=1, pad=True, activation='Relu'))\n",
    "model.add(BatchNorm_layer())\n",
    "model.add(Maxpool_layer(size=2, stride=1, padding=True))\n",
    "model.add(Connected_layer(outputs=100, activation='Relu'))\n",
    "model.add(BatchNorm_layer())\n",
    "model.add(Connected_layer(outputs=num_classes, activation='Linear'))\n",
    "model.add(Softmax_layer(spatial=True, groups=1, temperature=1.))\n",
    "model.add(Cost_layer(cost_type=cost_type.mse))\n",
    "\n",
    "# model.compile(optimizer=SGD(lr=0.01, decay=0., lr_min=0., lr_max=np.inf))\n",
    "model.compile(optimizer=Adam(), metrics=[accuracy])\n",
    "model.summary()"
   ]
  },
  {
   "cell_type": "code",
   "execution_count": 98,
   "metadata": {},
   "outputs": [
    {
     "data": {
      "text/plain": [
       "(1, 1, 64)"
      ]
     },
     "execution_count": 98,
     "metadata": {},
     "output_type": "execute_result"
    }
   ],
   "source": [
    "X_train.shape[1:]"
   ]
  },
  {
   "cell_type": "code",
   "execution_count": null,
   "metadata": {},
   "outputs": [],
   "source": []
  }
 ],
 "metadata": {
  "kernelspec": {
   "display_name": "Python 3",
   "language": "python",
   "name": "python3"
  },
  "language_info": {
   "codemirror_mode": {
    "name": "ipython",
    "version": 3
   },
   "file_extension": ".py",
   "mimetype": "text/x-python",
   "name": "python",
   "nbconvert_exporter": "python",
   "pygments_lexer": "ipython3",
   "version": "3.7.7"
  }
 },
 "nbformat": 4,
 "nbformat_minor": 4
}
