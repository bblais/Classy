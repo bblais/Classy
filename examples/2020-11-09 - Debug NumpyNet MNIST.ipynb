{
 "cells": [
  {
   "cell_type": "code",
   "execution_count": 1,
   "metadata": {},
   "outputs": [
    {
     "name": "stdout",
     "output_type": "stream",
     "text": [
      "Populating the interactive namespace from numpy and matplotlib\n"
     ]
    }
   ],
   "source": [
    "%pylab inline"
   ]
  },
  {
   "cell_type": "code",
   "execution_count": 2,
   "metadata": {},
   "outputs": [
    {
     "name": "stdout",
     "output_type": "stream",
     "text": [
      "Version  1.0.4\n"
     ]
    }
   ],
   "source": [
    "'''\n",
    "Little example on how to use the Network class to create a model and perform\n",
    "a basic classification of the MNIST dataset\n",
    "'''\n",
    "\n",
    "#from NumPyNet.layers.input_layer import Input_layer\n",
    "from NumPyNet.layers.connected_layer import Connected_layer\n",
    "from NumPyNet.layers.convolutional_layer import Convolutional_layer\n",
    "from NumPyNet.layers.maxpool_layer import Maxpool_layer\n",
    "from NumPyNet.layers.softmax_layer import Softmax_layer\n",
    "# from NumPyNet.layers.dropout_layer import Dropout_layer\n",
    "# from NumPyNet.layers.cost_layer import Cost_layer\n",
    "# from NumPyNet.layers.cost_layer import cost_type\n",
    "from NumPyNet.layers.batchnorm_layer import BatchNorm_layer\n",
    "from NumPyNet.network import Network\n",
    "from NumPyNet.optimizer import Adam\n",
    "# from NumPyNet.optimizer import Adam, SGD, Momentum\n",
    "from NumPyNet.utils import to_categorical\n",
    "from NumPyNet.utils import from_categorical\n",
    "from NumPyNet.metrics import mean_accuracy_score\n",
    "\n",
    "import numpy as np\n",
    "from sklearn import datasets\n",
    "from sklearn.model_selection import train_test_split\n",
    "\n",
    "__author__ = ['Mattia Ceccarelli', 'Nico Curti']\n",
    "__email__ = ['mattia.ceccarelli3@studio.unibo.it', 'nico.curti2@unibo.it']\n",
    "\n",
    "\n",
    "def accuracy (y_true, y_pred):\n",
    "  '''\n",
    "  Temporary metrics to overcome \"from_categorical\" missing in standard metrics\n",
    "  '''\n",
    "  truth = from_categorical(y_true)\n",
    "  predicted = from_categorical(y_pred)\n",
    "  return mean_accuracy_score(truth, predicted)\n",
    "\n",
    "\n"
   ]
  },
  {
   "cell_type": "code",
   "execution_count": 4,
   "metadata": {},
   "outputs": [
    {
     "name": "stderr",
     "output_type": "stream",
     "text": [
      "  0%|          | 0/10 [00:00<?, ?it/s]"
     ]
    },
    {
     "name": "stdout",
     "output_type": "stream",
     "text": [
      "*************************************\n",
      "\n",
      " Total input dimension: (1437, 8, 8, 3) \n",
      "\n",
      "**************MODEL SUMMARY***********\n",
      "layer       filters  size              input                output\n",
      "   0 input                   128 x   8 x   8 x   3   ->   128 x   8 x   8 x   3\n",
      "   1 conv     32 3 x 3 / 1   128 x   8 x   8 x   3   ->   128 x   8 x   8 x  32  0.000 BFLOPs\n",
      "   2 batchnorm                       8 x   8 x  32 image\n",
      "   3 max         2 x 2 / 1   128 x   8 x   8 x  32   ->   128 x   7 x   7 x  32\n",
      "   4 connected               128 x   7 x   7 x  32   ->   128 x 100\n",
      "   5 batchnorm                       1 x   1 x 100 image\n",
      "   6 connected               128 x   1 x   1 x 100   ->   128 x  10\n",
      "   7 softmax x entropy                                    128 x   1 x   1 x  10\n",
      "\n",
      "***********START TRAINING***********\n",
      "\n",
      "unequal batch sizes...adjusting.\n"
     ]
    },
    {
     "name": "stderr",
     "output_type": "stream",
     "text": [
      "100%|██████████| 10/10 [00:37<00:00,  3.71s/it]"
     ]
    },
    {
     "name": "stdout",
     "output_type": "stream",
     "text": [
      "\n",
      "***********START TESTING**************\n",
      "\n",
      "\u001b[K360/360 |██████████████████████████████████████████████████| (0.0 sec/iter) loss: 0.065\n",
      "Prediction on 360 samples took 0.1 sec\n",
      "\n",
      "Loss Score: 0.024\n",
      "Accuracy Score: 0.986\n"
     ]
    },
    {
     "name": "stderr",
     "output_type": "stream",
     "text": [
      "\n"
     ]
    }
   ],
   "source": [
    "np.random.seed(123)\n",
    "\n",
    "digits = datasets.load_digits()\n",
    "X, y = digits.images, digits.target\n",
    "\n",
    "# del digits\n",
    "\n",
    "# add channels to images\n",
    "X = np.asarray([np.dstack((x, x, x)) for x in X])\n",
    "\n",
    "X_train, X_test, y_train, y_test = train_test_split(X, y,\n",
    "                                                  test_size=.2,\n",
    "                                                  random_state=42)\n",
    "\n",
    "batch = 128\n",
    "num_classes = len(set(y))\n",
    "\n",
    "# del X, y\n",
    "\n",
    "# normalization to [0, 1]\n",
    "X_train *= 1. / 255.\n",
    "X_test  *= 1. / 255.\n",
    "\n",
    "# reduce the size of the data set for testing\n",
    "############################################\n",
    "\n",
    "# train_size = 512\n",
    "# test_size  = 300\n",
    "\n",
    "\n",
    "\n",
    "# X_train = X_train[:train_size, ...]\n",
    "# y_train = y_train[:train_size]\n",
    "# X_test  = X_test[ :test_size,  ...]\n",
    "# y_test  = y_test[ :test_size]\n",
    "\n",
    "############################################\n",
    "\n",
    "n_train = X_train.shape[0]\n",
    "n_test  = X_test.shape[0]\n",
    "\n",
    "# transform y to array of dimension 10 and in 4 dimension\n",
    "y_train = to_categorical(y_train).reshape(n_train, 1, 1, -1)\n",
    "y_test  = to_categorical(y_test).reshape(n_test, 1, 1, -1)\n",
    "\n",
    "# Create the model and training\n",
    "model = Network(batch=batch, input_shape=X_train.shape[1:])\n",
    "\n",
    "model.add(Convolutional_layer(size=3, filters=32, stride=1, pad=True, activation='Relu'))\n",
    "\n",
    "model.add(BatchNorm_layer())\n",
    "\n",
    "model.add(Maxpool_layer(size=2, stride=1, padding=True))\n",
    "\n",
    "model.add(Connected_layer(outputs=100, activation='Relu'))\n",
    "\n",
    "model.add(BatchNorm_layer())\n",
    "\n",
    "model.add(Connected_layer(outputs=num_classes, activation='Linear'))\n",
    "\n",
    "model.add(Softmax_layer(spatial=True, groups=1, temperature=1.))\n",
    "# model.add(Cost_layer(cost_type=cost_type.mse))\n",
    "\n",
    "# model.compile(optimizer=SGD(lr=0.01, decay=0., lr_min=0., lr_max=np.inf))\n",
    "model.compile(optimizer=Adam(), metrics=[accuracy])\n",
    "\n",
    "print('*************************************')\n",
    "print('\\n Total input dimension: {}'.format(X_train.shape), '\\n')\n",
    "print('**************MODEL SUMMARY***********')\n",
    "\n",
    "model.summary()\n",
    "\n",
    "print('\\n***********START TRAINING***********\\n')\n",
    "\n",
    "# Fit the model on the training set\n",
    "model.fit(X=X_train, y=y_train, max_iter=10, verbose=True)\n",
    "\n",
    "print('\\n***********START TESTING**************\\n')\n",
    "\n",
    "# Test the prediction with timing\n",
    "loss, out = model.evaluate(X=X_test, truth=y_test, verbose=True)\n",
    "\n",
    "truth = from_categorical(y_test)\n",
    "predicted = from_categorical(out)\n",
    "accuracy  = mean_accuracy_score(truth, predicted)\n",
    "\n",
    "print('\\nLoss Score: {:.3f}'.format(loss))\n",
    "print('Accuracy Score: {:.3f}'.format(accuracy))\n",
    "# SGD : best score I could obtain was 94% with 10 epochs, lr = 0.01 %\n",
    "# Momentum : best score I could obtain was 93% with 10 epochs\n",
    "# Adam : best score I could obtain was 95% with 10 epochs\n"
   ]
  },
  {
   "cell_type": "code",
   "execution_count": 5,
   "metadata": {},
   "outputs": [],
   "source": [
    "L=model._net[1]"
   ]
  },
  {
   "cell_type": "code",
   "execution_count": 6,
   "metadata": {},
   "outputs": [
    {
     "data": {
      "text/plain": [
       "(3, 3, 3, 32)"
      ]
     },
     "execution_count": 6,
     "metadata": {},
     "output_type": "execute_result"
    }
   ],
   "source": [
    "L.weights.shape"
   ]
  },
  {
   "cell_type": "code",
   "execution_count": 7,
   "metadata": {},
   "outputs": [
    {
     "data": {
      "image/png": "[encoded data removed]",
      "text/plain": [
       "<Figure size 432x864 with 32 Axes>"
      ]
     },
     "metadata": {
      "needs_background": "light"
     },
     "output_type": "display_data"
    }
   ],
   "source": [
    "num_filters=L.weights.shape[-1]\n",
    "\n",
    "w=L.weights\n",
    "w=w-w.min()\n",
    "w=w/w.max()\n",
    "figure(figsize=(6,12))\n",
    "for f in range(num_filters):\n",
    "    subplot(8,4,f+1)\n",
    "    im=w[:,:,:,f]    \n",
    "    imshow(im)\n",
    "    axis('off')"
   ]
  },
  {
   "cell_type": "code",
   "execution_count": 8,
   "metadata": {},
   "outputs": [
    {
     "data": {
      "text/plain": [
       "16.0"
      ]
     },
     "execution_count": 8,
     "metadata": {},
     "output_type": "execute_result"
    }
   ],
   "source": [
    "X.max()"
   ]
  },
  {
   "cell_type": "code",
   "execution_count": 9,
   "metadata": {},
   "outputs": [
    {
     "data": {
      "text/plain": [
       "0.0"
      ]
     },
     "execution_count": 9,
     "metadata": {},
     "output_type": "execute_result"
    }
   ],
   "source": [
    "X.min()"
   ]
  },
  {
   "cell_type": "code",
   "execution_count": 10,
   "metadata": {},
   "outputs": [
    {
     "data": {
      "text/plain": [
       "0.0"
      ]
     },
     "execution_count": 10,
     "metadata": {},
     "output_type": "execute_result"
    }
   ],
   "source": [
    "X_train.min()"
   ]
  },
  {
   "cell_type": "code",
   "execution_count": 11,
   "metadata": {},
   "outputs": [
    {
     "data": {
      "text/plain": [
       "0.06274509803921569"
      ]
     },
     "execution_count": 11,
     "metadata": {},
     "output_type": "execute_result"
    }
   ],
   "source": [
    "X_train.max()"
   ]
  },
  {
   "cell_type": "code",
   "execution_count": 12,
   "metadata": {},
   "outputs": [],
   "source": [
    "digits = datasets.load_digits()\n",
    "X, y = digits.images, digits.target"
   ]
  },
  {
   "cell_type": "code",
   "execution_count": 13,
   "metadata": {},
   "outputs": [
    {
     "data": {
      "text/plain": [
       "(1797, 8, 8)"
      ]
     },
     "execution_count": 13,
     "metadata": {},
     "output_type": "execute_result"
    }
   ],
   "source": [
    "X.shape"
   ]
  },
  {
   "cell_type": "code",
   "execution_count": 15,
   "metadata": {},
   "outputs": [
    {
     "data": {
      "text/plain": [
       "<matplotlib.colorbar.Colorbar at 0x7f8c8ac14b90>"
      ]
     },
     "execution_count": 15,
     "metadata": {},
     "output_type": "execute_result"
    },
    {
     "data": {
      "image/png": "[encoded data removed]",
      "text/plain": [
       "<Figure size 432x288 with 2 Axes>"
      ]
     },
     "metadata": {
      "needs_background": "light"
     },
     "output_type": "display_data"
    }
   ],
   "source": [
    "imshow(X[0,:,:])\n",
    "colorbar()"
   ]
  },
  {
   "cell_type": "code",
   "execution_count": 16,
   "metadata": {},
   "outputs": [
    {
     "data": {
      "text/plain": [
       "array([[ 0.,  0.,  5., 13.,  9.,  1.,  0.,  0.],\n",
       "       [ 0.,  0., 13., 15., 10., 15.,  5.,  0.],\n",
       "       [ 0.,  3., 15.,  2.,  0., 11.,  8.,  0.],\n",
       "       [ 0.,  4., 12.,  0.,  0.,  8.,  8.,  0.],\n",
       "       [ 0.,  5.,  8.,  0.,  0.,  9.,  8.,  0.],\n",
       "       [ 0.,  4., 11.,  0.,  1., 12.,  7.,  0.],\n",
       "       [ 0.,  2., 14.,  5., 10., 12.,  0.,  0.],\n",
       "       [ 0.,  0.,  6., 13., 10.,  0.,  0.,  0.]])"
      ]
     },
     "execution_count": 16,
     "metadata": {},
     "output_type": "execute_result"
    }
   ],
   "source": [
    "X[0,:,:]"
   ]
  },
  {
   "cell_type": "code",
   "execution_count": null,
   "metadata": {},
   "outputs": [],
   "source": []
  }
 ],
 "metadata": {
  "kernelspec": {
   "display_name": "Python 3",
   "language": "python",
   "name": "python3"
  },
  "language_info": {
   "codemirror_mode": {
    "name": "ipython",
    "version": 3
   },
   "file_extension": ".py",
   "mimetype": "text/x-python",
   "name": "python",
   "nbconvert_exporter": "python",
   "pygments_lexer": "ipython3",
   "version": "3.7.7"
  }
 },
 "nbformat": 4,
 "nbformat_minor": 4
}
