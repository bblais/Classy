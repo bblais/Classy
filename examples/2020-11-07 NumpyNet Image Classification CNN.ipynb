{
 "cells": [
  {
   "cell_type": "code",
   "execution_count": 1,
   "metadata": {},
   "outputs": [
    {
     "name": "stdout",
     "output_type": "stream",
     "text": [
      "Populating the interactive namespace from numpy and matplotlib\n",
      "Version  1.0.4\n",
      "Version:  0.0.23\n"
     ]
    }
   ],
   "source": [
    "%pylab inline\n",
    "from classy import *"
   ]
  },
  {
   "cell_type": "markdown",
   "metadata": {},
   "source": [
    "## Not converging right...not sure why"
   ]
  },
  {
   "cell_type": "code",
   "execution_count": 2,
   "metadata": {},
   "outputs": [
    {
     "name": "stdout",
     "output_type": "stream",
     "text": [
      "[9]: 180 files found\n",
      "[0]: 178 files found\n",
      "[7]: 179 files found\n",
      "[6]: 181 files found\n",
      "[1]: 182 files found\n",
      "[8]: 174 files found\n",
      "[4]: 181 files found\n",
      "[3]: 183 files found\n",
      "[2]: 177 files found\n",
      "[5]: 182 files found\n"
     ]
    }
   ],
   "source": [
    "images=image.load_images('data/digits')"
   ]
  },
  {
   "cell_type": "code",
   "execution_count": 3,
   "metadata": {},
   "outputs": [
    {
     "name": "stdout",
     "output_type": "stream",
     "text": [
      "Images\n",
      "1797 images of shape (8, 8)\n",
      "Target values given.\n",
      "Target names: '9', '0', '7', '6', '1', '8', '4', '3', '2', '5'\n"
     ]
    }
   ],
   "source": [
    "summary(images)"
   ]
  },
  {
   "cell_type": "code",
   "execution_count": 4,
   "metadata": {},
   "outputs": [
    {
     "data": {
      "text/plain": [
       "dict_keys(['DESCR', 'files', 'data', 'targets', 'target_names'])"
      ]
     },
     "execution_count": 4,
     "metadata": {},
     "output_type": "execute_result"
    }
   ],
   "source": [
    "images.keys()"
   ]
  },
  {
   "cell_type": "markdown",
   "metadata": {},
   "source": [
    "## Convolutional Neural Net"
   ]
  },
  {
   "cell_type": "code",
   "execution_count": 6,
   "metadata": {},
   "outputs": [
    {
     "name": "stdout",
     "output_type": "stream",
     "text": [
      "[9]: 180 files found\n",
      "[0]: 178 files found\n",
      "[7]: 179 files found\n",
      "[6]: 181 files found\n",
      "[1]: 182 files found\n",
      "[8]: 174 files found\n",
      "[4]: 181 files found\n",
      "[3]: 183 files found\n",
      "[2]: 177 files found\n",
      "[5]: 182 files found\n"
     ]
    }
   ],
   "source": [
    "images=image.load_images('data/digits')\n",
    "num_classes=len(images.target_names)\n",
    "images.data=[_/255*16/255 for _ in images.data]\n",
    "\n",
    "\n",
    "C=NumPyNetImageNN(\n",
    "    Convolutional_layer(size=3, filters=32, stride=1, pad=True, activation='Relu'),\n",
    "    BatchNorm_layer(),\n",
    "    Maxpool_layer(size=2, stride=1, padding=True),\n",
    "    Connected_layer(outputs=100, activation='Relu'),\n",
    "    BatchNorm_layer(),\n",
    "    Connected_layer(outputs=num_classes, activation='Linear'),\n",
    "    Softmax_layer(spatial=True, groups=1, temperature=1.),\n",
    "    )"
   ]
  },
  {
   "cell_type": "code",
   "execution_count": 7,
   "metadata": {},
   "outputs": [
    {
     "name": "stdout",
     "output_type": "stream",
     "text": [
      "Images\n",
      "1432 images of shape (8, 8)\n",
      "Target values given.\n",
      "Target names: '9', '0', '7', '6', '1', '8', '4', '3', '2', '5'\n",
      "Images\n",
      "365 images of shape (8, 8)\n",
      "Target values given.\n",
      "Target names: '9', '0', '7', '6', '1', '8', '4', '3', '2', '5'\n"
     ]
    }
   ],
   "source": [
    "images_train,images_test=image.split(images,verbose=False)\n",
    "summary(images_train)\n",
    "summary(images_test)"
   ]
  },
  {
   "cell_type": "code",
   "execution_count": 8,
   "metadata": {},
   "outputs": [
    {
     "name": "stderr",
     "output_type": "stream",
     "text": [
      "  0%|          | 0/10 [00:00<?, ?it/s]"
     ]
    },
    {
     "name": "stdout",
     "output_type": "stream",
     "text": [
      "layer       filters  size              input                output\n",
      "   0 input                  1432 x   8 x   8 x   3   ->  1432 x   8 x   8 x   3\n",
      "   1 conv     32 3 x 3 / 1  1432 x   8 x   8 x   3   ->  1432 x   8 x   8 x  32  0.000 BFLOPs\n",
      "   2 batchnorm                       8 x   8 x  32 image\n",
      "   3 max         2 x 2 / 1  1432 x   8 x   8 x  32   ->  1432 x   7 x   7 x  32\n",
      "   4 connected              1432 x   7 x   7 x  32   ->  1432 x 100\n",
      "   5 batchnorm                       1 x   1 x 100 image\n",
      "   6 connected              1432 x   1 x   1 x 100   ->  1432 x  10\n",
      "   7 softmax x entropy                                   1432 x   1 x   1 x  10\n"
     ]
    },
    {
     "name": "stderr",
     "output_type": "stream",
     "text": [
      "100%|██████████| 10/10 [00:34<00:00,  3.47s/it]\n"
     ]
    }
   ],
   "source": [
    "C.fit(images_train,epochs=10)"
   ]
  },
  {
   "cell_type": "code",
   "execution_count": 9,
   "metadata": {},
   "outputs": [
    {
     "data": {
      "text/plain": [
       "array([9, 0, 0, 7, 5, 4, 1, 3, 7, 0, 0, 7, 4, 8, 7, 7, 5, 7, 8, 4, 4, 2,\n",
       "       8, 0, 8, 1, 0, 9, 5, 8, 8, 0, 0, 0, 1, 7, 8, 0, 1, 0, 1, 1, 1, 1,\n",
       "       9, 0, 1, 9, 9, 1, 1, 1, 9, 8, 9, 1, 1, 9, 1, 8, 2, 0, 1, 1, 9, 0,\n",
       "       1, 1, 9, 1, 0, 1, 1, 1, 7, 1, 7, 2, 2, 7, 2, 4, 7, 0, 2, 7, 2, 5,\n",
       "       2, 7, 9, 0, 7, 9, 7, 2, 7, 9, 7, 7, 7, 0, 1, 2, 7, 2, 7, 3, 9, 0,\n",
       "       0, 3, 0, 6, 0, 0, 0, 0, 2, 2, 0, 0, 6, 2, 3, 2, 2, 3, 6, 0, 2, 2,\n",
       "       2, 0, 0, 0, 0, 6, 2, 0, 2, 2, 2, 1, 3, 3, 0, 8, 7, 3, 2, 8, 8, 2,\n",
       "       7, 8, 6, 2, 7, 6, 2, 7, 2, 2, 8, 8, 3, 3, 3, 2, 6, 7, 7, 3, 0, 8,\n",
       "       7, 8, 8, 0, 6, 7, 4, 3, 8, 3, 2, 8, 2, 2, 8, 0, 3, 4, 9, 7, 2, 7,\n",
       "       1, 2, 9, 0, 5, 6, 7, 2, 1, 1, 2, 0, 6, 6, 5, 8, 2, 3, 2, 8, 9, 3,\n",
       "       7, 7, 9, 3, 4, 1, 9, 6, 3, 3, 3, 6, 2, 3, 3, 1, 0, 4, 3, 3, 2, 3,\n",
       "       0, 0, 0, 3, 3, 3, 3, 4, 3, 3, 7, 3, 3, 7, 5, 6, 6, 6, 7, 9, 8, 7,\n",
       "       8, 6, 7, 7, 0, 8, 8, 7, 6, 7, 7, 8, 7, 7, 5, 7, 2, 7, 7, 8, 5, 6,\n",
       "       7, 7, 6, 5, 8, 7, 2, 2, 2, 8, 8, 8, 8, 8, 2, 8, 2, 2, 2, 8, 8, 8,\n",
       "       2, 8, 8, 8, 8, 2, 8, 8, 6, 5, 8, 8, 8, 2, 2, 2, 8, 3, 8, 8, 9, 9,\n",
       "       9, 6, 0, 9, 9, 0, 9, 1, 9, 0, 9, 9, 9, 9, 9, 9, 9, 0, 9, 6, 9, 0,\n",
       "       9, 0, 9, 9, 9, 9, 9, 9, 9, 9, 9, 0, 0])"
      ]
     },
     "execution_count": 9,
     "metadata": {},
     "output_type": "execute_result"
    }
   ],
   "source": [
    "C.predict(images_test)"
   ]
  },
  {
   "cell_type": "code",
   "execution_count": 10,
   "metadata": {},
   "outputs": [
    {
     "name": "stdout",
     "output_type": "stream",
     "text": [
      "On Training Set: 30.027932960893857\n",
      "On Test Set: 30.136986301369863\n"
     ]
    }
   ],
   "source": [
    "print(\"On Training Set:\",C.percent_correct(images_train))\n",
    "print(\"On Test Set:\",C.percent_correct(images_test))"
   ]
  },
  {
   "cell_type": "code",
   "execution_count": null,
   "metadata": {},
   "outputs": [],
   "source": []
  }
 ],
 "metadata": {
  "kernelspec": {
   "display_name": "Python 3",
   "language": "python",
   "name": "python3"
  },
  "language_info": {
   "codemirror_mode": {
    "name": "ipython",
    "version": 3
   },
   "file_extension": ".py",
   "mimetype": "text/x-python",
   "name": "python",
   "nbconvert_exporter": "python",
   "pygments_lexer": "ipython3",
   "version": "3.7.7"
  }
 },
 "nbformat": 4,
 "nbformat_minor": 4
}
