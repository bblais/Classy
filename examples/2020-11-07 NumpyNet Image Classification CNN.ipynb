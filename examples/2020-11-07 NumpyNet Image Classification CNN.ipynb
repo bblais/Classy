{
 "cells": [
  {
   "cell_type": "code",
   "execution_count": 1,
   "metadata": {},
   "outputs": [
    {
     "name": "stdout",
     "output_type": "stream",
     "text": [
      "Populating the interactive namespace from numpy and matplotlib\n",
      "Version  1.0.4\n",
      "Version:  0.0.22\n"
     ]
    }
   ],
   "source": [
    "%pylab inline\n",
    "from classy import *"
   ]
  },
  {
   "cell_type": "markdown",
   "metadata": {},
   "source": [
    "## Not converging right...not sure why"
   ]
  },
  {
   "cell_type": "code",
   "execution_count": 2,
   "metadata": {},
   "outputs": [
    {
     "name": "stdout",
     "output_type": "stream",
     "text": [
      "[9]: 180 files found\n",
      "[0]: 178 files found\n",
      "[7]: 179 files found\n",
      "[6]: 181 files found\n",
      "[1]: 182 files found\n",
      "[8]: 174 files found\n",
      "[4]: 181 files found\n",
      "[3]: 183 files found\n",
      "[2]: 177 files found\n",
      "[5]: 182 files found\n"
     ]
    }
   ],
   "source": [
    "images=image.load_images('data/digits')"
   ]
  },
  {
   "cell_type": "code",
   "execution_count": 3,
   "metadata": {},
   "outputs": [
    {
     "name": "stdout",
     "output_type": "stream",
     "text": [
      "Images\n",
      "1797 images of shape (8, 8)\n",
      "Target values given.\n",
      "Target names: '9', '0', '7', '6', '1', '8', '4', '3', '2', '5'\n"
     ]
    }
   ],
   "source": [
    "summary(images)"
   ]
  },
  {
   "cell_type": "markdown",
   "metadata": {},
   "source": [
    "## Convolutional Neural Net"
   ]
  },
  {
   "cell_type": "code",
   "execution_count": 4,
   "metadata": {},
   "outputs": [
    {
     "name": "stdout",
     "output_type": "stream",
     "text": [
      "[9]: 180 files found\n",
      "[0]: 178 files found\n",
      "[7]: 179 files found\n",
      "[6]: 181 files found\n",
      "[1]: 182 files found\n",
      "[8]: 174 files found\n",
      "[4]: 181 files found\n",
      "[3]: 183 files found\n",
      "[2]: 177 files found\n",
      "[5]: 182 files found\n"
     ]
    }
   ],
   "source": [
    "images=image.load_images('data/digits')\n",
    "num_classes=len(images.target_names)\n",
    "C=NumPyNetImageNN(\n",
    "    Convolutional_layer(size=3, filters=32, stride=1, pad=True, activation='Relu'),\n",
    "    BatchNorm_layer(),\n",
    "    Maxpool_layer(size=2, stride=1, padding=True),\n",
    "    Connected_layer(outputs=100, activation='Relu'),\n",
    "    BatchNorm_layer(),\n",
    "    Connected_layer(outputs=num_classes, activation='Linear'),\n",
    "    Softmax_layer(spatial=True, groups=1, temperature=1.),\n",
    "    )"
   ]
  },
  {
   "cell_type": "code",
   "execution_count": 5,
   "metadata": {},
   "outputs": [
    {
     "name": "stdout",
     "output_type": "stream",
     "text": [
      "Images\n",
      "1432 images of shape (8, 8)\n",
      "Target values given.\n",
      "Target names: '9', '0', '7', '6', '1', '8', '4', '3', '2', '5'\n",
      "Images\n",
      "365 images of shape (8, 8)\n",
      "Target values given.\n",
      "Target names: '9', '0', '7', '6', '1', '8', '4', '3', '2', '5'\n"
     ]
    }
   ],
   "source": [
    "images_train,images_test=image.split(images,verbose=False)\n",
    "summary(images_train)\n",
    "summary(images_test)"
   ]
  },
  {
   "cell_type": "code",
   "execution_count": 6,
   "metadata": {},
   "outputs": [
    {
     "name": "stderr",
     "output_type": "stream",
     "text": [
      "  0%|          | 0/10 [00:00<?, ?it/s]"
     ]
    },
    {
     "name": "stdout",
     "output_type": "stream",
     "text": [
      "layer       filters  size              input                output\n",
      "   0 input                  1432 x   8 x   8 x   3   ->  1432 x   8 x   8 x   3\n",
      "   1 conv     32 3 x 3 / 1  1432 x   8 x   8 x   3   ->  1432 x   8 x   8 x  32  0.000 BFLOPs\n",
      "   2 batchnorm                       8 x   8 x  32 image\n",
      "   3 max         2 x 2 / 1  1432 x   8 x   8 x  32   ->  1432 x   7 x   7 x  32\n",
      "   4 connected              1432 x   7 x   7 x  32   ->  1432 x 100\n",
      "   5 batchnorm                       1 x   1 x 100 image\n",
      "   6 connected              1432 x   1 x   1 x 100   ->  1432 x  10\n",
      "   7 softmax x entropy                                   1432 x   1 x   1 x  10\n"
     ]
    },
    {
     "name": "stderr",
     "output_type": "stream",
     "text": [
      "100%|██████████| 10/10 [00:34<00:00,  3.44s/it]\n"
     ]
    }
   ],
   "source": [
    "C.fit(images_train,epochs=10)"
   ]
  },
  {
   "cell_type": "code",
   "execution_count": 7,
   "metadata": {},
   "outputs": [
    {
     "data": {
      "text/plain": [
       "array([6, 5, 6, 5, 6, 6, 7, 6, 1, 6, 6, 5, 6, 7, 6, 1, 6, 6, 6, 6, 6, 1,\n",
       "       5, 6, 6, 6, 6, 1, 6, 1, 1, 6, 7, 5, 1, 6, 6, 1, 1, 8, 1, 8, 1, 1,\n",
       "       1, 8, 1, 1, 1, 8, 1, 1, 7, 8, 5, 1, 1, 7, 1, 1, 7, 1, 1, 1, 1, 1,\n",
       "       1, 1, 1, 1, 1, 1, 1, 5, 3, 3, 5, 2, 3, 3, 5, 3, 2, 3, 1, 3, 5, 4,\n",
       "       5, 3, 1, 9, 8, 8, 3, 6, 2, 8, 1, 3, 3, 5, 2, 8, 8, 3, 2, 3, 8, 9,\n",
       "       3, 2, 9, 9, 0, 9, 9, 9, 9, 9, 4, 9, 9, 3, 2, 9, 9, 4, 9, 2, 9, 9,\n",
       "       9, 9, 6, 9, 9, 3, 3, 3, 9, 9, 9, 3, 3, 9, 2, 2, 4, 6, 4, 4, 4, 7,\n",
       "       2, 7, 2, 2, 2, 7, 9, 2, 6, 7, 4, 5, 4, 2, 7, 5, 4, 5, 5, 6, 4, 2,\n",
       "       2, 5, 2, 2, 4, 4, 2, 5, 1, 4, 5, 5, 5, 5, 8, 5, 2, 5, 5, 5, 5, 4,\n",
       "       5, 4, 5, 1, 5, 7, 5, 5, 6, 1, 5, 5, 9, 5, 5, 5, 7, 5, 5, 5, 8, 8,\n",
       "       1, 9, 8, 5, 8, 8, 8, 5, 8, 8, 8, 8, 1, 9, 8, 8, 5, 8, 8, 8, 8, 8,\n",
       "       5, 8, 8, 8, 8, 8, 8, 9, 8, 2, 5, 8, 8, 5, 6, 6, 7, 1, 3, 6, 6, 1,\n",
       "       7, 7, 7, 7, 6, 6, 1, 6, 0, 6, 1, 4, 6, 6, 4, 6, 1, 7, 6, 0, 6, 3,\n",
       "       6, 6, 6, 6, 6, 3, 0, 6, 0, 6, 6, 4, 4, 6, 2, 2, 6, 0, 2, 4, 0, 6,\n",
       "       4, 2, 9, 6, 6, 6, 2, 6, 4, 4, 6, 6, 6, 2, 6, 6, 6, 2, 5, 0, 9, 7,\n",
       "       9, 9, 9, 3, 4, 9, 9, 4, 9, 0, 9, 9, 6, 9, 3, 5, 9, 9, 9, 9, 7, 9,\n",
       "       9, 9, 4, 9, 9, 9, 9, 6, 9, 9, 9, 9, 5])"
      ]
     },
     "execution_count": 7,
     "metadata": {},
     "output_type": "execute_result"
    }
   ],
   "source": [
    "C.predict(images_test)"
   ]
  },
  {
   "cell_type": "code",
   "execution_count": 8,
   "metadata": {},
   "outputs": [
    {
     "name": "stdout",
     "output_type": "stream",
     "text": [
      "On Training Set: 25.62849162011173\n",
      "On Test Set: 28.21917808219178\n"
     ]
    }
   ],
   "source": [
    "print(\"On Training Set:\",C.percent_correct(images_train))\n",
    "print(\"On Test Set:\",C.percent_correct(images_test))"
   ]
  },
  {
   "cell_type": "code",
   "execution_count": null,
   "metadata": {},
   "outputs": [],
   "source": []
  }
 ],
 "metadata": {
  "kernelspec": {
   "display_name": "Python 3",
   "language": "python",
   "name": "python3"
  },
  "language_info": {
   "codemirror_mode": {
    "name": "ipython",
    "version": 3
   },
   "file_extension": ".py",
   "mimetype": "text/x-python",
   "name": "python",
   "nbconvert_exporter": "python",
   "pygments_lexer": "ipython3",
   "version": "3.7.7"
  }
 },
 "nbformat": 4,
 "nbformat_minor": 4
}
