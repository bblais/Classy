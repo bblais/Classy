{
 "cells": [
  {
   "cell_type": "code",
   "execution_count": 1,
   "metadata": {},
   "outputs": [
    {
     "name": "stdout",
     "output_type": "stream",
     "text": [
      "Populating the interactive namespace from numpy and matplotlib\n",
      "Version  1.0.4\n",
      "Version:  0.0.21\n"
     ]
    }
   ],
   "source": [
    "%pylab inline\n",
    "from classy import *"
   ]
  },
  {
   "cell_type": "markdown",
   "metadata": {},
   "source": [
    "## Not converging right...not sure why"
   ]
  },
  {
   "cell_type": "code",
   "execution_count": 2,
   "metadata": {},
   "outputs": [
    {
     "name": "stdout",
     "output_type": "stream",
     "text": [
      "[9]: 180 files found\n",
      "[0]: 178 files found\n",
      "[7]: 179 files found\n",
      "[6]: 181 files found\n",
      "[1]: 182 files found\n",
      "[8]: 174 files found\n",
      "[4]: 181 files found\n",
      "[3]: 183 files found\n",
      "[2]: 177 files found\n",
      "[5]: 182 files found\n"
     ]
    }
   ],
   "source": [
    "images=image.load_images('data/digits')"
   ]
  },
  {
   "cell_type": "code",
   "execution_count": 3,
   "metadata": {},
   "outputs": [
    {
     "name": "stdout",
     "output_type": "stream",
     "text": [
      "Images\n",
      "1797 images of shape (8, 8)\n",
      "Target values given.\n",
      "Target names: '9', '0', '7', '6', '1', '8', '4', '3', '2', '5'\n"
     ]
    }
   ],
   "source": [
    "summary(images)"
   ]
  },
  {
   "cell_type": "markdown",
   "metadata": {},
   "source": [
    "## Convolutional Neural Net"
   ]
  },
  {
   "cell_type": "code",
   "execution_count": 21,
   "metadata": {},
   "outputs": [
    {
     "name": "stdout",
     "output_type": "stream",
     "text": [
      "[9]: 180 files found\n",
      "[0]: 178 files found\n",
      "[7]: 179 files found\n",
      "[6]: 181 files found\n",
      "[1]: 182 files found\n",
      "[8]: 174 files found\n",
      "[4]: 181 files found\n",
      "[3]: 183 files found\n",
      "[2]: 177 files found\n",
      "[5]: 182 files found\n"
     ]
    }
   ],
   "source": [
    "images=image.load_images('data/digits')\n",
    "num_classes=len(images.target_names)\n",
    "C=NumPyNetImageNN(\n",
    "    Convolutional_layer(size=3, filters=32, stride=1, pad=True, activation='Relu'),\n",
    "    BatchNorm_layer(),\n",
    "    Maxpool_layer(size=2, stride=1, padding=True),\n",
    "    Connected_layer(outputs=100, activation='Relu'),\n",
    "    BatchNorm_layer(),\n",
    "    Connected_layer(outputs=num_classes, activation='Linear'),\n",
    "    Softmax_layer(spatial=True, groups=1, temperature=1.),\n",
    "    )"
   ]
  },
  {
   "cell_type": "code",
   "execution_count": 22,
   "metadata": {},
   "outputs": [
    {
     "name": "stdout",
     "output_type": "stream",
     "text": [
      "Images\n",
      "1432 images of shape (8, 8)\n",
      "Target values given.\n",
      "Target names: '9', '0', '7', '6', '1', '8', '4', '3', '2', '5'\n",
      "Images\n",
      "365 images of shape (8, 8)\n",
      "Target values given.\n",
      "Target names: '9', '0', '7', '6', '1', '8', '4', '3', '2', '5'\n"
     ]
    }
   ],
   "source": [
    "images_train,images_test=image.split(images,verbose=False)\n",
    "summary(images_train)\n",
    "summary(images_test)"
   ]
  },
  {
   "cell_type": "code",
   "execution_count": 28,
   "metadata": {},
   "outputs": [
    {
     "name": "stderr",
     "output_type": "stream",
     "text": [
      "100%|██████████| 100/100 [01:48<00:00,  1.09s/it]\n"
     ]
    }
   ],
   "source": [
    "C.fit(images_train,epochs=100)"
   ]
  },
  {
   "cell_type": "code",
   "execution_count": 29,
   "metadata": {},
   "outputs": [
    {
     "data": {
      "text/plain": [
       "array([2, 2, 3, 3, 3, 3, 2, 5, 2, 2, 5, 3, 5, 3, 7, 7, 3, 5, 0, 5, 3, 3,\n",
       "       5, 0, 5, 9, 9, 1, 3, 2, 5, 3, 0, 2, 2, 0, 3, 2, 2, 2, 9, 5, 0, 8,\n",
       "       2, 3, 2, 4, 5, 3, 2, 5, 2, 2, 4, 3, 3, 5, 5, 5, 2, 2, 3, 2, 4, 3,\n",
       "       8, 4, 1, 2, 2, 5, 1, 9, 2, 1, 9, 2, 9, 1, 9, 9, 9, 2, 7, 3, 2, 1,\n",
       "       1, 9, 2, 3, 2, 2, 9, 9, 2, 9, 1, 1, 9, 1, 2, 2, 1, 4, 9, 2, 9, 2,\n",
       "       2, 9, 5, 8, 2, 3, 3, 8, 2, 3, 9, 3, 1, 3, 3, 3, 8, 8, 8, 2, 2, 3,\n",
       "       9, 9, 8, 3, 9, 3, 3, 3, 8, 8, 4, 4, 3, 3, 0, 4, 5, 1, 5, 4, 2, 4,\n",
       "       4, 1, 5, 7, 4, 4, 0, 4, 4, 4, 7, 0, 1, 7, 7, 3, 5, 7, 4, 5, 4, 4,\n",
       "       5, 4, 7, 5, 5, 4, 3, 5, 5, 5, 5, 1, 5, 5, 3, 5, 5, 5, 2, 5, 5, 5,\n",
       "       8, 4, 1, 3, 5, 5, 3, 5, 5, 2, 4, 5, 2, 5, 9, 5, 5, 5, 5, 4, 1, 8,\n",
       "       9, 9, 6, 1, 9, 9, 1, 3, 9, 9, 9, 5, 9, 9, 3, 5, 6, 6, 3, 0, 9, 2,\n",
       "       9, 6, 1, 0, 1, 8, 8, 1, 5, 1, 6, 1, 5, 9, 1, 1, 2, 1, 2, 9, 1, 9,\n",
       "       3, 1, 5, 9, 9, 1, 1, 9, 9, 9, 1, 3, 3, 7, 1, 0, 1, 3, 9, 9, 3, 5,\n",
       "       9, 1, 9, 1, 9, 9, 1, 8, 9, 9, 5, 0, 1, 8, 5, 5, 1, 5, 8, 1, 1, 0,\n",
       "       5, 1, 5, 7, 1, 5, 5, 5, 9, 1, 9, 5, 8, 3, 5, 8, 3, 9, 8, 1, 2, 2,\n",
       "       2, 9, 4, 3, 9, 2, 2, 5, 2, 7, 9, 7, 9, 9, 2, 9, 9, 7, 9, 9, 7, 7,\n",
       "       9, 3, 9, 1, 9, 9, 3, 9, 3, 9, 3, 2, 2])"
      ]
     },
     "execution_count": 29,
     "metadata": {},
     "output_type": "execute_result"
    }
   ],
   "source": [
    "C.predict(images_test)"
   ]
  },
  {
   "cell_type": "code",
   "execution_count": 30,
   "metadata": {},
   "outputs": [
    {
     "name": "stdout",
     "output_type": "stream",
     "text": [
      "On Training Set: 28.77094972067039\n",
      "On Test Set: 25.753424657534246\n"
     ]
    }
   ],
   "source": [
    "print(\"On Training Set:\",C.percent_correct(images_train))\n",
    "print(\"On Test Set:\",C.percent_correct(images_test))"
   ]
  },
  {
   "cell_type": "code",
   "execution_count": 31,
   "metadata": {},
   "outputs": [
    {
     "data": {
      "text/plain": [
       "\u001b[0;31mSignature:\u001b[0m \u001b[0mimage\u001b[0m\u001b[0;34m.\u001b[0m\u001b[0msplit\u001b[0m\u001b[0;34m(\u001b[0m\u001b[0mimages\u001b[0m\u001b[0;34m,\u001b[0m \u001b[0mtest_size\u001b[0m\u001b[0;34m=\u001b[0m\u001b[0;36m0.2\u001b[0m\u001b[0;34m,\u001b[0m \u001b[0mverbose\u001b[0m\u001b[0;34m=\u001b[0m\u001b[0;32mTrue\u001b[0m\u001b[0;34m)\u001b[0m\u001b[0;34m\u001b[0m\u001b[0;34m\u001b[0m\u001b[0m\n",
       "\u001b[0;31mDocstring:\u001b[0m <no docstring>\n",
       "\u001b[0;31mFile:\u001b[0m      ~/python/work/classy/examples/classy/image.py\n",
       "\u001b[0;31mType:\u001b[0m      function\n"
      ]
     },
     "metadata": {},
     "output_type": "display_data"
    }
   ],
   "source": [
    "image.split?"
   ]
  },
  {
   "cell_type": "code",
   "execution_count": 27,
   "metadata": {},
   "outputs": [
    {
     "data": {
      "text/plain": [
       "1432"
      ]
     },
     "execution_count": 27,
     "metadata": {},
     "output_type": "execute_result"
    }
   ],
   "source": [
    "len(images_train.data)"
   ]
  },
  {
   "cell_type": "code",
   "execution_count": null,
   "metadata": {},
   "outputs": [],
   "source": []
  }
 ],
 "metadata": {
  "kernelspec": {
   "display_name": "Python 3",
   "language": "python",
   "name": "python3"
  },
  "language_info": {
   "codemirror_mode": {
    "name": "ipython",
    "version": 3
   },
   "file_extension": ".py",
   "mimetype": "text/x-python",
   "name": "python",
   "nbconvert_exporter": "python",
   "pygments_lexer": "ipython3",
   "version": "3.7.7"
  }
 },
 "nbformat": 4,
 "nbformat_minor": 4
}
