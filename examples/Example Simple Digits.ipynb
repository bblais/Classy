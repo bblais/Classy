{
 "cells": [
  {
   "cell_type": "markdown",
   "metadata": {},
   "source": [
    "## An example of overfitting, but it has an intuitive result"
   ]
  },
  {
   "cell_type": "code",
   "execution_count": 49,
   "metadata": {
    "collapsed": false
   },
   "outputs": [
    {
     "name": "stdout",
     "output_type": "stream",
     "text": [
      "Populating the interactive namespace from numpy and matplotlib\n"
     ]
    },
    {
     "name": "stderr",
     "output_type": "stream",
     "text": [
      "WARNING: pylab import has clobbered these variables: ['split', 'text']\n",
      "`%matplotlib` prevents importing * from pylab and numpy\n"
     ]
    }
   ],
   "source": [
    "%pylab inline\n",
    "from classy import *\n",
    "from pylab import colorbar"
   ]
  },
  {
   "cell_type": "code",
   "execution_count": 50,
   "metadata": {
    "collapsed": false
   },
   "outputs": [
    {
     "name": "stdout",
     "output_type": "stream",
     "text": [
      "[0]: 1 files found\n",
      "\tdata/simple_digits/0.png\n",
      "[1]: 1 files found\n",
      "\tdata/simple_digits/1.png\n",
      "[2]: 1 files found\n",
      "\tdata/simple_digits/2.png\n",
      "[3]: 1 files found\n",
      "\tdata/simple_digits/3.png\n",
      "[4]: 1 files found\n",
      "\tdata/simple_digits/4.png\n",
      "[5]: 1 files found\n",
      "\tdata/simple_digits/5.png\n",
      "[6]: 1 files found\n",
      "\tdata/simple_digits/6.png\n",
      "[7]: 1 files found\n",
      "\tdata/simple_digits/7.png\n",
      "[8]: 1 files found\n",
      "\tdata/simple_digits/8.png\n",
      "[9]: 1 files found\n",
      "\tdata/simple_digits/9.png\n"
     ]
    }
   ],
   "source": [
    "d={}\n",
    "for i in range(10):\n",
    "    d['%d' % i]='data/simple_digits/%d.png' % i\n",
    "\n",
    "images=image.load_images_from_filepatterns(**d)\n",
    "images.target_names=[int(_) for _ in images.target_names]"
   ]
  },
  {
   "cell_type": "code",
   "execution_count": 51,
   "metadata": {
    "collapsed": false
   },
   "outputs": [
    {
     "data": {
      "text/plain": [
       "(16, 12)"
      ]
     },
     "execution_count": 51,
     "metadata": {},
     "output_type": "execute_result"
    }
   ],
   "source": [
    "images.data[0].shape"
   ]
  },
  {
   "cell_type": "code",
   "execution_count": 52,
   "metadata": {
    "collapsed": false
   },
   "outputs": [
    {
     "name": "stdout",
     "output_type": "stream",
     "text": [
      "10 vectors of length 192\n",
      "Feature names: 'p0', 'p1', 'p2', 'p3', 'p4'  , ... ,  'p187', 'p188', 'p189', 'p190', 'p191'  (192 features)\n",
      "Target values given.\n",
      "Target names: '0', '1', '2', '3', '4', '5', '6', '7', '8', '9'\n",
      "Mean:  [   8.5   23.    54.5   95.2  128.1  142.3  140.   127.5  101.1   65.5\n",
      "   31.2   14.1   18.5   45.3   98.3  152.4  190.4  205.3  201.3  187.4\n",
      "  162.3  116.6   61.9   28.2   41.3   84.7  151.3  197.4  214.9  214.5\n",
      "  206.8  204.4  206.   176.4  106.7   54.5   67.8  117.7  173.1  177.7\n",
      "  152.9  129.   119.8  135.   175.3  190.9  137.3   79.8   87.   136.7\n",
      "  168.9  131.7   80.7   55.6   51.6   71.4  128.   175.6  145.3   92.6\n",
      "   89.4  136.6  155.   104.2   56.4   46.2   52.9   70.7  118.5  162.9\n",
      "  136.8   87.6   79.8  123.1  143.6  109.3   83.8   90.3  106.   123.1\n",
      "  151.8  167.4  125.1   75.2   69.   108.   136.8  128.3  127.3  146.3\n",
      "  166.9  179.9  191.9  180.9  119.6   65.9   60.1   93.6  121.   121.1\n",
      "  131.1  152.   170.1  179.7  189.   181.2  122.2   67.7   54.8   81.7\n",
      "   96.3   86.3   91.6  109.7  122.4  130.5  152.6  168.   128.8   77.8\n",
      "   58.5   84.2   91.    67.7   62.9   77.3   82.8   87.8  119.9  155.\n",
      "  130.2   84.1   66.    98.1  114.1   90.8   77.3   81.8   82.1   86.3\n",
      "  120.3  152.5  124.9   79.9   59.7   98.7  136.6  137.6  132.   132.8\n",
      "  131.   134.7  154.2  156.9  111.4   64.4   37.6   73.4  126.2  162.6\n",
      "  183.6  195.7  193.3  184.8  174.3  141.8   84.2   41.9   15.7   38.    82.\n",
      "  128.6  164.7  183.1  180.5  162.5  133.3   92.    47.6   20.1    6.2\n",
      "   17.2   44.8   80.5  112.5  127.4  124.8  107.1   79.7   49.3   22.3\n",
      "    8.5]\n",
      "Median:  [   1.    15.    57.5  111.5  140.5  147.   148.   140.5  111.5   64.    16.\n",
      "    2.    15.    47.   113.5  181.5  208.   210.   215.5  205.5  180.\n",
      "  122.5   51.5   15.    49.5  104.5  190.5  223.5  221.   223.5  223.5\n",
      "  219.5  221.   193.   115.    57.5   72.5  132.5  215.5  199.5  151.5\n",
      "  118.5  111.   131.5  196.5  218.5  164.5   98.   100.5  158.5  219.5\n",
      "  142.    62.5   28.    28.    60.5  141.5  217.   158.    98.   101.5\n",
      "  168.5  195.   118.5   41.5   18.5   21.5   52.   124.   209.5  147.    84.\n",
      "   79.   144.5  211.   118.5  104.5   95.5  105.5  128.   176.   214.5\n",
      "  149.5   79.5   66.   129.   200.5  146.5  149.5  196.5  202.   215.   211.\n",
      "  212.   138.    66.5   48.    87.5  146.5  135.   161.   178.   198.   214.\n",
      "  214.5  222.   143.    69.5   25.    39.5   63.5   82.    89.5  108.   112.\n",
      "  128.   166.   221.   153.    84.    29.5   42.5   57.    47.5   34.\n",
      "   27.5   28.5   82.   124.   213.   153.    84.    50.5   85.5  126.5\n",
      "  120.    59.    28.    28.    65.   134.   215.   146.5   76.5   71.\n",
      "  123.5  192.5  185.5  142.   116.   120.   129.   190.5  214.   132.5\n",
      "   72.5   50.   104.5  181.5  220.   219.5  222.   226.   217.   213.\n",
      "  190.5  100.5   50.    13.5   39.    93.   146.5  186.5  206.5  212.\n",
      "  191.5  152.   113.5   47.    15.     0.    11.    45.5   93.   121.   140.\n",
      "  145.   121.    91.5   56.    13.5    0. ]\n",
      "Stddev:  [  20.37277595   27.7055951    40.17026263   43.61146638   34.51796634\n",
      "   25.80329436   34.19649105   37.641068     39.98862338   42.10522533\n",
      "   34.99657126   24.39036695   25.5          38.55139427   59.37011032\n",
      "   64.72279351   45.95693636   32.8239242    47.07663964   54.38786629\n",
      "   58.07417671   58.30814694   48.18184305   34.2192928    28.94494775\n",
      "   48.83042085   72.43900883   68.59037833   35.57372626   25.74975728\n",
      "   45.30518734   48.61933772   64.74102254   66.11384121   50.43817998\n",
      "   35.83085263   46.59141552   69.55868026   80.81392207   69.13616998\n",
      "   31.52284886   43.48562981   48.48463674   18.87855927   66.90149475\n",
      "   76.81594886   63.29936809   44.45177162   60.56896895   84.23781811\n",
      "   86.87514029   67.93828081   44.70805297   68.44150787   68.37426416\n",
      "   33.49985075   65.40030581   87.11280044   81.38187759   60.60726029\n",
      "   62.20964555   86.8092161    88.92356268   65.1502878    44.68825349\n",
      "   71.97610715   71.69163131   45.51713963   64.90030817   85.69766625\n",
      "   84.0211878    63.84543836   61.60973949   88.85094259  101.20592868\n",
      "   85.74153019   62.27648031   72.9288009    69.8140387    53.42929908\n",
      "   66.18730996   81.58823445   79.00563271   57.67807209   64.02811882\n",
      "   92.72000863  110.79783391  109.80532774   96.76161429   91.53911732\n",
      "   78.7152463    66.81983239   76.0005921    75.53204618   67.83244062\n",
      "   48.26686234   62.57068003   90.49220961  106.17155928  104.42360844\n",
      "   89.79471031   80.99382693   71.90751004   66.13781067   77.67753858\n",
      "   78.0433213    68.63497651   48.06672446   64.05279073   92.14450608\n",
      "   98.55663347   72.80666178   50.51771966   68.82158092   76.93009814\n",
      "   58.41446739   67.70406192   85.18098379   83.03830441   59.94797745\n",
      "   68.1208485    95.69932079   95.17352573   53.86845088   51.76765399\n",
      "   91.6024563    91.13703967   55.69703762   63.67644777   92.25074525\n",
      "   96.50989587   72.80583768   66.85506712   95.1161921    98.10958159\n",
      "   63.87613013   61.63773195   90.23059348   82.07977826   50.27534187\n",
      "   71.29663386   99.16980387   98.25828209   72.14076517   52.64798192\n",
      "   83.59431799  106.4238695    92.62310727   63.94059743   67.42373469\n",
      "   58.44826772   40.75549043   79.80827025   95.65087558   78.51649508\n",
      "   52.08493064   31.95997497   58.4982051    92.01282519  100.22494699\n",
      "   80.34824205   68.18951532   69.09421105   69.31204801   85.69136479\n",
      "   85.32854153   58.14086343   34.04247347   22.95234193   38.7453223\n",
      "   62.54118643   77.54250447   72.60447645   67.8033185    73.61691382\n",
      "   74.33068007   74.14991571   67.3141887    49.56046812   30.7520731\n",
      "   17.28467529   26.40757467   38.95330538   48.76115257   49.58880922\n",
      "   48.88598981   53.41872331   52.67722468   49.25048223   42.90699244\n",
      "   32.93645397   21.03924904]\n"
     ]
    }
   ],
   "source": [
    "data=image.images_to_vectors(images)"
   ]
  },
  {
   "cell_type": "code",
   "execution_count": 53,
   "metadata": {
    "collapsed": false
   },
   "outputs": [
    {
     "data": {
      "text/plain": [
       "<matplotlib.colorbar.Colorbar at 0x113b91438>"
      ]
     },
     "execution_count": 53,
     "metadata": {},
     "output_type": "execute_result"
    },
    {
     "data": {
      "image/png": "[encoded data removed]",
      "text/plain": [
       "<matplotlib.figure.Figure at 0x113286080>"
      ]
     },
     "metadata": {},
     "output_type": "display_data"
    }
   ],
   "source": [
    "image.vector_to_image(data.vectors[4,:],(16,12))\n",
    "colorbar()"
   ]
  },
  {
   "cell_type": "code",
   "execution_count": 54,
   "metadata": {
    "collapsed": false
   },
   "outputs": [
    {
     "data": {
      "text/plain": [
       "<matplotlib.colorbar.Colorbar at 0x113e980f0>"
      ]
     },
     "execution_count": 54,
     "metadata": {},
     "output_type": "execute_result"
    },
    {
     "data": {
      "image/png": "[encoded data removed]",
      "text/plain": [
       "<matplotlib.figure.Figure at 0x113289588>"
      ]
     },
     "metadata": {},
     "output_type": "display_data"
    }
   ],
   "source": [
    "data.vectors-=data.vectors.mean()\n",
    "data.vectors/=data.vectors.std()\n",
    "image.vector_to_image(data.vectors[4,:],(16,12))\n",
    "colorbar()"
   ]
  },
  {
   "cell_type": "code",
   "execution_count": 55,
   "metadata": {
    "collapsed": true
   },
   "outputs": [],
   "source": [
    "C=Perceptron()"
   ]
  },
  {
   "cell_type": "code",
   "execution_count": 56,
   "metadata": {
    "collapsed": false
   },
   "outputs": [
    {
     "name": "stdout",
     "output_type": "stream",
     "text": [
      "Time Reset\n",
      "Training time:  0.003762960433959961 seconds \n"
     ]
    }
   ],
   "source": [
    "timeit(reset=True)\n",
    "C.fit(data.vectors,data.targets)\n",
    "print(\"Training time: \",timeit())"
   ]
  },
  {
   "cell_type": "code",
   "execution_count": 57,
   "metadata": {
    "collapsed": false
   },
   "outputs": [
    {
     "name": "stdout",
     "output_type": "stream",
     "text": [
      "On Training Set: 100.0\n"
     ]
    }
   ],
   "source": [
    "print(\"On Training Set:\",C.percent_correct(data.vectors,data.targets))"
   ]
  },
  {
   "cell_type": "code",
   "execution_count": 58,
   "metadata": {
    "collapsed": false
   },
   "outputs": [
    {
     "data": {
      "text/plain": [
       "array([[ 0.54703502,  0.19036593, -0.29708182, ...,  1.31981804,\n",
       "         1.36737392,  1.36737392],\n",
       "       [ 0.52325708, -0.01174655, -1.05797587, ...,  0.55892399,\n",
       "         1.16526144,  1.34359598],\n",
       "       [ 1.84307512,  1.41507222, -0.18993867, ...,  4.5894271 ,\n",
       "         5.04120794,  4.3516477 ],\n",
       "       ..., \n",
       "       [ 2.14015694,  2.31849149,  2.22337973, ...,  0.60647987,\n",
       "         1.1414835 ,  1.31981804],\n",
       "       [ 3.04400347,  2.40199911,  1.72432785, ...,  3.34122771,\n",
       "         3.53145122,  3.86434237],\n",
       "       [ 1.93818688,  1.68851852,  1.26051561, ...,  0.2499532 ,\n",
       "         1.85496409,  2.56830227]])"
      ]
     },
     "execution_count": 58,
     "metadata": {},
     "output_type": "execute_result"
    }
   ],
   "source": [
    "C.weights"
   ]
  },
  {
   "cell_type": "code",
   "execution_count": 59,
   "metadata": {
    "collapsed": false
   },
   "outputs": [
    {
     "data": {
      "text/plain": [
       "(10, 192)"
      ]
     },
     "execution_count": 59,
     "metadata": {},
     "output_type": "execute_result"
    }
   ],
   "source": [
    "C.weights.shape"
   ]
  },
  {
   "cell_type": "code",
   "execution_count": 60,
   "metadata": {
    "collapsed": false
   },
   "outputs": [
    {
     "data": {
      "text/plain": [
       "array([[ -61.56529126,  -77.34702196,   92.92704089, -128.3153225 ,\n",
       "        -111.90751476,  -99.2861426 ,  -85.39152961,  -30.45245873,\n",
       "        -109.68555388,  -40.51738523]])"
      ]
     },
     "execution_count": 60,
     "metadata": {},
     "output_type": "execute_result"
    }
   ],
   "source": [
    "C.output(data.vectors[2,:].reshape(1,-1))"
   ]
  },
  {
   "cell_type": "code",
   "execution_count": 61,
   "metadata": {
    "collapsed": false
   },
   "outputs": [
    {
     "data": {
      "image/png": "[encoded data removed]",
      "text/plain": [
       "<matplotlib.figure.Figure at 0x113bd8cc0>"
      ]
     },
     "metadata": {},
     "output_type": "display_data"
    }
   ],
   "source": [
    "import matplotlib.pyplot as plt\n",
    "plt.figure(figsize=(16,4))\n",
    "for i in range(10):\n",
    "    plt.subplot(2,10,i+1)\n",
    "    image.vector_to_image(data.vectors[i,:],(16,12))\n",
    "    plt.axis('off')\n",
    "    \n",
    "    plt.subplot(2,10,i+11)\n",
    "    image.vector_to_image(C.weights[i,:],(16,12))\n",
    "    plt.axis('off')\n",
    "    "
   ]
  },
  {
   "cell_type": "code",
   "execution_count": 62,
   "metadata": {
    "collapsed": false
   },
   "outputs": [
    {
     "data": {
      "text/plain": [
       "array([0, 1, 2, 3, 4, 5, 6, 7, 8, 9], dtype=int32)"
      ]
     },
     "execution_count": 62,
     "metadata": {},
     "output_type": "execute_result"
    }
   ],
   "source": [
    "data.targets"
   ]
  },
  {
   "cell_type": "code",
   "execution_count": 63,
   "metadata": {
    "collapsed": false
   },
   "outputs": [
    {
     "data": {
      "text/plain": [
       "(10, 192)"
      ]
     },
     "execution_count": 63,
     "metadata": {},
     "output_type": "execute_result"
    }
   ],
   "source": [
    "data.vectors.shape"
   ]
  },
  {
   "cell_type": "code",
   "execution_count": 64,
   "metadata": {
    "collapsed": false
   },
   "outputs": [
    {
     "name": "stderr",
     "output_type": "stream",
     "text": [
      "/Users/bblais/anaconda/lib/python3.5/site-packages/sklearn/utils/validation.py:386: DeprecationWarning: Passing 1d arrays as data is deprecated in 0.17 and willraise ValueError in 0.19. Reshape your data either using X.reshape(-1, 1) if your data has a single feature or X.reshape(1, -1) if it contains a single sample.\n",
      "  DeprecationWarning)\n"
     ]
    },
    {
     "data": {
      "text/plain": [
       "[<matplotlib.lines.Line2D at 0x113ee2908>]"
      ]
     },
     "execution_count": 64,
     "metadata": {},
     "output_type": "execute_result"
    },
    {
     "data": {
      "image/png": "[encoded data removed]",
      "text/plain": [
       "<matplotlib.figure.Figure at 0x11253c898>"
      ]
     },
     "metadata": {},
     "output_type": "display_data"
    }
   ],
   "source": [
    "plt.plot(C.output(data.vectors[2,:]).ravel(),'-o')"
   ]
  },
  {
   "cell_type": "code",
   "execution_count": 65,
   "metadata": {
    "collapsed": false
   },
   "outputs": [
    {
     "data": {
      "text/plain": [
       "(1, 10)"
      ]
     },
     "execution_count": 65,
     "metadata": {},
     "output_type": "execute_result"
    }
   ],
   "source": [
    "C.output(data.vectors[2,:].reshape(1,-1)).shape"
   ]
  },
  {
   "cell_type": "markdown",
   "metadata": {
    "collapsed": true
   },
   "source": [
    "### Backprop - even though we don't need it"
   ]
  },
  {
   "cell_type": "code",
   "execution_count": 66,
   "metadata": {
    "collapsed": false
   },
   "outputs": [
    {
     "name": "stdout",
     "output_type": "stream",
     "text": [
      "Time Reset\n",
      "Training time:  0.027436017990112305 seconds \n"
     ]
    }
   ],
   "source": [
    "C=BackProp(hidden_layer_sizes = [4])\n",
    "C.max_iter=5000\n",
    "timeit(reset=True)\n",
    "C.fit(data.vectors,data.targets)\n",
    "print(\"Training time: \",timeit())"
   ]
  },
  {
   "cell_type": "code",
   "execution_count": 67,
   "metadata": {
    "collapsed": false
   },
   "outputs": [
    {
     "name": "stdout",
     "output_type": "stream",
     "text": [
      "On Training Set: 80.0\n"
     ]
    }
   ],
   "source": [
    "print(\"On Training Set:\",C.percent_correct(data.vectors,data.targets))"
   ]
  },
  {
   "cell_type": "code",
   "execution_count": 68,
   "metadata": {
    "collapsed": false
   },
   "outputs": [
    {
     "data": {
      "text/plain": [
       "((192, 4), (4, 10))"
      ]
     },
     "execution_count": 68,
     "metadata": {},
     "output_type": "execute_result"
    }
   ],
   "source": [
    "C.layers_coef_[0].shape,C.layers_coef_[1].shape"
   ]
  },
  {
   "cell_type": "code",
   "execution_count": 69,
   "metadata": {
    "collapsed": false
   },
   "outputs": [
    {
     "data": {
      "text/plain": [
       "[array([[ 299.97337963,  319.40833808,  120.83565964,    0.        ]]),\n",
       " array([[-4783.09453227,  4271.96662649, -1115.40321956, -1968.68656878,\n",
       "           120.73995734,    97.83308046,   802.22821922,  1454.67964541,\n",
       "          -508.94108822,  1337.12302326]])]"
      ]
     },
     "execution_count": 69,
     "metadata": {},
     "output_type": "execute_result"
    }
   ],
   "source": [
    "C.output(data.vectors[1,:].reshape(1,-1))"
   ]
  },
  {
   "cell_type": "code",
   "execution_count": null,
   "metadata": {
    "collapsed": true
   },
   "outputs": [],
   "source": []
  }
 ],
 "metadata": {
  "anaconda-cloud": {},
  "kernelspec": {
   "display_name": "Python [Root]",
   "language": "python",
   "name": "Python [Root]"
  },
  "language_info": {
   "codemirror_mode": {
    "name": "ipython",
    "version": 3
   },
   "file_extension": ".py",
   "mimetype": "text/x-python",
   "name": "python",
   "nbconvert_exporter": "python",
   "pygments_lexer": "ipython3",
   "version": "3.5.2"
  }
 },
 "nbformat": 4,
 "nbformat_minor": 0
}
