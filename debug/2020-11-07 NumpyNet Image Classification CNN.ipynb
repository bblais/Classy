{
 "cells": [
  {
   "cell_type": "code",
   "execution_count": 1,
   "metadata": {},
   "outputs": [
    {
     "name": "stdout",
     "output_type": "stream",
     "text": [
      "Populating the interactive namespace from numpy and matplotlib\n",
      "Version  1.0.5\n",
      "Version:  0.0.24\n"
     ]
    }
   ],
   "source": [
    "%pylab inline\n",
    "from classy import *"
   ]
  },
  {
   "cell_type": "markdown",
   "metadata": {},
   "source": [
    "Note to self: the vectors should be shuffled, or convergence isn't great"
   ]
  },
  {
   "cell_type": "code",
   "execution_count": 2,
   "metadata": {},
   "outputs": [
    {
     "name": "stdout",
     "output_type": "stream",
     "text": [
      "[9]: 180 files found\n",
      "[0]: 178 files found\n",
      "[7]: 179 files found\n",
      "[6]: 181 files found\n",
      "[1]: 182 files found\n",
      "[8]: 174 files found\n",
      "[4]: 181 files found\n",
      "[3]: 183 files found\n",
      "[2]: 177 files found\n",
      "[5]: 182 files found\n"
     ]
    }
   ],
   "source": [
    "images=image.load_images('data/digits')"
   ]
  },
  {
   "cell_type": "code",
   "execution_count": 3,
   "metadata": {},
   "outputs": [
    {
     "name": "stdout",
     "output_type": "stream",
     "text": [
      "Images\n",
      "1797 images of shape (8, 8)\n",
      "Target values given.\n",
      "Target names: '9', '0', '7', '6', '1', '8', '4', '3', '2', '5'\n"
     ]
    }
   ],
   "source": [
    "summary(images)"
   ]
  },
  {
   "cell_type": "code",
   "execution_count": 4,
   "metadata": {},
   "outputs": [
    {
     "data": {
      "text/plain": [
       "dict_keys(['DESCR', 'files', 'data', 'targets', 'target_names'])"
      ]
     },
     "execution_count": 4,
     "metadata": {},
     "output_type": "execute_result"
    }
   ],
   "source": [
    "images.keys()"
   ]
  },
  {
   "cell_type": "markdown",
   "metadata": {},
   "source": [
    "## Convolutional Neural Net"
   ]
  },
  {
   "cell_type": "code",
   "execution_count": 5,
   "metadata": {},
   "outputs": [
    {
     "name": "stdout",
     "output_type": "stream",
     "text": [
      "[9]: 180 files found\n",
      "[0]: 178 files found\n",
      "[7]: 179 files found\n",
      "[6]: 181 files found\n",
      "[1]: 182 files found\n",
      "[8]: 174 files found\n",
      "[4]: 181 files found\n",
      "[3]: 183 files found\n",
      "[2]: 177 files found\n",
      "[5]: 182 files found\n"
     ]
    }
   ],
   "source": [
    "images=image.load_images('data/digits')\n",
    "num_classes=len(images.target_names)\n",
    "images.data=[_/255.0 for _ in images.data]\n",
    "\n",
    "\n",
    "C=NumPyNetImageNN(\n",
    "    Convolutional_layer(size=3, filters=32, stride=1, pad=True, activation='Relu'),\n",
    "    BatchNorm_layer(),\n",
    "    Maxpool_layer(size=2, stride=1, padding=True),\n",
    "    Connected_layer(outputs=100, activation='Relu'),\n",
    "    BatchNorm_layer(),\n",
    "    Connected_layer(outputs=num_classes, activation='Linear'),\n",
    "    Softmax_layer(spatial=True, groups=1, temperature=1.),\n",
    "    )"
   ]
  },
  {
   "cell_type": "code",
   "execution_count": 6,
   "metadata": {},
   "outputs": [
    {
     "name": "stdout",
     "output_type": "stream",
     "text": [
      "Images\n",
      "1432 images of shape (8, 8)\n",
      "Target values given.\n",
      "Target names: '9', '0', '7', '6', '1', '8', '4', '3', '2', '5'\n",
      "Images\n",
      "365 images of shape (8, 8)\n",
      "Target values given.\n",
      "Target names: '9', '0', '7', '6', '1', '8', '4', '3', '2', '5'\n"
     ]
    }
   ],
   "source": [
    "images_train,images_test=image.split(images,verbose=False)\n",
    "summary(images_train)\n",
    "summary(images_test)"
   ]
  },
  {
   "cell_type": "code",
   "execution_count": 7,
   "metadata": {},
   "outputs": [
    {
     "name": "stderr",
     "output_type": "stream",
     "text": [
      "  0%|          | 0/10 [00:00<?, ?it/s]"
     ]
    },
    {
     "name": "stdout",
     "output_type": "stream",
     "text": [
      "layer       filters  size              input                output\n",
      "   0 input                   128 x   8 x   8 x   3   ->   128 x   8 x   8 x   3\n",
      "   1 conv     32 3 x 3 / 1   128 x   8 x   8 x   3   ->   128 x   8 x   8 x  32  0.000 BFLOPs\n",
      "   2 batchnorm                       8 x   8 x  32 image\n",
      "   3 max         2 x 2 / 1   128 x   8 x   8 x  32   ->   128 x   7 x   7 x  32\n",
      "   4 connected               128 x   7 x   7 x  32   ->   128 x 100\n",
      "   5 batchnorm                       1 x   1 x 100 image\n",
      "   6 connected               128 x   1 x   1 x 100   ->   128 x  10\n",
      "   7 softmax x entropy                                    128 x   1 x   1 x  10\n",
      "unequal batch sizes...adjusting.\n"
     ]
    },
    {
     "name": "stderr",
     "output_type": "stream",
     "text": [
      "100%|██████████| 10/10 [00:33<00:00,  3.33s/it]\n"
     ]
    }
   ],
   "source": [
    "C.fit(images_train,epochs=10,batch=128)"
   ]
  },
  {
   "cell_type": "code",
   "execution_count": 8,
   "metadata": {},
   "outputs": [
    {
     "data": {
      "text/plain": [
       "array([9, 1, 2, 4, 5, 0, 8, 9, 1, 1, 0, 4, 1, 8, 1, 0, 1, 3, 8, 4, 2, 9,\n",
       "       2, 4, 6, 5, 7, 3, 2, 3, 3, 9, 3, 6, 6, 6, 3, 7, 1, 1, 8, 5, 6, 3,\n",
       "       4, 3, 8, 3, 5, 7, 8, 5, 4, 8, 2, 1, 7, 5, 6, 1, 9, 0, 3, 5, 2, 5,\n",
       "       7, 1, 4, 6, 3, 4, 4, 8, 3, 0, 3, 5, 9, 3, 7, 6, 0, 4, 8, 4, 5, 3,\n",
       "       5, 0, 2, 7, 9, 8, 3, 4, 8, 1, 5, 4, 1, 4, 1, 7, 4, 7, 0, 9, 9, 1,\n",
       "       8, 2, 8, 7, 0, 9, 6, 0, 6, 8, 9, 9, 3, 8, 1, 9, 1, 7, 1, 6, 3, 5,\n",
       "       8, 4, 9, 0, 0, 6, 2, 3, 9, 0, 5, 3, 0, 9, 8, 8, 2, 3, 2, 7, 4, 7,\n",
       "       7, 2, 0, 4, 2, 2, 1, 6, 4, 4, 7, 0, 6, 9, 6, 4, 2, 0, 7, 1, 5, 6,\n",
       "       1, 8, 5, 2, 5, 3, 6, 8, 6, 7, 2, 7, 8, 4, 7, 2, 6, 0, 3, 5, 5, 9,\n",
       "       2, 4, 3, 8, 2, 5, 9, 5, 3, 2, 7, 9, 9, 7, 2, 0, 3, 0, 2, 4, 8, 3,\n",
       "       0, 9, 1, 9, 7, 6, 0, 5, 2, 6, 1, 6, 3, 8, 0, 8, 1, 0, 7, 6, 7, 7,\n",
       "       9, 6, 9, 1, 9, 9, 1, 0, 5, 2, 5, 2, 5, 6, 7, 0, 6, 8, 0, 9, 7, 6,\n",
       "       1, 6, 6, 4, 0, 9, 3, 2, 7, 5, 8, 4, 4, 1, 2, 9, 5, 9, 3, 5, 8, 5,\n",
       "       0, 6, 8, 4, 4, 3, 4, 6, 7, 5, 5, 9, 0, 2, 4, 7, 6, 4, 4, 0, 7, 0,\n",
       "       9, 1, 7, 8, 7, 6, 0, 5, 8, 7, 5, 9, 7, 8, 6, 2, 9, 9, 4, 3, 2, 2,\n",
       "       8, 6, 5, 1, 3, 0, 4, 9, 4, 3, 3, 1, 1, 0, 8, 3, 2, 7, 1, 1, 4, 7,\n",
       "       1, 2, 0, 4, 0, 6, 3, 1, 2, 8, 8, 6, 5])"
      ]
     },
     "execution_count": 8,
     "metadata": {},
     "output_type": "execute_result"
    }
   ],
   "source": [
    "C.predict(images_test)"
   ]
  },
  {
   "cell_type": "code",
   "execution_count": 9,
   "metadata": {},
   "outputs": [
    {
     "name": "stdout",
     "output_type": "stream",
     "text": [
      "On Training Set: 99.93016759776536\n",
      "On Test Set: 99.45205479452055\n"
     ]
    }
   ],
   "source": [
    "print(\"On Training Set:\",C.percent_correct(images_train))\n",
    "print(\"On Test Set:\",C.percent_correct(images_test))"
   ]
  },
  {
   "cell_type": "code",
   "execution_count": null,
   "metadata": {},
   "outputs": [],
   "source": []
  }
 ],
 "metadata": {
  "kernelspec": {
   "display_name": "Python 3",
   "language": "python",
   "name": "python3"
  },
  "language_info": {
   "codemirror_mode": {
    "name": "ipython",
    "version": 3
   },
   "file_extension": ".py",
   "mimetype": "text/x-python",
   "name": "python",
   "nbconvert_exporter": "python",
   "pygments_lexer": "ipython3",
   "version": "3.7.7"
  }
 },
 "nbformat": 4,
 "nbformat_minor": 4
}
