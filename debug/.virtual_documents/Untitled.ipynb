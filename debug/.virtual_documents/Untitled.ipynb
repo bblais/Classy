%matplotlib inline
from pylab import *
from classy import *


data=load_excel('data/iris.xls',verbose=True)


C=NaiveBayes()


timeit(reset=True)
C.fit(data.vectors,data.targets)
print("Training time: ",timeit())


C.predict(atleast_2d(array([1,2,3,4])))


C.save('test_save_naivebayes.json')


C1=NaiveBayes()


C1.load('test_save_naivebayes.json')
C1.predict(atleast_2d(array([1,2,3,4])))


C=kNearestNeighbor()
C.fit(data.vectors,data.targets)
C.predict(atleast_2d(array([1,2,3,4])))


C.save('test_save_kNearestNeighbor.json')



