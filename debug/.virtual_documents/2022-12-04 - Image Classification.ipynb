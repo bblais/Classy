%matplotlib inline
from pylab import *


from classy import *


images=image.load_images('images/square images/')


data=image.images_to_vectors(images)


utils.standardize(data)


summary(data)


data_train,data_test=split(data,test_size=0.2)


C=NaiveBayes()
C.fit(data_train.vectors,data_train.targets)
print("On Training Set:",C.percent_correct(data_train.vectors,data_train.targets))
print("On Test Set:",C.percent_correct(data_test.vectors,data_test.targets))


C.save('test_save_naivebayes_images.json')


C1=NaiveBayes()
C1.load('test_save_naivebayes_images.json')
print("On Training Set:",C1.percent_correct(data_train.vectors,data_train.targets))
print("On Test Set:",C1.percent_correct(data_test.vectors,data_test.targets))





C=kNearestNeighbor()
C.fit(data_train.vectors,data_train.targets)
print("On Training Set:",C.percent_correct(data_train.vectors,data_train.targets))
print("On Test Set:",C.percent_correct(data_test.vectors,data_test.targets))


C.save('test_save_knn_images.json')


C1=kNearestNeighbor()
C1.load('test_save_knn_images.json')
print("On Training Set:",C1.percent_correct(data_train.vectors,data_train.targets))
print("On Test Set:",C1.percent_correct(data_test.vectors,data_test.targets))


C=RCE()
C.fit(data_train.vectors,data_train.targets)
print("On Training Set:",C.percent_correct(data_train.vectors,data_train.targets))
print("On Test Set:",C.percent_correct(data_test.vectors,data_test.targets))


C.save('test_save_rce_images.json')


C1=RCE()
C1.load('test_save_rce_images.json')
print("On Training Set:",C1.percent_correct(data_train.vectors,data_train.targets))
print("On Test Set:",C1.percent_correct(data_test.vectors,data_test.targets))


C=CSC()
C.fit(data_train.vectors,data_train.targets)
print("On Training Set:",C.percent_correct(data_train.vectors,data_train.targets))
print("On Test Set:",C.percent_correct(data_test.vectors,data_test.targets))


C.save('test_save_csc_images.json')


C1=CSC()
C1.load('test_save_csc_images.json')
print("On Training Set:",C1.percent_correct(data_train.vectors,data_train.targets))
print("On Test Set:",C1.percent_correct(data_test.vectors,data_test.targets))


number_of_features=data_train.vectors.shape[1]
number_of_categories=len(set(data_train.targets))  # the types of pieces
print("Number of features:",number_of_features)
print("Number of categories:",number_of_categories)





C=NumPyNetBackProp({
    'input':number_of_features,               # number of features
    'output':(number_of_categories,'linear'),  # number of classes
    'cost':'mse',
})
C.fit(data_train.vectors,data_train.targets,epochs=3000)


print("On Training Set:",C.percent_correct(data_train.vectors,data_train.targets))
print("On Test Set:",C.percent_correct(data_test.vectors,data_test.targets))


C.save('test_save_perceptron_images.json')


C1=NumPyNetBackProp()
C1.load('test_save_perceptron_images.json')
print("On Training Set:",C1.percent_correct(data_train.vectors,data_train.targets))
print("On Test Set:",C1.percent_correct(data_test.vectors,data_test.targets))





C=NumPyNetBackProp({
    'input':number_of_features,               # number of features
    'hidden':[(15,'logistic'),],   # this size is "arbitrary"
    'output':(number_of_categories,'logistic'),  # number of classes
    'cost':'mse',
})
C.fit(data_train.vectors,data_train.targets,epochs=3000)


print("On Training Set:",C.percent_correct(data_train.vectors,data_train.targets))
print("On Test Set:",C.percent_correct(data_test.vectors,data_test.targets))


C.save('test_save_backprop_images.json')


C1=NumPyNetBackProp()
C1.load('test_save_backprop_images.json')
print("On Training Set:",C1.percent_correct(data_train.vectors,data_train.targets))
print("On Test Set:",C1.percent_correct(data_test.vectors,data_test.targets))



