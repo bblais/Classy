%matplotlib inline
from pylab import *
from classy import *


data=load_excel('data/iris.xls',verbose=True)


C=NaiveBayes()


timeit(reset=True)
C.fit(data.vectors,data.targets)
print("Training time: ",timeit())


C.predict(atleast_2d(array([1,2,3,4])))


C.save('test_save_naivebayes.json')


C1=NaiveBayes()


C1.load('test_save_naivebayes.json')
C1.predict(atleast_2d(array([1,2,3,4])))


C=kNearestNeighbor()
C.fit(data.vectors,data.targets)
C.predict(atleast_2d(array([1,2,3,4])))


C.save('test_save_kNearestNeighbor.json')


C1=kNearestNeighbor()


S1=dir(C1)
S2=dir(C)


set(S2)-set(S1)


C1=kNearestNeighbor()
C1.load('test_save_kNearestNeighbor.json')
C1.predict(atleast_2d(array([1,2,3,4])))


C=CSC()
C.fit(data.vectors,data.targets)
C.predict(atleast_2d(array([1,2,3,4])))


C1=CSC()


S1=dir(C1)
S2=dir(C)
set(S2)-set(S1)


C.save('test_save_CSC.json')


C1.load('test_save_CSC.json')
C1.predict(atleast_2d(array([1,2,3,4])))


C=RCE()
C.fit(data.vectors,data.targets)
C.predict(atleast_2d(array([1,2,3,4])))


C.save('test_save_RCE.json')


C1=RCE()
C1.load('test_save_RCE.json')
C1.predict(atleast_2d(array([1,2,3,4])))


C=NumPyNetBackProp({
    'input':4,               # number of features
    'output':(3,'linear'),  # number of classes
    'cost':'mse',
})


C.fit(data.vectors,data.targets,epochs=3000)


C.predict(atleast_2d(array([1,2,3,4])))


C.save('test_save_nn.json')


M=C.model


M.save_model?


M.load_model?


L=C.model.__dict__['_net'][1]


M.__dict__


C.model.batch


C1=NumPyNetBackProp({
    'input':4,               # number of features
    'output':(3,'linear'),  # number of classes
    'cost':'mse',
})


C1.init_model(C.model.batch)

layer_weights=[L.weights if 'weights' in L.__dict__ else [] for L in C.model._net ]
layer_bias=[L.bias if 'bias' in L.__dict__ else [] for L in C.model._net ]

for L,W,B in zip(C1.model._net,layer_weights,layer_bias):
    if 'weights' in L.__dict__:
        L.weights=W
        L.bias=B

C1.model._fitted=True


C1.predict(atleast_2d(array([1,2,3,4])))


C.predict(atleast_2d(array([1,2,3,4])))


C1=NumPyNetBackProp()
C1.load('test_save_nn.json')
C1.predict(atleast_2d(array([1,2,3,4])))



