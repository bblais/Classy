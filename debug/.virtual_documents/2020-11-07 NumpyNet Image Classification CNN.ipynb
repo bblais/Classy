%pylab inline
from classy import *





images=image.load_images('data/digits')


summary(images)


images.keys()





images=image.load_images('data/digits')
num_classes=len(images.target_names)
images.data=[_/255.0 for _ in images.data]


C=NumPyNetImageNN(
    Convolutional_layer(size=3, filters=32, stride=1, pad=True, activation='Relu'),
    BatchNorm_layer(),
    Maxpool_layer(size=2, stride=1, padding=True),
    Connected_layer(outputs=100, activation='Relu'),
    BatchNorm_layer(),
    Connected_layer(outputs=num_classes, activation='Linear'),
    Softmax_layer(spatial=True, groups=1, temperature=1.),
    )


images_train,images_test=image.split(images,verbose=False)
summary(images_train)
summary(images_test)


C.fit(images_train,epochs=10,batch=128)


C.predict(images_test)


print("On Training Set:",C.percent_correct(images_train))
print("On Test Set:",C.percent_correct(images_test))



