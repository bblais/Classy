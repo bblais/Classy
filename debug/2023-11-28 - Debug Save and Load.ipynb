{
 "cells": [
  {
   "cell_type": "code",
   "execution_count": 1,
   "id": "6f486244-7279-4eda-8254-64aa5565eb15",
   "metadata": {},
   "outputs": [
    {
     "name": "stdout",
     "output_type": "stream",
     "text": [
      "Version  1.0.7\n",
      "Version:  0.0.39\n"
     ]
    }
   ],
   "source": [
    "%matplotlib inline\n",
    "from pylab import *\n",
    "from classy import *"
   ]
  },
  {
   "cell_type": "code",
   "execution_count": 2,
   "id": "6fddddd0-99e6-49a4-b388-33475420c0b1",
   "metadata": {},
   "outputs": [
    {
     "name": "stdout",
     "output_type": "stream",
     "text": [
      "iris.data 151 5\n",
      "150 vectors of length 4\n",
      "Feature names: 'petal length in cm', 'petal width in cm', 'sepal length in cm', 'sepal width in cm'\n",
      "Target values given.\n",
      "Target names: 'Iris-setosa', 'Iris-versicolor', 'Iris-virginica'\n",
      "Mean:  [3.75866667 1.19866667 5.84333333 3.054     ]\n",
      "Median:  [4.35 1.3  5.8  3.  ]\n",
      "Stddev:  [1.75852918 0.76061262 0.82530129 0.43214658]\n"
     ]
    }
   ],
   "source": [
    "data=load_excel('data/iris.xls',verbose=True)"
   ]
  },
  {
   "cell_type": "code",
   "execution_count": 3,
   "id": "88cb57b8-fcc5-4495-8405-c7b3bf7ba6dd",
   "metadata": {},
   "outputs": [],
   "source": [
    "C=NaiveBayes()"
   ]
  },
  {
   "cell_type": "code",
   "execution_count": 4,
   "id": "2ae2c302-c7af-4905-9ef6-d2039094b1ef",
   "metadata": {},
   "outputs": [
    {
     "name": "stdout",
     "output_type": "stream",
     "text": [
      "Time Reset\n",
      "Training time:  0.0020580291748046875 seconds \n"
     ]
    }
   ],
   "source": [
    "timeit(reset=True)\n",
    "C.fit(data.vectors,data.targets)\n",
    "print(\"Training time: \",timeit())"
   ]
  },
  {
   "cell_type": "code",
   "execution_count": 5,
   "id": "2c38f81d-5df3-448f-aecb-4c4268c9247b",
   "metadata": {},
   "outputs": [
    {
     "data": {
      "text/plain": [
       "array([1])"
      ]
     },
     "execution_count": 5,
     "metadata": {},
     "output_type": "execute_result"
    }
   ],
   "source": [
    "C.predict(atleast_2d(array([1,2,3,4])))"
   ]
  },
  {
   "cell_type": "code",
   "execution_count": 6,
   "id": "943ce66b-3d9b-457c-9fbe-9e0eca8bcf2e",
   "metadata": {},
   "outputs": [],
   "source": [
    "C.save('test_save_naivebayes.json')"
   ]
  },
  {
   "cell_type": "code",
   "execution_count": 7,
   "id": "279e6363-dbaa-4aee-98b1-fb0a63ad0099",
   "metadata": {},
   "outputs": [],
   "source": [
    "C1=NaiveBayes()"
   ]
  },
  {
   "cell_type": "code",
   "execution_count": 8,
   "id": "b74c48cd-1a79-4063-906e-956063c314ac",
   "metadata": {},
   "outputs": [
    {
     "data": {
      "text/plain": [
       "array([1])"
      ]
     },
     "execution_count": 8,
     "metadata": {},
     "output_type": "execute_result"
    }
   ],
   "source": [
    "C1.load('test_save_naivebayes.json')\n",
    "C1.predict(atleast_2d(array([1,2,3,4])))"
   ]
  },
  {
   "cell_type": "code",
   "execution_count": 9,
   "id": "00757d1a-0719-4a84-bbd5-8d784e527d05",
   "metadata": {},
   "outputs": [
    {
     "data": {
      "text/plain": [
       "array([0])"
      ]
     },
     "execution_count": 9,
     "metadata": {},
     "output_type": "execute_result"
    }
   ],
   "source": [
    "C=kNearestNeighbor()\n",
    "C.fit(data.vectors,data.targets)\n",
    "C.predict(atleast_2d(array([1,2,3,4])))"
   ]
  },
  {
   "cell_type": "code",
   "execution_count": 10,
   "id": "13f30d2c-4318-4439-9165-ceb71cea7b7e",
   "metadata": {},
   "outputs": [],
   "source": [
    "C.save('test_save_kNearestNeighbor.json')"
   ]
  },
  {
   "cell_type": "code",
   "execution_count": 11,
   "id": "c9972abc-ef09-4121-90db-3a238a322eca",
   "metadata": {},
   "outputs": [],
   "source": [
    "C1=kNearestNeighbor()"
   ]
  },
  {
   "cell_type": "code",
   "execution_count": 12,
   "id": "cec03063-8f07-420a-bf17-fd07e9a6ec4e",
   "metadata": {},
   "outputs": [],
   "source": [
    "S1=dir(C1)\n",
    "S2=dir(C)"
   ]
  },
  {
   "cell_type": "code",
   "execution_count": 13,
   "id": "954390ed-8eb9-4d77-a6f4-7bd7d12115c2",
   "metadata": {},
   "outputs": [
    {
     "data": {
      "text/plain": [
       "{'_fit_X',\n",
       " '_fit_method',\n",
       " '_tree',\n",
       " '_y',\n",
       " 'classes_',\n",
       " 'effective_metric_',\n",
       " 'effective_metric_params_',\n",
       " 'n_features_in_',\n",
       " 'n_samples_fit_',\n",
       " 'outputs_2d_'}"
      ]
     },
     "execution_count": 13,
     "metadata": {},
     "output_type": "execute_result"
    }
   ],
   "source": [
    "set(S2)-set(S1)"
   ]
  },
  {
   "cell_type": "code",
   "execution_count": 14,
   "id": "3094c598-f061-4a66-b5f4-f1f885b873e2",
   "metadata": {},
   "outputs": [
    {
     "data": {
      "text/plain": [
       "array([0])"
      ]
     },
     "execution_count": 14,
     "metadata": {},
     "output_type": "execute_result"
    }
   ],
   "source": [
    "C1=kNearestNeighbor()\n",
    "C1.load('test_save_kNearestNeighbor.json')\n",
    "C1.predict(atleast_2d(array([1,2,3,4])))"
   ]
  },
  {
   "cell_type": "code",
   "execution_count": 15,
   "id": "b5c42e7a-3356-4209-ad4f-2d710454a2bf",
   "metadata": {},
   "outputs": [
    {
     "data": {
      "text/plain": [
       "array([0])"
      ]
     },
     "execution_count": 15,
     "metadata": {},
     "output_type": "execute_result"
    }
   ],
   "source": [
    "C=CSC()\n",
    "C.fit(data.vectors,data.targets)\n",
    "C.predict(atleast_2d(array([1,2,3,4])))"
   ]
  },
  {
   "cell_type": "code",
   "execution_count": 16,
   "id": "1c53aa12-67ae-4958-9144-7036cc114846",
   "metadata": {},
   "outputs": [],
   "source": [
    "C1=CSC()"
   ]
  },
  {
   "cell_type": "code",
   "execution_count": 17,
   "id": "e17e4ac2-95d1-492a-b869-b5bd4ea8e787",
   "metadata": {},
   "outputs": [
    {
     "data": {
      "text/plain": [
       "{'classes_'}"
      ]
     },
     "execution_count": 17,
     "metadata": {},
     "output_type": "execute_result"
    }
   ],
   "source": [
    "S1=dir(C1)\n",
    "S2=dir(C)\n",
    "set(S2)-set(S1)"
   ]
  },
  {
   "cell_type": "code",
   "execution_count": 18,
   "id": "2bb4ea29-87c2-4dce-85b9-e1cb07ea4e0a",
   "metadata": {},
   "outputs": [],
   "source": [
    "C.save('test_save_CSC.json')"
   ]
  },
  {
   "cell_type": "code",
   "execution_count": 19,
   "id": "fe71df09-216a-4cc7-8cb7-9d8c108e111f",
   "metadata": {},
   "outputs": [
    {
     "data": {
      "text/plain": [
       "array([0])"
      ]
     },
     "execution_count": 19,
     "metadata": {},
     "output_type": "execute_result"
    }
   ],
   "source": [
    "C1.load('test_save_CSC.json')\n",
    "C1.predict(atleast_2d(array([1,2,3,4])))"
   ]
  },
  {
   "cell_type": "code",
   "execution_count": 20,
   "id": "e5ca0148-ee50-40c3-9e2b-878b47be7f3b",
   "metadata": {},
   "outputs": [
    {
     "data": {
      "text/plain": [
       "array([0])"
      ]
     },
     "execution_count": 20,
     "metadata": {},
     "output_type": "execute_result"
    }
   ],
   "source": [
    "C=RCE()\n",
    "C.fit(data.vectors,data.targets)\n",
    "C.predict(atleast_2d(array([1,2,3,4])))"
   ]
  },
  {
   "cell_type": "code",
   "execution_count": 21,
   "id": "a1d3989b-8c40-4fba-b5db-d63556c60d1f",
   "metadata": {},
   "outputs": [],
   "source": [
    "C.save('test_save_RCE.json')"
   ]
  },
  {
   "cell_type": "code",
   "execution_count": 22,
   "id": "a2e45992-07ca-46f1-b432-6c88afb2139f",
   "metadata": {},
   "outputs": [
    {
     "data": {
      "text/plain": [
       "array([0])"
      ]
     },
     "execution_count": 22,
     "metadata": {},
     "output_type": "execute_result"
    }
   ],
   "source": [
    "C1=RCE()\n",
    "C1.load('test_save_RCE.json')\n",
    "C1.predict(atleast_2d(array([1,2,3,4])))"
   ]
  },
  {
   "cell_type": "code",
   "execution_count": 23,
   "id": "50a0e643-52b7-47a7-abe0-900e9fdf0c70",
   "metadata": {},
   "outputs": [],
   "source": [
    "C=NumPyNetBackProp({\n",
    "    'input':4,               # number of features\n",
    "    'output':(3,'linear'),  # number of classes\n",
    "    'cost':'mse',\n",
    "})"
   ]
  },
  {
   "cell_type": "code",
   "execution_count": 24,
   "id": "6cadecb6-a176-48ad-8416-3fefe7167c7f",
   "metadata": {},
   "outputs": [
    {
     "name": "stdout",
     "output_type": "stream",
     "text": [
      "layer       filters  size              input                output\n",
      "   0 input                   150 x   1 x   1 x   4   ->   150 x   1 x   1 x   4\n",
      "   1 connected               150 x   1 x   1 x   4   ->   150 x   3\n",
      "   2 cost                    150 x   1 x   1 x   3   ->   150 x   1 x   1 x   3\n"
     ]
    },
    {
     "name": "stderr",
     "output_type": "stream",
     "text": [
      "100%|█████████████████████████████████████████████████████████| 3000/3000 [00:01<00:00, 1564.71it/s]\n"
     ]
    }
   ],
   "source": [
    "C.fit(data.vectors,data.targets,epochs=3000)"
   ]
  },
  {
   "cell_type": "code",
   "execution_count": 25,
   "id": "260454f5-c6ba-4cad-8168-f625d04df4ab",
   "metadata": {},
   "outputs": [
    {
     "data": {
      "text/plain": [
       "array([0])"
      ]
     },
     "execution_count": 25,
     "metadata": {},
     "output_type": "execute_result"
    }
   ],
   "source": [
    "C.predict(atleast_2d(array([1,2,3,4])))"
   ]
  },
  {
   "cell_type": "code",
   "execution_count": 26,
   "id": "bf6708e5-cb07-4eb7-8702-c4b8bb90e4cd",
   "metadata": {},
   "outputs": [],
   "source": [
    "C.save('test_save_nn.json')"
   ]
  },
  {
   "cell_type": "code",
   "execution_count": 27,
   "id": "90325459-0181-40f7-ba83-51c8dee71e9d",
   "metadata": {},
   "outputs": [],
   "source": [
    "M=C.model"
   ]
  },
  {
   "cell_type": "code",
   "execution_count": 28,
   "id": "020d1334-e7bb-41e0-aa58-9c9aef3958a5",
   "metadata": {},
   "outputs": [
    {
     "data": {
      "text/plain": [
       "\u001b[0;31mSignature:\u001b[0m \u001b[0mM\u001b[0m\u001b[0;34m.\u001b[0m\u001b[0msave_model\u001b[0m\u001b[0;34m(\u001b[0m\u001b[0mmodel_filename\u001b[0m\u001b[0;34m)\u001b[0m\u001b[0;34m\u001b[0m\u001b[0;34m\u001b[0m\u001b[0m\n",
       "\u001b[0;31mDocstring:\u001b[0m Dump the current network model as pickle\n",
       "\u001b[0;31mFile:\u001b[0m      ~/anaconda3/lib/python3.11/site-packages/NumPyNet/network.py\n",
       "\u001b[0;31mType:\u001b[0m      method"
      ]
     },
     "metadata": {},
     "output_type": "display_data"
    }
   ],
   "source": [
    "M.save_model?"
   ]
  },
  {
   "cell_type": "code",
   "execution_count": 29,
   "id": "2eb84b20-e57e-4874-a20f-f85bd12ba3b4",
   "metadata": {},
   "outputs": [
    {
     "data": {
      "text/plain": [
       "\u001b[0;31mSignature:\u001b[0m \u001b[0mM\u001b[0m\u001b[0;34m.\u001b[0m\u001b[0mload_model\u001b[0m\u001b[0;34m(\u001b[0m\u001b[0mmodel_filename\u001b[0m\u001b[0;34m)\u001b[0m\u001b[0;34m\u001b[0m\u001b[0;34m\u001b[0m\u001b[0m\n",
       "\u001b[0;31mDocstring:\u001b[0m Load network model object as pickle\n",
       "\u001b[0;31mFile:\u001b[0m      ~/anaconda3/lib/python3.11/site-packages/NumPyNet/network.py\n",
       "\u001b[0;31mType:\u001b[0m      method"
      ]
     },
     "metadata": {},
     "output_type": "display_data"
    }
   ],
   "source": [
    "M.load_model?"
   ]
  },
  {
   "cell_type": "code",
   "execution_count": 30,
   "id": "60543fa6-015b-4947-8af3-7d29b51534db",
   "metadata": {},
   "outputs": [],
   "source": [
    "L=C.model.__dict__['_net'][1]"
   ]
  },
  {
   "cell_type": "code",
   "execution_count": 31,
   "id": "96aa0e9c-9310-4e72-93af-d563b5169cbb",
   "metadata": {},
   "outputs": [
    {
     "data": {
      "text/plain": [
       "{'batch': 1,\n",
       " 'train': None,\n",
       " 'w': 1,\n",
       " 'h': 1,\n",
       " 'c': 4,\n",
       " '_net': [<NumPyNet.layers.input_layer.Input_layer at 0x163099510>,\n",
       "  <NumPyNet.layers.connected_layer.Connected_layer at 0x163089110>,\n",
       "  <NumPyNet.layers.cost_layer.Cost_layer at 0x16308a2d0>],\n",
       " 'metrics': [<function classy.supervised_numpynet.accuracy(y_true, y_pred)>],\n",
       " '_fitted': True,\n",
       " 'layer_index': 3}"
      ]
     },
     "execution_count": 31,
     "metadata": {},
     "output_type": "execute_result"
    }
   ],
   "source": [
    "M.__dict__"
   ]
  },
  {
   "cell_type": "code",
   "execution_count": 32,
   "id": "6fe2718e-deb3-4603-9b00-79cbc8f15f37",
   "metadata": {},
   "outputs": [
    {
     "data": {
      "text/plain": [
       "1"
      ]
     },
     "execution_count": 32,
     "metadata": {},
     "output_type": "execute_result"
    }
   ],
   "source": [
    "C.model.batch"
   ]
  },
  {
   "cell_type": "code",
   "execution_count": 33,
   "id": "5cd72c63-3217-4a6f-9c89-17801c9ddcde",
   "metadata": {},
   "outputs": [],
   "source": [
    "C1=NumPyNetBackProp({\n",
    "    'input':4,               # number of features\n",
    "    'output':(3,'linear'),  # number of classes\n",
    "    'cost':'mse',\n",
    "})"
   ]
  },
  {
   "cell_type": "code",
   "execution_count": 34,
   "id": "7234c1e7-bc9c-486d-ad7b-e48718752278",
   "metadata": {},
   "outputs": [
    {
     "name": "stdout",
     "output_type": "stream",
     "text": [
      "layer       filters  size              input                output\n",
      "   0 input                     1 x   1 x   1 x   4   ->     1 x   1 x   1 x   4\n",
      "   1 connected                 1 x   1 x   1 x   4   ->     1 x   3\n",
      "   2 cost                      1 x   1 x   1 x   3   ->     1 x   1 x   1 x   3\n"
     ]
    }
   ],
   "source": [
    "C1.init_model(C.model.batch)\n",
    "\n",
    "layer_weights=[L.weights if 'weights' in L.__dict__ else [] for L in C.model._net ]\n",
    "layer_bias=[L.bias if 'bias' in L.__dict__ else [] for L in C.model._net ]\n",
    "\n",
    "for L,W,B in zip(C1.model._net,layer_weights,layer_bias):\n",
    "    if 'weights' in L.__dict__:\n",
    "        L.weights=W\n",
    "        L.bias=B\n",
    "\n",
    "C1.model._fitted=True"
   ]
  },
  {
   "cell_type": "code",
   "execution_count": 35,
   "id": "73fa3002-5516-4cce-9d04-8e548ccca912",
   "metadata": {},
   "outputs": [
    {
     "data": {
      "text/plain": [
       "array([0])"
      ]
     },
     "execution_count": 35,
     "metadata": {},
     "output_type": "execute_result"
    }
   ],
   "source": [
    "C1.predict(atleast_2d(array([1,2,3,4])))"
   ]
  },
  {
   "cell_type": "code",
   "execution_count": 36,
   "id": "3e8a2ceb-9bb2-43d6-b90f-44c25a77590e",
   "metadata": {},
   "outputs": [
    {
     "data": {
      "text/plain": [
       "array([0])"
      ]
     },
     "execution_count": 36,
     "metadata": {},
     "output_type": "execute_result"
    }
   ],
   "source": [
    "C.predict(atleast_2d(array([1,2,3,4])))"
   ]
  },
  {
   "cell_type": "code",
   "execution_count": 37,
   "id": "c5670ddf-bf37-4bcd-a73c-051576734120",
   "metadata": {},
   "outputs": [
    {
     "name": "stdout",
     "output_type": "stream",
     "text": [
      "layer       filters  size              input                output\n",
      "   0 input                     1 x   1 x   1 x   4   ->     1 x   1 x   1 x   4\n",
      "   1 connected                 1 x   1 x   1 x   4   ->     1 x   3\n",
      "   2 cost                      1 x   1 x   1 x   3   ->     1 x   1 x   1 x   3\n"
     ]
    },
    {
     "data": {
      "text/plain": [
       "array([2])"
      ]
     },
     "execution_count": 37,
     "metadata": {},
     "output_type": "execute_result"
    }
   ],
   "source": [
    "C1=NumPyNetBackProp()\n",
    "C1.load('test_save_nn.json')\n",
    "C1.predict(atleast_2d(array([1,2,3,4])))"
   ]
  },
  {
   "cell_type": "code",
   "execution_count": null,
   "id": "3ceaaf5a-a9cc-4c8c-89df-98f0bc6165ac",
   "metadata": {},
   "outputs": [],
   "source": []
  }
 ],
 "metadata": {
  "kernelspec": {
   "display_name": "Python 3 (ipykernel)",
   "language": "python",
   "name": "python3"
  },
  "language_info": {
   "codemirror_mode": {
    "name": "ipython",
    "version": 3
   },
   "file_extension": ".py",
   "mimetype": "text/x-python",
   "name": "python",
   "nbconvert_exporter": "python",
   "pygments_lexer": "ipython3",
   "version": "3.11.5"
  }
 },
 "nbformat": 4,
 "nbformat_minor": 5
}
